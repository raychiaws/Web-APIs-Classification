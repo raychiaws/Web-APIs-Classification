{
 "cells": [
  {
   "cell_type": "markdown",
   "metadata": {},
   "source": [
    "# Data Gathering"
   ]
  },
  {
   "cell_type": "markdown",
   "metadata": {},
   "source": [
    "The 2 subreddits chosen are SucideWatch and DomesticViolence.\n",
    "\n",
    "SucideWatch post are mainly people talking about their sucides experiences. \n",
    "\n",
    "DomesticViolence post are mainly people talking about their experiences of domestic violence."
   ]
  },
  {
   "cell_type": "code",
   "execution_count": 52,
   "metadata": {},
   "outputs": [],
   "source": [
    "import numpy as np\n",
    "import pandas as pd\n",
    "import requests\n",
    "import time\n",
    "import datetime as dt\n",
    "import json"
   ]
  },
  {
   "cell_type": "code",
   "execution_count": 53,
   "metadata": {},
   "outputs": [],
   "source": [
    "sub = 'domesticviolence'\n",
    "size = '500'"
   ]
  },
  {
   "cell_type": "code",
   "execution_count": 54,
   "metadata": {},
   "outputs": [],
   "source": [
    "url = f'https://api.pushshift.io/reddit/search/submission?subreddit={sub}&size={size}'"
   ]
  },
  {
   "cell_type": "code",
   "execution_count": 55,
   "metadata": {},
   "outputs": [],
   "source": [
    "r = requests.get(url)"
   ]
  },
  {
   "cell_type": "code",
   "execution_count": 56,
   "metadata": {},
   "outputs": [
    {
     "data": {
      "text/plain": [
       "200"
      ]
     },
     "execution_count": 56,
     "metadata": {},
     "output_type": "execute_result"
    }
   ],
   "source": [
    "r.status_code"
   ]
  },
  {
   "cell_type": "code",
   "execution_count": 57,
   "metadata": {},
   "outputs": [],
   "source": [
    "data = r.json()"
   ]
  },
  {
   "cell_type": "code",
   "execution_count": 58,
   "metadata": {},
   "outputs": [
    {
     "data": {
      "text/plain": [
       "list"
      ]
     },
     "execution_count": 58,
     "metadata": {},
     "output_type": "execute_result"
    }
   ],
   "source": [
    "type(data['data'])"
   ]
  },
  {
   "cell_type": "code",
   "execution_count": 59,
   "metadata": {},
   "outputs": [
    {
     "data": {
      "text/plain": [
       "500"
      ]
     },
     "execution_count": 59,
     "metadata": {},
     "output_type": "execute_result"
    }
   ],
   "source": [
    "len(data['data'])"
   ]
  },
  {
   "cell_type": "code",
   "execution_count": 60,
   "metadata": {},
   "outputs": [
    {
     "data": {
      "text/plain": [
       "{'all_awardings': [],\n",
       " 'allow_live_comments': False,\n",
       " 'author': '[deleted]',\n",
       " 'author_flair_background_color': '',\n",
       " 'author_flair_css_class': None,\n",
       " 'author_flair_text': None,\n",
       " 'author_flair_text_color': 'dark',\n",
       " 'awarders': [],\n",
       " 'can_mod_post': False,\n",
       " 'contest_mode': False,\n",
       " 'created_utc': 1592842102,\n",
       " 'domain': 'self.domesticviolence',\n",
       " 'edited': 1592842631,\n",
       " 'full_link': 'https://www.reddit.com/r/domesticviolence/comments/hdv5pl/my_abusive_ex_showed_up_at_my_work_but_i_think_it/',\n",
       " 'gildings': {},\n",
       " 'id': 'hdv5pl',\n",
       " 'is_crosspostable': False,\n",
       " 'is_meta': False,\n",
       " 'is_original_content': False,\n",
       " 'is_reddit_media_domain': False,\n",
       " 'is_robot_indexable': False,\n",
       " 'is_self': True,\n",
       " 'is_video': False,\n",
       " 'link_flair_background_color': '',\n",
       " 'link_flair_css_class': 'new',\n",
       " 'link_flair_richtext': [],\n",
       " 'link_flair_text': '[new]',\n",
       " 'link_flair_text_color': 'dark',\n",
       " 'link_flair_type': 'text',\n",
       " 'locked': False,\n",
       " 'media_only': False,\n",
       " 'no_follow': True,\n",
       " 'num_comments': 0,\n",
       " 'num_crossposts': 0,\n",
       " 'over_18': False,\n",
       " 'permalink': '/r/domesticviolence/comments/hdv5pl/my_abusive_ex_showed_up_at_my_work_but_i_think_it/',\n",
       " 'pinned': False,\n",
       " 'removed_by_category': 'deleted',\n",
       " 'retrieved_on': 1592850991,\n",
       " 'score': 1,\n",
       " 'selftext': '[deleted]',\n",
       " 'send_replies': True,\n",
       " 'spoiler': False,\n",
       " 'stickied': False,\n",
       " 'subreddit': 'domesticviolence',\n",
       " 'subreddit_id': 't5_2s2fr',\n",
       " 'subreddit_subscribers': 10692,\n",
       " 'subreddit_type': 'public',\n",
       " 'thumbnail': 'default',\n",
       " 'title': 'My abusive ex showed up at my work, but I think it was a coincidence. How to talk to my manager?',\n",
       " 'total_awards_received': 0,\n",
       " 'treatment_tags': [],\n",
       " 'upvote_ratio': 1.0,\n",
       " 'url': 'https://www.reddit.com/r/domesticviolence/comments/hdv5pl/my_abusive_ex_showed_up_at_my_work_but_i_think_it/'}"
      ]
     },
     "execution_count": 60,
     "metadata": {},
     "output_type": "execute_result"
    }
   ],
   "source": [
    "data['data'][0]"
   ]
  },
  {
   "cell_type": "code",
   "execution_count": 61,
   "metadata": {},
   "outputs": [],
   "source": [
    "# References used to create this code:\n",
    "# https://github.com/pushshift/api\n",
    "# Brian Collins, General Assembly instructor\n",
    "def pushshift(subreddit, post_type='submission', loops=1, skip=30):\n",
    "# subreddit: str, name of subreddit to search for\n",
    "# post_type: {'submission', 'comment'}, type of post to search for\n",
    "# loops: int, number of times to request posts\n",
    "# size: int, number of posts per request (max 500 per pushshift api guide)\n",
    "# skip: int, number of days back to search in each loop\n",
    "        # increase if too many duplicate posts are returned, decrease if you want to skip fewer posts\n",
    "    # data fields to return for submissions\n",
    "    subfields = ['author', 'author_fullname', 'created_utc', 'id', 'num_comments', 'permalink',\n",
    "                 'score', 'selftext', 'subreddit', 'title', 'url', 'is_self']\n",
    "    # data fields to return for comments\n",
    "    comfields = ['author', 'author_fullname', 'body', 'created_utc', 'id', 'parent_id',\n",
    "                'permalink', 'score', 'subreddit']\n",
    "    # instantiate list for posts data\n",
    "    list_posts = []\n",
    "    url_stem = \"https://api.pushshift.io/reddit/search/{}/?subreddit={}\".format(post_type, subreddit)\n",
    "    # skip a minimum of 1 day\n",
    "    after = 1\n",
    "    # check before requesting data\n",
    "    if post_type not in ['submission', 'comment']:\n",
    "        print(\"post_type must be 'submission' or 'comment'\")\n",
    "        return None\n",
    "    for i in range(loops):\n",
    "        # add parameters to url to skip posts (after could be used to match up to post at end of previous loop if skip = 0)\n",
    "        url = '{}&after={}d'.format(url_stem, skip * i + after)\n",
    "        # monitor status as loops run\n",
    "        print(i, url)\n",
    "        # get data\n",
    "        res = requests.get(url)\n",
    "        # add dictionaries for posts to list_posts\n",
    "        list_posts.extend(res.json()['data'])\n",
    "        # be polite\n",
    "        time.sleep(1)\n",
    "    # turn list_posts (a list of dictionaries where each dictionary contains data on one post) into a dataframe\n",
    "    df_posts = pd.DataFrame.from_dict(list_posts)\n",
    "    # filter fields for submissions or comments\n",
    "    if post_type == 'submission':\n",
    "        df_posts = df_posts[subfields]\n",
    "    elif post_type == 'comment':\n",
    "        df_posts = df_posts[comfields]\n",
    "#     else:\n",
    "#         print(\"post_type must be 'submission' or 'comment'\")\n",
    "#         return None\n",
    "    # drop any duplicates\n",
    "    #df_posts.drop_duplicates(inplace=True)\n",
    "    # add a field identifying submissions or comments\n",
    "    #df_posts['post_type'] = post_type\n",
    "    return df_posts"
   ]
  },
  {
   "cell_type": "code",
   "execution_count": 62,
   "metadata": {},
   "outputs": [
    {
     "name": "stdout",
     "output_type": "stream",
     "text": [
      "0 https://api.pushshift.io/reddit/search/submission/?subreddit=domesticviolence&after=1d\n",
      "1 https://api.pushshift.io/reddit/search/submission/?subreddit=domesticviolence&after=2d\n",
      "2 https://api.pushshift.io/reddit/search/submission/?subreddit=domesticviolence&after=3d\n",
      "3 https://api.pushshift.io/reddit/search/submission/?subreddit=domesticviolence&after=4d\n",
      "4 https://api.pushshift.io/reddit/search/submission/?subreddit=domesticviolence&after=5d\n",
      "5 https://api.pushshift.io/reddit/search/submission/?subreddit=domesticviolence&after=6d\n",
      "6 https://api.pushshift.io/reddit/search/submission/?subreddit=domesticviolence&after=7d\n",
      "7 https://api.pushshift.io/reddit/search/submission/?subreddit=domesticviolence&after=8d\n",
      "8 https://api.pushshift.io/reddit/search/submission/?subreddit=domesticviolence&after=9d\n",
      "9 https://api.pushshift.io/reddit/search/submission/?subreddit=domesticviolence&after=10d\n",
      "10 https://api.pushshift.io/reddit/search/submission/?subreddit=domesticviolence&after=11d\n",
      "11 https://api.pushshift.io/reddit/search/submission/?subreddit=domesticviolence&after=12d\n",
      "12 https://api.pushshift.io/reddit/search/submission/?subreddit=domesticviolence&after=13d\n",
      "13 https://api.pushshift.io/reddit/search/submission/?subreddit=domesticviolence&after=14d\n",
      "14 https://api.pushshift.io/reddit/search/submission/?subreddit=domesticviolence&after=15d\n",
      "15 https://api.pushshift.io/reddit/search/submission/?subreddit=domesticviolence&after=16d\n",
      "16 https://api.pushshift.io/reddit/search/submission/?subreddit=domesticviolence&after=17d\n",
      "17 https://api.pushshift.io/reddit/search/submission/?subreddit=domesticviolence&after=18d\n",
      "18 https://api.pushshift.io/reddit/search/submission/?subreddit=domesticviolence&after=19d\n",
      "19 https://api.pushshift.io/reddit/search/submission/?subreddit=domesticviolence&after=20d\n",
      "20 https://api.pushshift.io/reddit/search/submission/?subreddit=domesticviolence&after=21d\n",
      "21 https://api.pushshift.io/reddit/search/submission/?subreddit=domesticviolence&after=22d\n",
      "22 https://api.pushshift.io/reddit/search/submission/?subreddit=domesticviolence&after=23d\n",
      "23 https://api.pushshift.io/reddit/search/submission/?subreddit=domesticviolence&after=24d\n",
      "24 https://api.pushshift.io/reddit/search/submission/?subreddit=domesticviolence&after=25d\n",
      "25 https://api.pushshift.io/reddit/search/submission/?subreddit=domesticviolence&after=26d\n",
      "26 https://api.pushshift.io/reddit/search/submission/?subreddit=domesticviolence&after=27d\n",
      "27 https://api.pushshift.io/reddit/search/submission/?subreddit=domesticviolence&after=28d\n",
      "28 https://api.pushshift.io/reddit/search/submission/?subreddit=domesticviolence&after=29d\n",
      "29 https://api.pushshift.io/reddit/search/submission/?subreddit=domesticviolence&after=30d\n",
      "30 https://api.pushshift.io/reddit/search/submission/?subreddit=domesticviolence&after=31d\n",
      "31 https://api.pushshift.io/reddit/search/submission/?subreddit=domesticviolence&after=32d\n",
      "32 https://api.pushshift.io/reddit/search/submission/?subreddit=domesticviolence&after=33d\n",
      "33 https://api.pushshift.io/reddit/search/submission/?subreddit=domesticviolence&after=34d\n",
      "34 https://api.pushshift.io/reddit/search/submission/?subreddit=domesticviolence&after=35d\n",
      "35 https://api.pushshift.io/reddit/search/submission/?subreddit=domesticviolence&after=36d\n",
      "36 https://api.pushshift.io/reddit/search/submission/?subreddit=domesticviolence&after=37d\n",
      "37 https://api.pushshift.io/reddit/search/submission/?subreddit=domesticviolence&after=38d\n",
      "38 https://api.pushshift.io/reddit/search/submission/?subreddit=domesticviolence&after=39d\n",
      "39 https://api.pushshift.io/reddit/search/submission/?subreddit=domesticviolence&after=40d\n",
      "shape (975, 12)\n"
     ]
    }
   ],
   "source": [
    "domesticviolence_subs = pushshift('domesticviolence', loops=40, skip=1)\n",
    "print('shape', domesticviolence_subs.shape)"
   ]
  },
  {
   "cell_type": "code",
   "execution_count": 63,
   "metadata": {},
   "outputs": [],
   "source": [
    "domesticviolence_subs.to_csv('data/domesticviolence_subs-pushshift.csv')"
   ]
  },
  {
   "cell_type": "code",
   "execution_count": 64,
   "metadata": {},
   "outputs": [
    {
     "name": "stdout",
     "output_type": "stream",
     "text": [
      "0 https://api.pushshift.io/reddit/search/submission/?subreddit=suicidewatch&after=1d\n",
      "1 https://api.pushshift.io/reddit/search/submission/?subreddit=suicidewatch&after=2d\n",
      "2 https://api.pushshift.io/reddit/search/submission/?subreddit=suicidewatch&after=3d\n",
      "3 https://api.pushshift.io/reddit/search/submission/?subreddit=suicidewatch&after=4d\n",
      "4 https://api.pushshift.io/reddit/search/submission/?subreddit=suicidewatch&after=5d\n",
      "5 https://api.pushshift.io/reddit/search/submission/?subreddit=suicidewatch&after=6d\n",
      "6 https://api.pushshift.io/reddit/search/submission/?subreddit=suicidewatch&after=7d\n",
      "7 https://api.pushshift.io/reddit/search/submission/?subreddit=suicidewatch&after=8d\n",
      "8 https://api.pushshift.io/reddit/search/submission/?subreddit=suicidewatch&after=9d\n",
      "9 https://api.pushshift.io/reddit/search/submission/?subreddit=suicidewatch&after=10d\n",
      "10 https://api.pushshift.io/reddit/search/submission/?subreddit=suicidewatch&after=11d\n",
      "11 https://api.pushshift.io/reddit/search/submission/?subreddit=suicidewatch&after=12d\n",
      "12 https://api.pushshift.io/reddit/search/submission/?subreddit=suicidewatch&after=13d\n",
      "13 https://api.pushshift.io/reddit/search/submission/?subreddit=suicidewatch&after=14d\n",
      "14 https://api.pushshift.io/reddit/search/submission/?subreddit=suicidewatch&after=15d\n",
      "15 https://api.pushshift.io/reddit/search/submission/?subreddit=suicidewatch&after=16d\n",
      "16 https://api.pushshift.io/reddit/search/submission/?subreddit=suicidewatch&after=17d\n",
      "17 https://api.pushshift.io/reddit/search/submission/?subreddit=suicidewatch&after=18d\n",
      "18 https://api.pushshift.io/reddit/search/submission/?subreddit=suicidewatch&after=19d\n",
      "19 https://api.pushshift.io/reddit/search/submission/?subreddit=suicidewatch&after=20d\n",
      "20 https://api.pushshift.io/reddit/search/submission/?subreddit=suicidewatch&after=21d\n",
      "21 https://api.pushshift.io/reddit/search/submission/?subreddit=suicidewatch&after=22d\n",
      "22 https://api.pushshift.io/reddit/search/submission/?subreddit=suicidewatch&after=23d\n",
      "23 https://api.pushshift.io/reddit/search/submission/?subreddit=suicidewatch&after=24d\n",
      "24 https://api.pushshift.io/reddit/search/submission/?subreddit=suicidewatch&after=25d\n",
      "25 https://api.pushshift.io/reddit/search/submission/?subreddit=suicidewatch&after=26d\n",
      "26 https://api.pushshift.io/reddit/search/submission/?subreddit=suicidewatch&after=27d\n",
      "27 https://api.pushshift.io/reddit/search/submission/?subreddit=suicidewatch&after=28d\n",
      "28 https://api.pushshift.io/reddit/search/submission/?subreddit=suicidewatch&after=29d\n",
      "29 https://api.pushshift.io/reddit/search/submission/?subreddit=suicidewatch&after=30d\n",
      "30 https://api.pushshift.io/reddit/search/submission/?subreddit=suicidewatch&after=31d\n",
      "31 https://api.pushshift.io/reddit/search/submission/?subreddit=suicidewatch&after=32d\n",
      "32 https://api.pushshift.io/reddit/search/submission/?subreddit=suicidewatch&after=33d\n",
      "33 https://api.pushshift.io/reddit/search/submission/?subreddit=suicidewatch&after=34d\n",
      "34 https://api.pushshift.io/reddit/search/submission/?subreddit=suicidewatch&after=35d\n",
      "35 https://api.pushshift.io/reddit/search/submission/?subreddit=suicidewatch&after=36d\n",
      "36 https://api.pushshift.io/reddit/search/submission/?subreddit=suicidewatch&after=37d\n",
      "37 https://api.pushshift.io/reddit/search/submission/?subreddit=suicidewatch&after=38d\n",
      "38 https://api.pushshift.io/reddit/search/submission/?subreddit=suicidewatch&after=39d\n",
      "39 https://api.pushshift.io/reddit/search/submission/?subreddit=suicidewatch&after=40d\n",
      "shape (1000, 12)\n"
     ]
    }
   ],
   "source": [
    "suicidewatch_subs = pushshift('suicidewatch', loops=40, skip=1)\n",
    "print('shape', suicidewatch_subs.shape)"
   ]
  },
  {
   "cell_type": "code",
   "execution_count": 66,
   "metadata": {},
   "outputs": [],
   "source": [
    "suicidewatch_subs.to_csv('data/suicidewatch_subs-pushshift.csv')"
   ]
  },
  {
   "cell_type": "code",
   "execution_count": null,
   "metadata": {},
   "outputs": [],
   "source": []
  }
 ],
 "metadata": {
  "kernelspec": {
   "display_name": "Python 3",
   "language": "python",
   "name": "python3"
  },
  "language_info": {
   "codemirror_mode": {
    "name": "ipython",
    "version": 3
   },
   "file_extension": ".py",
   "mimetype": "text/x-python",
   "name": "python",
   "nbconvert_exporter": "python",
   "pygments_lexer": "ipython3",
   "version": "3.7.6"
  }
 },
 "nbformat": 4,
 "nbformat_minor": 4
}
