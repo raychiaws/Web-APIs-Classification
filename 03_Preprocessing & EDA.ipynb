{
 "cells": [
  {
   "cell_type": "markdown",
   "metadata": {},
   "source": [
    "# Preprocessing & EDA\n",
    "<hr>"
   ]
  },
  {
   "cell_type": "markdown",
   "metadata": {},
   "source": [
    "<p>Our baseline score has been established at 69%, which will be a benchmark for us to make comparison to other models.</p>\n",
    "\n",
    "<p>Method such as stopwords, stemming and lemmatization was used to filter out less meaningful words. </p>\n",
    "\n",
    "<p>Train test split method was used for validation and training purposes for out models.</p>\n",
    "\n",
    "<p>Through CountVectorizer and TFIDF Vectorizer function, we text the datas to matrix of word count for both subreddit SucideWatch and Domestic Violence to assist in our findings below: </p>\n",
    "\n",
    "\n",
    "<p>CVEC - both subreddit have \"Like\" as the most frequently used word. Perhaps due to the nature of these 2 subreddit being of sensitive topics whereby people could be consoling each other, people talking about their past negative experience. And if we look closely at the titles for these 2 subreddits, we will find such as \"it makes me feel like...\", \"it just feels like....\" therefore concluding the possiblity that it will appear so often in both subreddit.<br>\n",
    "\n",
    "TFIDF Vectorizer weighted \"want\" higher than \"like\" compared to Count Vectorizer, when \"like\" appeared more times than \"want\" in suicide posts. Because TF-IDF \"penalises\" words that appearing too often. These words might be a good indicator to build models that might be able to predict and identify sucidal prone individual, which will likely to be able to answer our problem statement.\n",
    "\n",
    "<hr>"
   ]
  },
  {
   "cell_type": "markdown",
   "metadata": {},
   "source": [
    "### Load Library"
   ]
  },
  {
   "cell_type": "code",
   "execution_count": 4,
   "metadata": {},
   "outputs": [],
   "source": [
    "import pandas as pd\n",
    "import seaborn as sns\n",
    "import numpy as np\n",
    "import matplotlib.pyplot as plt\n",
    "from sklearn.model_selection import train_test_split, GridSearchCV\n",
    "from sklearn.linear_model import LinearRegression, LogisticRegression\n",
    "from sklearn.neighbors import KNeighborsRegressor\n",
    "from sklearn.tree import DecisionTreeRegressor\n",
    "from sklearn.ensemble import RandomForestRegressor, BaggingRegressor, AdaBoostRegressor\n",
    "from sklearn.svm import SVR\n",
    "from sklearn.preprocessing import StandardScaler\n",
    "import re\n",
    "from bs4 import BeautifulSoup\n",
    "from nltk.tokenize import RegexpTokenizer\n",
    "from nltk.corpus import stopwords\n",
    "from sklearn.feature_extraction.text import CountVectorizer\n",
    "from sklearn.pipeline import Pipeline\n",
    "import nltk\n",
    "from sklearn.pipeline import Pipeline\n",
    "from sklearn.model_selection import GridSearchCV\n",
    "from sklearn.linear_model import LogisticRegression\n",
    "from sklearn.feature_extraction.text import CountVectorizer, TfidfVectorizer"
   ]
  },
  {
   "cell_type": "code",
   "execution_count": 5,
   "metadata": {},
   "outputs": [],
   "source": [
    "# Read in merged csv\n",
    "df = pd.read_csv('data/data_modelling.csv')"
   ]
  },
  {
   "cell_type": "code",
   "execution_count": 6,
   "metadata": {},
   "outputs": [
    {
     "data": {
      "text/plain": [
       "(1349, 3)"
      ]
     },
     "execution_count": 6,
     "metadata": {},
     "output_type": "execute_result"
    }
   ],
   "source": [
    "df.shape"
   ]
  },
  {
   "cell_type": "code",
   "execution_count": 7,
   "metadata": {},
   "outputs": [],
   "source": [
    "# Dropping Unnamed column\n",
    "df.drop('Unnamed: 0', axis=1, inplace = True)"
   ]
  },
  {
   "cell_type": "code",
   "execution_count": 8,
   "metadata": {},
   "outputs": [],
   "source": [
    "df.to_csv('data/data_modelling.csv')"
   ]
  },
  {
   "cell_type": "code",
   "execution_count": 9,
   "metadata": {},
   "outputs": [
    {
     "data": {
      "text/html": [
       "<div>\n",
       "<style scoped>\n",
       "    .dataframe tbody tr th:only-of-type {\n",
       "        vertical-align: middle;\n",
       "    }\n",
       "\n",
       "    .dataframe tbody tr th {\n",
       "        vertical-align: top;\n",
       "    }\n",
       "\n",
       "    .dataframe thead th {\n",
       "        text-align: right;\n",
       "    }\n",
       "</style>\n",
       "<table border=\"1\" class=\"dataframe\">\n",
       "  <thead>\n",
       "    <tr style=\"text-align: right;\">\n",
       "      <th></th>\n",
       "      <th>selftext</th>\n",
       "      <th>target</th>\n",
       "    </tr>\n",
       "  </thead>\n",
       "  <tbody>\n",
       "    <tr>\n",
       "      <th>0</th>\n",
       "      <td>Domestic Violence - how to navigate this when ...</td>\n",
       "      <td>1</td>\n",
       "    </tr>\n",
       "    <tr>\n",
       "      <th>1</th>\n",
       "      <td>Please give me advice, I honestly don't know t...</td>\n",
       "      <td>1</td>\n",
       "    </tr>\n",
       "    <tr>\n",
       "      <th>2</th>\n",
       "      <td>I Finally Escaped, AgainI feel stupid for goin...</td>\n",
       "      <td>1</td>\n",
       "    </tr>\n",
       "    <tr>\n",
       "      <th>3</th>\n",
       "      <td>When the man who mentally and physically abuse...</td>\n",
       "      <td>1</td>\n",
       "    </tr>\n",
       "    <tr>\n",
       "      <th>4</th>\n",
       "      <td>I feel bad for dobbing him in...Hi all,\\n\\nSo ...</td>\n",
       "      <td>1</td>\n",
       "    </tr>\n",
       "  </tbody>\n",
       "</table>\n",
       "</div>"
      ],
      "text/plain": [
       "                                            selftext  target\n",
       "0  Domestic Violence - how to navigate this when ...       1\n",
       "1  Please give me advice, I honestly don't know t...       1\n",
       "2  I Finally Escaped, AgainI feel stupid for goin...       1\n",
       "3  When the man who mentally and physically abuse...       1\n",
       "4  I feel bad for dobbing him in...Hi all,\\n\\nSo ...       1"
      ]
     },
     "execution_count": 9,
     "metadata": {},
     "output_type": "execute_result"
    }
   ],
   "source": [
    "# Double checking on columns to ensure 'Unamed Column' is dropped. \n",
    "df.head()"
   ]
  },
  {
   "cell_type": "markdown",
   "metadata": {},
   "source": [
    "### Train Test Split"
   ]
  },
  {
   "cell_type": "code",
   "execution_count": 10,
   "metadata": {},
   "outputs": [],
   "source": [
    "# defining X as predictor variable and y as target\n",
    "X = df.selftext\n",
    "y = df.target"
   ]
  },
  {
   "cell_type": "code",
   "execution_count": 11,
   "metadata": {},
   "outputs": [],
   "source": [
    "X_train_not_optimized, X_test_not_optimized, y_train, y_test = train_test_split(X, y, stratify=y, random_state=42)"
   ]
  },
  {
   "cell_type": "markdown",
   "metadata": {},
   "source": [
    "### Baseline Model"
   ]
  },
  {
   "cell_type": "code",
   "execution_count": 12,
   "metadata": {},
   "outputs": [
    {
     "data": {
      "text/plain": [
       "0    0.69634\n",
       "1    0.30366\n",
       "Name: target, dtype: float64"
      ]
     },
     "execution_count": 12,
     "metadata": {},
     "output_type": "execute_result"
    }
   ],
   "source": [
    "y_train.value_counts(normalize = True)"
   ]
  },
  {
   "cell_type": "markdown",
   "metadata": {},
   "source": [
    "**Baseline accuracy at 69%**, a benchmark for us to make comparison for other models.</h4>\n",
    "<hr>"
   ]
  },
  {
   "cell_type": "markdown",
   "metadata": {},
   "source": [
    "### Tokenizing, Stemming and Lemmatizing"
   ]
  },
  {
   "cell_type": "code",
   "execution_count": 13,
   "metadata": {},
   "outputs": [],
   "source": [
    "from nltk.stem import WordNetLemmatizer\n",
    "lemmatizer = WordNetLemmatizer()"
   ]
  },
  {
   "cell_type": "code",
   "execution_count": 14,
   "metadata": {},
   "outputs": [],
   "source": [
    "def review_to_words(raw_review):\n",
    "    # 1. Remove HTML.\n",
    "    review_text = BeautifulSoup(raw_review).get_text()\n",
    "\n",
    "    # 2. Remove non-letters.\n",
    "    letters_only = re.sub(\"[^a-zA-Z]\", \" \", review_text)\n",
    "\n",
    "    # 3. Convert to lower case, split into individual words.\n",
    "    words = letters_only.lower().split()\n",
    "\n",
    "    # 4. In Python, searching a set is much faster than searching\n",
    "    # a list, so convert the stop words to a set.\n",
    "    stops = set(stopwords.words('english'))\n",
    "\n",
    "    # 5. Remove stop words.\n",
    "    meaningful_words = [w for w in words if not w in stops]\n",
    "\n",
    "    lemmatizer = WordNetLemmatizer()\n",
    "    lem_words = [lemmatizer.lemmatize(w) for w in meaningful_words]\n",
    "\n",
    "    # 6. Join the words back into one string separated by space,\n",
    "    # and return the result.\n",
    "    return(\" \".join(meaningful_words))"
   ]
  },
  {
   "cell_type": "code",
   "execution_count": 15,
   "metadata": {},
   "outputs": [],
   "source": [
    "# Apply Lemmatizer\n",
    "df['selftext'] = df['selftext'].apply(review_to_words)"
   ]
  },
  {
   "cell_type": "code",
   "execution_count": 16,
   "metadata": {},
   "outputs": [
    {
     "name": "stdout",
     "output_type": "stream",
     "text": [
      "(1011, 1)\n"
     ]
    },
    {
     "data": {
      "text/html": [
       "<div>\n",
       "<style scoped>\n",
       "    .dataframe tbody tr th:only-of-type {\n",
       "        vertical-align: middle;\n",
       "    }\n",
       "\n",
       "    .dataframe tbody tr th {\n",
       "        vertical-align: top;\n",
       "    }\n",
       "\n",
       "    .dataframe thead th {\n",
       "        text-align: right;\n",
       "    }\n",
       "</style>\n",
       "<table border=\"1\" class=\"dataframe\">\n",
       "  <thead>\n",
       "    <tr style=\"text-align: right;\">\n",
       "      <th></th>\n",
       "      <th>selftext</th>\n",
       "    </tr>\n",
       "  </thead>\n",
       "  <tbody>\n",
       "    <tr>\n",
       "      <th>587</th>\n",
       "      <td>Expecting first child 3 months ago, now left w...</td>\n",
       "    </tr>\n",
       "    <tr>\n",
       "      <th>1063</th>\n",
       "      <td>I fear that I have a low IQ, and its caused me...</td>\n",
       "    </tr>\n",
       "    <tr>\n",
       "      <th>996</th>\n",
       "      <td>AddictionMy addiction is very embarrassing to ...</td>\n",
       "    </tr>\n",
       "    <tr>\n",
       "      <th>204</th>\n",
       "      <td>Finally seeing the abuse as they really were.I...</td>\n",
       "    </tr>\n",
       "    <tr>\n",
       "      <th>961</th>\n",
       "      <td>I don't want you to die.... I mean... I can't ...</td>\n",
       "    </tr>\n",
       "  </tbody>\n",
       "</table>\n",
       "</div>"
      ],
      "text/plain": [
       "                                               selftext\n",
       "587   Expecting first child 3 months ago, now left w...\n",
       "1063  I fear that I have a low IQ, and its caused me...\n",
       "996   AddictionMy addiction is very embarrassing to ...\n",
       "204   Finally seeing the abuse as they really were.I...\n",
       "961   I don't want you to die.... I mean... I can't ..."
      ]
     },
     "execution_count": 16,
     "metadata": {},
     "output_type": "execute_result"
    }
   ],
   "source": [
    "# Showing \"Not optimized X_train data\" for comparison to \"optimzed X_train data\" shown below\n",
    "print(pd.DataFrame(X_train_not_optimized).shape)\n",
    "pd.DataFrame(X_train_not_optimized).head()"
   ]
  },
  {
   "cell_type": "code",
   "execution_count": 17,
   "metadata": {},
   "outputs": [],
   "source": [
    "X_train, X_test, y_train, y_test = train_test_split(X, y, stratify=y, random_state=42)"
   ]
  },
  {
   "cell_type": "code",
   "execution_count": 18,
   "metadata": {},
   "outputs": [
    {
     "name": "stdout",
     "output_type": "stream",
     "text": [
      "(1011, 1)\n"
     ]
    },
    {
     "data": {
      "text/html": [
       "<div>\n",
       "<style scoped>\n",
       "    .dataframe tbody tr th:only-of-type {\n",
       "        vertical-align: middle;\n",
       "    }\n",
       "\n",
       "    .dataframe tbody tr th {\n",
       "        vertical-align: top;\n",
       "    }\n",
       "\n",
       "    .dataframe thead th {\n",
       "        text-align: right;\n",
       "    }\n",
       "</style>\n",
       "<table border=\"1\" class=\"dataframe\">\n",
       "  <thead>\n",
       "    <tr style=\"text-align: right;\">\n",
       "      <th></th>\n",
       "      <th>selftext</th>\n",
       "    </tr>\n",
       "  </thead>\n",
       "  <tbody>\n",
       "    <tr>\n",
       "      <th>587</th>\n",
       "      <td>expecting first child months ago left nothing ...</td>\n",
       "    </tr>\n",
       "    <tr>\n",
       "      <th>1063</th>\n",
       "      <td>fear low iq caused attempt multiple times know...</td>\n",
       "    </tr>\n",
       "    <tr>\n",
       "      <th>996</th>\n",
       "      <td>addictionmy addiction embarrassing talk may ha...</td>\n",
       "    </tr>\n",
       "    <tr>\n",
       "      <th>204</th>\n",
       "      <td>finally seeing abuse really relationship one w...</td>\n",
       "    </tr>\n",
       "    <tr>\n",
       "      <th>961</th>\n",
       "      <td>want die mean stop</td>\n",
       "    </tr>\n",
       "  </tbody>\n",
       "</table>\n",
       "</div>"
      ],
      "text/plain": [
       "                                               selftext\n",
       "587   expecting first child months ago left nothing ...\n",
       "1063  fear low iq caused attempt multiple times know...\n",
       "996   addictionmy addiction embarrassing talk may ha...\n",
       "204   finally seeing abuse really relationship one w...\n",
       "961                                  want die mean stop"
      ]
     },
     "execution_count": 18,
     "metadata": {},
     "output_type": "execute_result"
    }
   ],
   "source": [
    "# Showing Optimized X_train data.\n",
    "print((pd.DataFrame(X_train, columns=['selftext']).shape))\n",
    "pd.DataFrame(X_train,columns=['selftext']).head()"
   ]
  },
  {
   "cell_type": "markdown",
   "metadata": {},
   "source": [
    "# EDA"
   ]
  },
  {
   "cell_type": "markdown",
   "metadata": {},
   "source": [
    "### Count Vectorization"
   ]
  },
  {
   "cell_type": "code",
   "execution_count": 19,
   "metadata": {},
   "outputs": [],
   "source": [
    "#CVEC for Domestic Violence\n",
    "vectorizer = CountVectorizer(analyzer = \"word\", \n",
    "                             tokenizer = None, \n",
    "                             preprocessor = None,\n",
    "                             stop_words = \"english\", \n",
    "                             max_features = 5000) \n",
    "\n",
    "# input for CountVectorizer is an array of strings\n",
    "domesticviolence_vector_input = df[df['target'] == 0]['selftext']\n",
    "\n",
    "# fit_transform the vectorizer\n",
    "dom_words = vectorizer.fit_transform(domesticviolence_vector_input)\n",
    "\n",
    "# convert output to a Numpy array\n",
    "dom_words = dom_words.toarray()"
   ]
  },
  {
   "cell_type": "code",
   "execution_count": 20,
   "metadata": {},
   "outputs": [
    {
     "name": "stdout",
     "output_type": "stream",
     "text": [
      "['abandoned', 'abandonment', 'ability', 'able', 'abomination', 'abroad', 'absent', 'absolute', 'absolutely', 'absorbed', 'abstract', 'absurdism', 'abuse', 'abused', 'abuses', 'abusing', 'abusive', 'abyss', 'academic', 'acc', 'accept', 'acceptable', 'accepted', 'accepting', 'access', 'accident', 'accidentally', 'accomplish', 'accomplished', 'accomplishing', 'according', 'account', 'accounts', 'accurate', 'acetaminophen', 'aches', 'achieve', 'achieved', 'achievements', 'aching', 'acknowledge', 'acknowledged', 'act', 'acted', 'acting', 'action', 'actions', 'active', 'actively', 'activity', 'acts', 'actual', 'actually', 'adapt', 'add', 'addict', 'addicted', 'addiction', 'adding', 'additional', 'address', 'adhd', 'adjusted', 'admit', 'admitted', 'adolescence', 'adopted', 'adult', 'adults', 'advance', 'advantage', 'advice', 'af', 'affairs', 'affect', 'affected', 'affects', 'afford', 'afraid', 'afterlife', 'againi', 'age', 'ages', 'aggression', 'aggressive', 'aggressively', 'ago', 'agony', 'agree', 'agreed', 'agreement', 'ahead', 'aid', 'air', 'alarming', 'alcohol', 'alcoholic', 'alert', 'alien', 'alike', 'alimemazin', 'alive', 'alivei', 'allergies', 'allow', 'allowed', 'allowing', 'alonei', 'alongside', 'alot', 'alright', 'alt', 'alternative', 'alzheimers', 'amazing', 'ambulance', 'america', 'american', 'amounting', 'amounts', 'android', 'ane', 'anf', 'anger', 'angry', 'animal', 'animals', 'animus', 'ankle', 'anniversary', 'annoy', 'annoyed', 'annoying', 'anonymous', 'answer', 'answering', 'answers', 'ant', 'anti', 'antidepressant', 'antidepressants', 'ants', 'anxiety', 'anxious', 'anybody', 'anykne', 'anymore', 'anymorei', 'anytime', 'anyways', 'apart', 'apartment', 'apologies', 'apologize', 'apologized', 'app', 'apparently', 'appeal', 'appear', 'appears', 'applies', 'apply', 'applying', 'appointment', 'appointments', 'appreciate', 'appreciated', 'approach', 'approached', 'approaching', 'appropriate', 'approximately', 'april', 'area', 'arent', 'argue', 'argued', 'arguing', 'argument', 'arguments', 'arm', 'arms', 'arranged', 'arrested', 'arrived', 'art', 'artery', 'asap', 'ashamed', 'asian', 'aside', 'ask', 'asked', 'asking', 'asks', 'asleep', 'aspect', 'aspects', 'asperger', 'aspirations', 'ass', 'assault', 'assaulted', 'assessment', 'asshole', 'assholes', 'assignment', 'assignments', 'assistance', 'assisted', 'associated', 'associates', 'associating', 'assume', 'assuming', 'asymmetry', 'atm', 'attached', 'attachment', 'attack', 'attacked', 'attacking', 'attacks', 'attempt', 'attempted', 'attempting', 'attempts', 'attend', 'attended', 'attention', 'attitude', 'attracted', 'attraction', 'attractive', 'attracts', 'august', 'aunt', 'authentically', 'autism', 'autistic', 'auto', 'avail', 'available', 'average', 'avoid', 'avoiding', 'awake', 'aware', 'awareness', 'away', 'awesome', 'awful', 'awhile', 'awkward', 'ba', 'baby', 'babysit', 'bachelor', 'backed', 'background', 'backing', 'backstory', 'bad', 'badly', 'bag', 'baggage', 'bail', 'balance', 'balcony', 'balls', 'band', 'bang', 'bank', 'banned', 'bar', 'bare', 'barely', 'barn', 'barrier', 'base', 'based', 'basement', 'basic', 'basically', 'basis', 'bathroom', 'battle', 'battled', 'battles', 'battling', 'bawling', 'bc', 'bcz', 'beam', 'bear', 'beat', 'beaten', 'beater', 'beating', 'beautiful', 'beauty', 'bed', 'bedroom', 'beg', 'began', 'begged', 'begging', 'begin', 'beginning', 'begun', 'behave', 'behavior', 'behavioral', 'beliefs', 'believe', 'believed', 'believes', 'believing', 'belong', 'belt', 'bend', 'benefit', 'benefits', 'benzo', 'benzos', 'best', 'bestiality', 'bet', 'better', 'bewildering', 'bf', 'bi', 'big', 'bigger', 'biggest', 'bike', 'bills', 'bin', 'bio', 'biological', 'bipolar', 'birth', 'birthday', 'bisexual', 'bit', 'bitch', 'bitcoin', 'bite', 'bitter', 'bitterness', 'bla', 'black', 'bladder', 'blade', 'blah', 'blame', 'blamed', 'blames', 'blaming', 'blank', 'bleach', 'bleak', 'bleed', 'bleeding', 'blind', 'blissful', 'block', 'blocked', 'blockers', 'blood', 'blow', 'blowing', 'blue', 'blunt', 'blur', 'blurry', 'board', 'boardwalk', 'bodies', 'body', 'boil', 'bonds', 'bone', 'bones', 'book', 'books', 'borderline', 'bored', 'boring', 'born', 'boss', 'botched', 'bother', 'bothered', 'bothers', 'bottle', 'bottles', 'bottling', 'bought', 'boundaries', 'bout', 'bowel', 'boy', 'boyfriend', 'boys', 'bpd', 'brag', 'brain', 'brains', 'brat', 'brave', 'break', 'breakdown', 'breakdowns', 'breaking', 'breaks', 'breakup', 'breasts', 'breath', 'breathe', 'breathing', 'brick', 'bridge', 'bridges', 'brief', 'bright', 'brighteon', 'brighter', 'bring', 'brings', 'bro', 'broke', 'broken', 'brother', 'brothers', 'brought', 'bruise', 'bruised', 'bruises', 'brutality', 'bs', 'btc', 'btw', 'bucket', 'build', 'building', 'bullet', 'bullied', 'bullshit', 'bully', 'bullying', 'bunch', 'burden', 'burdening', 'burdens', 'burn', 'burned', 'burning', 'burnt', 'burst', 'bursts', 'bury', 'bus', 'business', 'busy', 'butt', 'button', 'buy', 'buying', 'bye', 'bystander', 'cabinet', 'cairo', 'called', 'calling', 'calls', 'calm', 'calmly', 'came', 'canada', 'cancer', 'capable', 'capsules', 'car', 'carbon', 'card', 'care', 'cared', 'career', 'cares', 'caring', 'carried', 'carry', 'carrying', 'cars', 'case', 'cases', 'cash', 'casually', 'cat', 'catch', 'caught', 'cause', 'caused', 'causes', 'causing', 'cbt', 'ceiling', 'center', 'certain', 'certainly', 'cfs', 'challenge', 'challenges', 'challenging', 'chance', 'chances', 'change', 'changed', 'changes', 'changing', 'chaos', 'chaotic', 'character', 'characterized', 'charge', 'chat', 'cheap', 'cheaper', 'cheat', 'cheated', 'cheating', 'check', 'checking', 'checks', 'cheer', 'chemical', 'chemicals', 'chest', 'child', 'childhood', 'children', 'chile', 'chill', 'choice', 'choices', 'choking', 'choose', 'chore', 'chores', 'chosen', 'christian', 'christmas', 'chronic', 'chronically', 'church', 'churning', 'cigarettes', 'circles', 'circling', 'circumstances', 'cit', 'city', 'class', 'classes', 'classmates', 'clean', 'cleaned', 'cleaning', 'clear', 'cleared', 'clearly', 'cliff', 'climbed', 'climbing', 'clinic', 'clinical', 'close', 'closed', 'closer', 'closest', 'closet', 'closeted', 'clothes', 'cloud', 'club', 'clue', 'cock', 'codes', 'coffin', 'coherent', 'cold', 'colleague', 'college', 'color', 'com', 'coma', 'combined', 'combo', 'come', 'comeback', 'comes', 'comfort', 'comfortable', 'comforting', 'coming', 'comment', 'comments', 'commercial', 'commit', 'commited', 'commiting', 'commitment', 'committed', 'committing', 'common', 'communicate', 'communicating', 'community', 'company', 'compare', 'compared', 'compassion', 'compassionate', 'compete', 'complain', 'complained', 'complaining', 'complete', 'completely', 'complex', 'complicated', 'compulsive', 'computer', 'concentrate', 'concept', 'concern', 'concerned', 'concerns', 'conclude', 'concrete', 'condescending', 'condition', 'conditions', 'confide', 'confided', 'confidence', 'confident', 'confirm', 'confirmed', 'conflicted', 'conflicting', 'confront', 'confronted', 'confused', 'confusing', 'confusion', 'connect', 'connected', 'connection', 'conscious', 'consciousness', 'consent', 'consequence', 'consequences', 'conservative', 'consider', 'considered', 'considering', 'consistently', 'console', 'conspiracy', 'constant', 'constantly', 'construction', 'consume', 'consumed', 'consuming', 'contact', 'contacted', 'contacting', 'contacts', 'contemplated', 'contemplating', 'content', 'context', 'continue', 'continued', 'continues', 'continuing', 'continuous', 'contract', 'contribute', 'contributing', 'control', 'controlled', 'conversation', 'conversations', 'convince', 'convinced', 'convincing', 'cook', 'cooking', 'cool', 'cope', 'coping', 'cops', 'copy', 'corner', 'corona', 'coronavirus', 'correct', 'cost', 'costed', 'costs', 'couch', 'counseling', 'counselor', 'count', 'countless', 'countries', 'country', 'counts', 'county', 'couple', 'courage', 'course', 'courses', 'court', 'cousin', 'cousins', 'cover', 'covered', 'covid', 'coward', 'coworkers', 'cps', 'crack', 'cracking', 'crap', 'crappy', 'crash', 'crashing', 'crawling', 'crazy', 'created', 'creating', 'creative', 'credit', 'creep', 'creeping', 'cried', 'crimes', 'criminal', 'cringe', 'crippled', 'crippling', 'crisis', 'cross', 'crosses', 'crossing', 'cruel', 'crush', 'crushed', 'crushing', 'crybaby', 'crying', 'cult', 'cunt', 'cunts', 'cure', 'curl', 'current', 'currently', 'curse', 'cursed', 'curtains', 'curved', 'custody', 'cut', 'cute', 'cuts', 'cutting', 'cuz', 'cv', 'cycle', 'dad', 'dads', 'daily', 'damage', 'damaged', 'damages', 'damaging', 'damn', 'damned', 'dance', 'dancing', 'danger', 'dangerous', 'dark', 'darkness', 'date', 'dated', 'dates', 'dating', 'daughter', 'day', 'daycare', 'daydream', 'daydreamed', 'daydreams', 'dayi', 'days', 'daze', 'dazed', 'dbt', 'dead', 'deadline', 'deal', 'dealing', 'deals', 'dealt', 'dearly', 'death', 'deathbed', 'deathi', 'deaths', 'debt', 'decade', 'decades', 'december', 'decent', 'decide', 'decided', 'deciding', 'decision', 'decisions', 'declining', 'deemed', 'deep', 'deeper', 'deeply', 'defeated', 'defective', 'defend', 'deficit', 'defined', 'definitely', 'deformed', 'degree', 'degrees', 'delete', 'deleted', 'deleting', 'delusional', 'demand', 'demanding', 'demands', 'dementia', 'demons', 'denial', 'denied', 'department', 'dependent', 'depending', 'deposited', 'depraved', 'depressants', 'depressed', 'depressing', 'depression', 'depressive', 'deprived', 'depth', 'depths', 'described', 'deserve', 'deserved', 'deserves', 'design', 'designed', 'desire', 'desires', 'despair', 'desperate', 'desperately', 'desperation', 'despise', 'despite', 'destined', 'destroyed', 'destroying', 'destructive', 'details', 'deteriorating', 'determined', 'devastated', 'develop', 'developed', 'developing', 'devil', 'diabetic', 'diagnosed', 'diagnosis', 'dick', 'didnt', 'die', 'died', 'diei', 'dies', 'difference', 'different', 'differently', 'difficult', 'dig', 'digital', 'dinner', 'direct', 'directed', 'direction', 'directly', 'dirt', 'disability', 'disabled', 'disappear', 'disappeared', 'disappeari', 'disappoint', 'disappointed', 'disappointing', 'disappointment', 'disaster', 'disbelief', 'discharged', 'discomfort', 'disconnected', 'discovered', 'discuss', 'discussed', 'discussing', 'disease', 'diseases', 'disfigurement', 'disgrace', 'disgust', 'disgusted', 'disgusting', 'dishes', 'disillusioned', 'dislike', 'dismiss', 'disorder', 'disorders', 'disrespectful', 'dissapointment', 'dissociate', 'distance', 'distanced', 'distancing', 'distant', 'distorted', 'distract', 'distracted', 'distracting', 'distraction', 'distractions', 'distraught', 'distress', 'disturbing', 'divorce', 'divorced', 'dm', 'doctor', 'doctors', 'doesnt', 'dog', 'dohello', 'donei', 'dont', 'door', 'doors', 'dose', 'dosnt', 'doubt', 'doubts', 'downhill', 'downloaded', 'downstairs', 'downward', 'dozen', 'dozens', 'dr', 'dragged', 'dragging', 'drain', 'drained', 'draining', 'drama', 'dramatic', 'drank', 'draw', 'drawing', 'dream', 'dreaming', 'dreams', 'dreamt', 'dressed', 'drift', 'drifted', 'drifting', 'drill', 'drink', 'drinking', 'drive', 'driven', 'driving', 'drop', 'dropped', 'drove', 'drown', 'drowning', 'drug', 'drugs', 'drunk', 'dude', 'dull', 'dumb', 'dump', 'dumped', 'dunno', 'dwell', 'dying', 'dysmorphia', 'eachother', 'ear', 'earlier', 'earliest', 'early', 'earn', 'earth', 'ease', 'easier', 'easiest', 'easily', 'east', 'easy', 'eat', 'eating', 'eccentric', 'economic', 'ect', 'edge', 'edgy', 'edit', 'education', 'effect', 'effective', 'effectively', 'effects', 'efficient', 'effort', 'efforts', 'ego', 'egotistical', 'eh', 'eighteen', 'elaborate', 'elder', 'eldest', 'elementary', 'elses', 'elvanse', 'email', 'emails', 'embarrassed', 'embarrassing', 'embarrassment', 'embrace', 'emergency', 'emoji', 'emotion', 'emotional', 'emotionally', 'emotionless', 'emotions', 'empathy', 'employer', 'employment', 'emptiness', 'end', 'ended', 'endgame', 'ending', 'endless', 'endlessly', 'ends', 'enemies', 'enemy', 'energy', 'engage', 'engaged', 'engineering', 'english', 'enjoy', 'enjoyable', 'enjoyed', 'enjoying', 'enjoyment', 'ensure', 'enter', 'entered', 'entire', 'entirely', 'entitled', 'environment', 'environmental', 'envy', 'epiphany', 'episode', 'episodes', 'equivalent', 'er', 'erase', 'erased', 'escalated', 'escape', 'especially', 'essays', 'essentially', 'esteem', 'estranged', 'eternal', 'eternity', 'euthanasia', 'evefything', 'evening', 'event', 'events', 'eventually', 'everybody', 'everyday', 'everythingi', 'everytime', 'evidence', 'evil', 'evolves', 'ex', 'exact', 'exactly', 'exam', 'example', 'exams', 'exchange', 'excited', 'excitement', 'exciting', 'excuse', 'excuses', 'execute', 'exercise', 'exercising', 'exhausted', 'exhausting', 'exhaustion', 'exist', 'existed', 'existence', 'existent', 'existing', 'exists', 'exit', 'expect', 'expectations', 'expected', 'expecting', 'expensive', 'experience', 'experienced', 'experiences', 'experiencing', 'explain', 'explaining', 'explosion', 'explosive', 'expose', 'express', 'extended', 'extent', 'extra', 'extreme', 'extremely', 'eye', 'eyes', 'fabricate', 'face', 'facebook', 'faced', 'faceless', 'faces', 'facility', 'fact', 'factors', 'fade', 'fail', 'failed', 'failing', 'fails', 'failure', 'failures', 'fainting', 'fair', 'fairly', 'fairy', 'faith', 'fake', 'faking', 'fall', 'fallen', 'falling', 'falls', 'false', 'familiar', 'families', 'family', 'fancy', 'fantasies', 'fantasise', 'fantasizing', 'fantasy', 'far', 'farther', 'fast', 'faster', 'fat', 'fate', 'father', 'fathom', 'fatigue', 'fault', 'favor', 'favorite', 'fck', 'fear', 'fears', 'feb', 'february', 'fed', 'feed', 'feel', 'feeling', 'feelings', 'feels', 'feet', 'fell', 'felt', 'female', 'fews', 'ff', 'fiance', 'ficking', 'fifth', 'fight', 'fighting', 'fights', 'figure', 'figured', 'filled', 'fills', 'final', 'finally', 'finances', 'financial', 'financially', 'finding', 'finds', 'fine', 'finger', 'finish', 'finished', 'finishing', 'firearms', 'fired', 'fish', 'fit', 'fitting', 'fix', 'fixed', 'fixing', 'flaming', 'flare', 'flashbacks', 'flat', 'flaws', 'flesh', 'flights', 'fling', 'flirting', 'floating', 'floor', 'flying', 'fml', 'focus', 'focusing', 'fog', 'follow', 'followed', 'following', 'follows', 'food', 'fool', 'foolish', 'foot', 'force', 'forced', 'forcing', 'forest', 'forever', 'forget', 'forgive', 'forgiven', 'forgives', 'forgot', 'forgotten', 'form', 'formatting', 'forsaken', 'fortunately', 'forward', 'foster', 'fought', 'foundation', 'fourth', 'fractured', 'fragile', 'frame', 'freak', 'free', 'freed', 'freinds', 'frequent', 'frequently', 'friday', 'friend', 'friendless', 'friendly', 'friends', 'friendship', 'friendships', 'frustrated', 'frustration', 'fuck', 'fucked', 'fuckin', 'fucking', 'fucks', 'fully', 'fun', 'function', 'functional', 'functioning', 'fund', 'funeral', 'funny', 'furthermore', 'future', 'gad', 'gain', 'gall', 'game', 'games', 'gaming', 'garage', 'garbage', 'gas', 'gaslights', 'gave', 'gay', 'gcses', 'general', 'generally', 'generation', 'genetic', 'genetics', 'genuine', 'genuinely', 'germany', 'gets', 'getting', 'gf', 'ghost', 'ghosted', 'giant', 'gift', 'girl', 'girlfriend', 'girls', 'given', 'gives', 'giving', 'glad', 'glass', 'global', 'goal', 'goals', 'god', 'goddamn', 'goes', 'going', 'gold', 'golden', 'gone', 'gonna', 'good', 'goodbye', 'got', 'gotta', 'gotten', 'government', 'gp', 'gpa', 'grab', 'grabbed', 'grade', 'grades', 'graduate', 'graduated', 'graduating', 'graduation', 'grammar', 'grandfather', 'grandma', 'grandmother', 'grandpa', 'grandparents', 'granted', 'graph', 'grasp', 'grateful', 'graves', 'gray', 'great', 'greater', 'greatest', 'greatly', 'green', 'grew', 'grief', 'grieve', 'grinding', 'grocery', 'grotesque', 'ground', 'group', 'groups', 'grow', 'growing', 'grown', 'growth', 'gtfo', 'guaranteed', 'guess', 'guidance', 'guilt', 'guilty', 'gun', 'guts', 'guy', 'guys', 'gym', 'habits', 'haha', 'hahaha', 'hahahaha', 'hair', 'half', 'hallucinate', 'hand', 'handed', 'handle', 'handled', 'hands', 'handy', 'hang', 'hanging', 'hangout', 'happen', 'happened', 'happening', 'happens', 'happier', 'happiness', 'happy', 'harassing', 'harassment', 'hard', 'harder', 'hardest', 'hardly', 'hardships', 'harm', 'harmed', 'harming', 'harrassed', 'harsh', 'hate', 'hated', 'hates', 'hating', 'hatred', 'haunt', 'haunting', 'haunts', 'havent', 'hazard', 'head', 'headache', 'heads', 'health', 'healthy', 'hear', 'heard', 'hearing', 'heart', 'heartache', 'heaven', 'heavy', 'heights', 'held', 'helium', 'hell', 'hellhole', 'helli', 'hello', 'help', 'helped', 'helpful', 'helpi', 'helping', 'helpless', 'helpline', 'helplines', 'helps', 'helpso', 'heroin', 'hes', 'hesitant', 'hesitation', 'hey', 'hi', 'hid', 'hidden', 'hide', 'hiding', 'high', 'highest', 'highly', 'highschool', 'hiking', 'hips', 'history', 'hit', 'hits', 'hitting', 'hobbies', 'hobby', 'hockey', 'hold', 'holding', 'hole', 'holes', 'hollow', 'holy', 'home', 'homeless', 'homelessness', 'homes', 'homework', 'homewrecker', 'honest', 'honestly', 'honesty', 'honor', 'hood', 'hooked', 'hope', 'hoped', 'hopeful', 'hopefully', 'hopeless', 'hopelessly', 'hopelessness', 'hopes', 'hoping', 'hopped', 'hormone', 'hormones', 'horny', 'horrible', 'horribly', 'horrific', 'horrifically', 'horror', 'horse', 'hospital', 'hospitalization', 'hospitalized', 'hospitals', 'host', 'hot', 'hotline', 'hotlines', 'hour', 'hours', 'house', 'household', 'housing', 'hovered', 'https', 'hug', 'huge', 'huh', 'human', 'humanity', 'humans', 'humiliated', 'humor', 'hump', 'hundreds', 'hung', 'hungry', 'hurt', 'hurted', 'hurtful', 'hurting', 'hurts', 'husband', 'hwat', 'hyper', 'hypocritical', 'hypothetical', 'iam', 'ibs', 'id', 'idc', 'idea', 'ideal', 'ideas', 'ideation', 'idek', 'identical', 'identify', 'identity', 'idiot', 'idk', 'ignorance', 'ignorant', 'ignore', 'ignored', 'ignores', 'ignoring', 'ill', 'illegal', 'illness', 'illnesses', 'illusion', 'im', 'image', 'imagination', 'imagine', 'imagined', 'imagining', 'imbalance', 'immediate', 'immediately', 'immense', 'immensely', 'impact', 'impatient', 'important', 'impossible', 'impressive', 'improbable', 'improve', 'improving', 'impulse', 'impulses', 'inability', 'incapable', 'inch', 'incident', 'include', 'included', 'including', 'incoherent', 'income', 'inconceivable', 'inconvenience', 'increasing', 'increasingly', 'incredible', 'incredibly', 'incurable', 'independent', 'india', 'indian', 'indifference', 'individual', 'inevitable', 'inevitably', 'infact', 'infants', 'infected', 'infection', 'inferiority', 'inflicting', 'info', 'information', 'initially', 'injuries', 'injury', 'inner', 'innocent', 'inpatient', 'insane', 'insecure', 'insecurities', 'insecurity', 'inside', 'insignificant', 'insomnia', 'inspection', 'insta', 'instability', 'instagram', 'instance', 'instances', 'instead', 'instinct', 'institutionalized', 'insulin', 'insult', 'insulted', 'insults', 'insurance', 'insurmountable', 'integrate', 'intelligent', 'intended', 'intense', 'intensely', 'intent', 'intention', 'intentions', 'interact', 'interacting', 'interaction', 'interested', 'interesting', 'interests', 'internet', 'internship', 'interview', 'interviews', 'intimacy', 'intrusive', 'invested', 'investment', 'invisible', 'invited', 'inviting', 'involuntary', 'involve', 'involved', 'iq', 'irl', 'ironic', 'irony', 'irrational', 'irritable', 'irritated', 'ish', 'island', 'isnt', 'isolated', 'isolating', 'isolation', 'issue', 'issues', 'italy', 'iti', 'iv', 'ive', 'jackass', 'jail', 'jane', 'january', 'jaw', 'jealous', 'jealousy', 'jerk', 'jesus', 'jewelry', 'job', 'jobless', 'jobs', 'john', 'join', 'joke', 'jokes', 'joy', 'judge', 'judged', 'judgement', 'judging', 'july', 'jump', 'jumped', 'jumping', 'june', 'junior', 'justice', 'jut', 'karen', 'karma', 'keeping', 'keeps', 'kept', 'key', 'kick', 'kicked', 'kid', 'kidding', 'kids', 'kill', 'killed', 'killing', 'kills', 'kimda', 'kind', 'kinda', 'kindly', 'kindness', 'kinds', 'king', 'kiss', 'kissed', 'kit', 'kitchen', 'kms', 'knee', 'knees', 'knew', 'knife', 'knives', 'knock', 'know', 'knowing', 'knowledge', 'known', 'knows', 'knuckle', 'label', 'lack', 'lady', 'laid', 'lake', 'lame', 'land', 'landed', 'landlord', 'language', 'lap', 'laptops', 'large', 'lasted', 'late', 'lately', 'later', 'laugh', 'laughed', 'laughing', 'laughs', 'laughter', 'laundry', 'law', 'lawyer', 'lay', 'laying', 'lazy', 'lbs', 'lead', 'leadership', 'leading', 'leads', 'lean', 'learn', 'learned', 'learning', 'lease', 'leave', 'leaves', 'leaving', 'lecture', 'lecturing', 'led', 'leech', 'left', 'lefti', 'leg', 'legacy', 'legal', 'legit', 'legs', 'lel', 'lesbian', 'lesson', 'lessons', 'let', 'lethal', 'lets', 'letter', 'letters', 'letting', 'level', 'levels', 'lgbt', 'liar', 'lie', 'lied', 'lies', 'life', 'lifei', 'lifeline', 'lifelong', 'lifespan', 'lifestyle', 'lifetime', 'lifted', 'light', 'like', 'liked', 'likely', 'likes', 'liking', 'limit', 'limited', 'limits', 'line', 'lines', 'linger', 'link', 'lisdexamfetamine', 'list', 'listen', 'listened', 'listening', 'listens', 'listing', 'lit', 'literal', 'literally', 'little', 'live', 'lived', 'liver', 'lives', 'living', 'load', 'loans', 'loathe', 'loathing', 'local', 'location', 'lock', 'lockdown', 'lockdowns', 'locked', 'logic', 'logical', 'lol', 'lonelier', 'loneliness', 'lonely', 'long', 'longer', 'longest', 'look', 'looked', 'looking', 'looks', 'loop', 'loose', 'lose', 'loser', 'losing', 'loss', 'lost', 'lot', 'lots', 'lottery', 'loud', 'lovable', 'love', 'loved', 'loves', 'loving', 'low', 'lower', 'lowest', 'luck', 'lucky', 'lucy', 'lull', 'lunch', 'lungs', 'lying', 'machine', 'mad', 'magic', 'magical', 'mail', 'mailbox', 'main', 'mainly', 'maintain', 'major', 'make', 'makes', 'makeup', 'making', 'male', 'mama', 'man', 'manage', 'managed', 'mangling', 'mania', 'manic', 'manifests', 'manipulated', 'manipulative', 'march', 'mark', 'marks', 'marriage', 'married', 'mask', 'mass', 'massive', 'masters', 'masturbated', 'masturbation', 'match', 'matches', 'materials', 'matter', 'matters', 'mature', 'maybe', 'mckelvie', 'mdma', 'meal', 'meals', 'mean', 'meaning', 'meaningful', 'meaningless', 'means', 'meant', 'measure', 'mechanism', 'media', 'medical', 'medication', 'medications', 'medicine', 'medicines', 'mediocre', 'meditate', 'meditation', 'medium', 'meds', 'meet', 'meeting', 'meh', 'mei', 'meif', 'meltdown', 'member', 'members', 'memoir', 'memories', 'memory', 'men', 'mental', 'mentally', 'mention', 'mentioned', 'meshe', 'mess', 'message', 'messages', 'messed', 'messing', 'met', 'metal', 'meth', 'method', 'methods', 'mg', 'mid', 'middle', 'midst', 'migraines', 'mild', 'miles', 'million', 'millions', 'mind', 'minded', 'minds', 'mindset', 'minimal', 'minimize', 'minimum', 'minor', 'minus', 'minute', 'minutes', 'miracle', 'mirror', 'miserable', 'miserably', 'misery', 'miss', 'missed', 'misses', 'missing', 'mistake', 'mistakes', 'misunderstandings', 'mix', 'mixed', 'mocked', 'mocking', 'mods', 'molested', 'mom', 'moment', 'moments', 'moms', 'monday', 'money', 'monoxide', 'monster', 'month', 'months', 'mood', 'moped', 'moral', 'morbid', 'morning', 'mother', 'mothers', 'motions', 'motivated', 'motivation', 'mourn', 'mourning', 'mouth', 'moved', 'movement', 'moves', 'movie', 'movies', 'moving', 'mulling', 'multiple', 'mum', 'murder', 'murdered', 'music', 'muslim', 'mutual', 'muvh', 'myselfi', 'mystery', 'naive', 'named', 'names', 'narcissist', 'narcissistic', 'nasty', 'native', 'natural', 'naturally', 'nature', 'nawww', 'nd', 'near', 'nearly', 'necessarily', 'necessary', 'neck', 'necklace', 'need', 'needed', 'needing', 'needless', 'needs', 'neet', 'negative', 'neglect', 'neglected', 'neighbors', 'nephew', 'nerve', 'nerves', 'nervous', 'net', 'netherlands', 'neurotic', 'neutral', 'new', 'news', 'nice', 'night', 'nightmare', 'nightmares', 'nights', 'noise', 'non', 'nonstop', 'noooo', 'nope', 'normal', 'normalize', 'normally', 'nose', 'note', 'notes', 'nothings', 'notice', 'noticed', 'noticing', 'notion', 'nowadays', 'nowi', 'nuisance', 'numb', 'number', 'numbers', 'numerous', 'nurse', 'nurses', 'obese', 'objectively', 'obligated', 'obsessed', 'obsessing', 'obsession', 'obsessive', 'obssesed', 'obssesive', 'obstacle', 'obtain', 'obvious', 'obviously', 'occasionally', 'occasions', 'occur', 'occurring', 'ocd', 'ocean', 'od', 'odd', 'ofc', 'offer', 'offered', 'offers', 'office', 'officially', 'offing', 'oh', 'ohw', 'oil', 'ok', 'okay', 'old', 'older', 'ones', 'oni', 'online', 'oop', 'open', 'opened', 'openly', 'opiates', 'opinion', 'opinions', 'opportunity', 'opposite', 'optimism', 'optimistic', 'option', 'options', 'order', 'orientation', 'ounce', 'outcome', 'outcomes', 'outi', 'outside', 'outta', 'overall', 'overcome', 'overcoming', 'overdose', 'overdosed', 'overly', 'overreacting', 'overweight', 'overwhelmed', 'overwhelming', 'owe', 'owned', 'owo', 'oxygen', 'pack', 'page', 'pages', 'paid', 'pain', 'painful', 'painkillers', 'painless', 'paint', 'pandemic', 'panic', 'panicked', 'paper', 'par', 'paracetamol', 'paragraph', 'paranoia', 'paranoid', 'parent', 'parents', 'park', 'partially', 'participated', 'particular', 'particularly', 'particulars', 'parties', 'partner', 'parts', 'party', 'partying', 'pass', 'passed', 'passes', 'passing', 'passive', 'past', 'pastor', 'patch', 'path', 'pathetic', 'pathetically', 'patience', 'patients', 'pay', 'paying', 'payment', 'pays', 'pc', 'peace', 'peaceful', 'peacefully', 'peak', 'peaked', 'pee', 'peers', 'pelvic', 'penicillin', 'people', 'peoples', 'perception', 'perfect', 'perfectly', 'perform', 'period', 'periodically', 'periods', 'permanent', 'permanently', 'person', 'personal', 'personality', 'personally', 'perspective', 'persuade', 'pet', 'pets', 'phase', 'philosophy', 'phone', 'photos', 'physical', 'physically', 'piano', 'pick', 'picked', 'picking', 'picture', 'pictures', 'piece', 'pieces', 'pile', 'pill', 'pills', 'piss', 'pissed', 'pisses', 'pit', 'pity', 'place', 'placed', 'places', 'plague', 'plagued', 'plan', 'planet', 'plani', 'planned', 'planning', 'plans', 'play', 'played', 'playing', 'plays', 'plea', 'pleaded', 'pleasant', 'pleasure', 'plenty', 'pls', 'plus', 'plz', 'pm', 'poem', 'poems', 'poeples', 'poetry', 'point', 'pointi', 'pointless', 'points', 'poison', 'poisoning', 'police', 'polite', 'politically', 'poof', 'poor', 'porn', 'portion', 'portrayed', 'pos', 'position', 'positive', 'possessed', 'possessions', 'possibility', 'possible', 'possibly', 'post', 'posted', 'posting', 'posts', 'pot', 'potential', 'potentially', 'pounds', 'pour', 'poured', 'pouring', 'pours', 'pout', 'poverty', 'powder', 'power', 'powerful', 'powerless', 'powers', 'ppl', 'pr', 'practically', 'practice', 'practiced', 'practices', 'practitioner', 'pray', 'prayed', 'prayer', 'praying', 'pre', 'precedence', 'precious', 'predator', 'predicts', 'preface', 'prefer', 'preferably', 'preference', 'prefers', 'pregnant', 'premium', 'preoccupied', 'prep', 'preparation', 'preparations', 'prepare', 'prepared', 'preparing', 'preschool', 'prescribe', 'prescribed', 'prescription', 'presence', 'present', 'presenting', 'presentno', 'presents', 'president', 'press', 'pressed', 'pressure', 'pressured', 'pressures', 'pretend', 'pretended', 'pretending', 'pretends', 'pretentious', 'pretty', 'prevent', 'prevented', 'preventing', 'prevention', 'prevents', 'previous', 'previously', 'prey', 'price', 'pride', 'primarily', 'primary', 'prime', 'priming', 'princeple', 'princeples', 'princess', 'principle', 'printers', 'prior', 'prison', 'privacy', 'private', 'privilege', 'privileged', 'pro', 'probably', 'proberbly', 'problem', 'problematic', 'problemnever', 'problems', 'problemsi', 'probs', 'procedures', 'proceed', 'proceeds', 'process', 'processed', 'processes', 'procrastinate', 'prodigyi', 'product', 'products', 'professional', 'professionally', 'professionals', 'profile', 'profit', 'profoundly', 'program', 'programme', 'programmed', 'programming', 'programs', 'progress', 'progressed', 'progression', 'progressively', 'prohibited', 'project', 'projection', 'projects', 'prolapsed', 'prolonged', 'prolonging', 'promiscuity', 'promise', 'promised', 'promises', 'prompt', 'prompted', 'promptly', 'pronouns', 'proof', 'proofread', 'proper', 'properly', 'property', 'proportion', 'proposed', 'pros', 'prospect', 'prospects', 'prostitutes', 'protect', 'protest', 'protests', 'proud', 'prove', 'proved', 'proven', 'proves', 'provide', 'provided', 'proving', 'provoking', 'provoque', 'ps', 'pseudo', 'psych', 'psyche', 'psychiatric', 'psychiatrist', 'psychiatrists', 'psycho', 'psychological', 'psychologically', 'psychologist', 'psychologists', 'psychology', 'psychometric', 'psychosis', 'psychotherapist', 'psychotherapy', 'psychotic', 'psychward', 'psycopath', 'ptsd', 'puberty', 'pubescent', 'public', 'publicly', 'puke', 'pull', 'pulled', 'pulse', 'pumped', 'pumping', 'pun', 'punch', 'punched', 'punches', 'puncturing', 'punish', 'punished', 'punishment', 'puppet', 'puppy', 'purchase', 'purchased', 'pure', 'purest', 'purgatory', 'purpose', 'purposely', 'purposes', 'purring', 'pursuing', 'pursuit', 'pursuits', 'push', 'pushed', 'pushes', 'pushing', 'pushy', 'pussies', 'pussy', 'puts', 'putting', 'pyramid', 'qualifications', 'qualities', 'quality', 'qualms', 'quarantine', 'quarantined', 'quarantines', 'quaratine', 'quarry', 'quarterback', 'quash', 'queer', 'quells', 'question', 'questioned', 'questioning', 'questions', 'questionsif', 'questionso', 'queues', 'quick', 'quicker', 'quickly', 'quiet', 'quieter', 'quietly', 'quietness', 'quit', 'quite', 'quitting', 'quo', 'quote', 'quotes', 'quotient', 'rabbit', 'race', 'racehorse', 'races', 'racism', 'racist', 'racked', 'racking', 'rad', 'rage', 'rags', 'railing', 'rails', 'rain', 'rainbow', 'raise', 'raised', 'rajput', 'rambling', 'ramblings', 'ran', 'rancid', 'random', 'randomly', 'range', 'ranged', 'ransom', 'rant', 'ranted', 'ranting', 'rape', 'raped', 'rapid', 'rapist', 'rare', 'rarely', 'rat', 'rate', 'rates', 'rational', 'rationale', 'rationalise', 'rationality', 'rationally', 'ravage', 'rave', 'ray', 'razor', 'razors', 'rd', 'reach', 'reached', 'reaches', 'reaching', 'react', 'reacted', 'reacting', 'reaction', 'reactions', 'reactive', 'read', 'reader', 'reading', 'readjusting', 'readmy', 'reads', 'ready', 'readyfor', 'readyhello', 'real', 'realationship', 'realise', 'realised', 'realising', 'realistically', 'realities', 'reality', 'realization', 'realize', 'realized', 'realizing', 'reallllly', 'reallly', 'really', 'realnone', 'realsmall', 'realy', 'reaper', 'reapply', 'reason', 'reasonable', 'reasong', 'reasons', 'reassurance', 'rebellion', 'rebellious', 'rebuild', 'recall', 'receive', 'received', 'receiving', 'recent', 'recently', 'reception', 'receptors', 'recharge', 'recieve', 'reckless', 'recognise', 'recognised', 'recognize', 'recognized', 'recommend', 'reconnect', 'record', 'recorded', 'records', 'recover', 'recovered', 'recovering', 'recovery', 'recruiters', 'recruits', 'rectify', 'red', 'reddit', 'redditors', 'redeemable', 'redeeming', 'redemption', 'redo', 'reducing', 'reeaaason', 'refer', 'reference', 'referred', 'refill', 'refills', 'reflect', 'reflection', 'reflective', 'reflex', 'reflux', 'refuse', 'refused', 'refuses', 'regard', 'regarding', 'regardless', 'registed', 'registered', 'regret', 'regretful', 'regrets', 'regretted', 'regretting', 'regular', 'regularly', 'regurally', 'rehab', 'reincarnated', 'reinforced', 'reinforcement', 'reject', 'rejected', 'rejecting', 'rejection', 'relapse', 'relapsed', 'relapsing', 'relate', 'related', 'relatewouldn', 'relating', 'relation', 'relations', 'relationship', 'relationships', 'relative', 'relatively', 'relatives', 'relatonships', 'relax', 'relaxed', 'relaxes', 'relaxing', 'release', 'released', 'relentless', 'relentlessly', 'reliable', 'reliably', 'relief', 'relies', 'relieved', 'relieves', 'religion', 'religious', 'religous', 'reliving', 'reluctantly', 'rely', 'remain', 'remainder', 'remaining', 'remains', 'remarry', 'remember', 'remembered', 'rememberedi', 'remembering', 'rememebr', 'remind', 'reminded', 'reminder', 'reminders', 'reminding', 'reminds', 'reminisce', 'reminisces', 'remorse', 'remote', 'remotely', 'removal', 'remove', 'removed', 'removing', 'renaissance', 'rendered', 'renewal', 'rent', 'reoccurrence', 'reopen', 'reopened', 'reopens', 'repaid', 'repair', 'repairing', 'repairs', 'reparations', 'repeat', 'repeatedly', 'repeating', 'repetitive', 'replace', 'replied', 'reply', 'report', 'reported', 'representation', 'repress', 'reprisals', 'repulsed', 'reputation', 'require', 'required', 'requirements', 'requires', 'research', 'researched', 'researching', 'resent', 'resentful', 'resentment', 'reset', 'resilient', 'resistant', 'resolve', 'resolved', 'resorting', 'resources', 'respect', 'respected', 'respectful', 'respiratory', 'respite', 'respond', 'responded', 'responders', 'responding', 'responds', 'response', 'responses', 'responsibility', 'responsible', 'respwan', 'rest', 'restart', 'restarti', 'restaurant', 'resting', 'restricts', 'restroom', 'resubmitting', 'result', 'resulted', 'resulting', 'results', 'resurfaced', 'resuscitated', 'retail', 'retake', 'retard', 'retarded', 'retardin', 'retention', 'rethink', 'retire', 'retirement', 'retorts', 'retract', 'retrieve', 'return', 'returned', 'reveal', 'revealed', 'revenue', 'revert', 'reviews', 'revise', 'revision', 'revive', 'revolver', 'rewarding', 'rewards', 'rewind', 'rewritten', 'rhetoric', 'rhetorical', 'rheumatoid', 'rich', 'rid', 'riddled', 'ride', 'rides', 'ridicolous', 'ridiculous', 'ridiculously', 'right', 'righteous', 'rightfully', 'ring', 'rinse', 'rioting', 'riots', 'rip', 'ripped', 'ripping', 'rising', 'risk', 'risks', 'ritalin', 'rituals', 'river', 'rlly', 'rly', 'rn', 'road', 'rock', 'rocking', 'rodeohere', 'rods', 'rofleino', 'role', 'rolled', 'roller', 'romance', 'romantic', 'romanticizing', 'rona', 'roof', 'room', 'roomate', 'roommate', 'roommates', 'roommateship', 'root', 'rooted', 'rope', 'ropehi', 'ropei', 'ropes', 'rot', 'rotted', 'rotten', 'rotting', 'rough', 'rought', 'rounds', 'route', 'routemy', 'router', 'routine', 'row', 'royalties', 'rpgs', 'rright', 'rubbish', 'rude', 'rudely', 'rue', 'ruff', 'ruin', 'ruined', 'ruining', 'ruins', 'rule', 'rulei', 'rules', 'ruminating', 'ruminations', 'rumor', 'rumors', 'run', 'runaway', 'runner', 'running', 'runs', 'rural', 'rush', 'rushed', 'rushing', 'rut', 'sabotage', 'sabotages', 'sabotaging', 'sack', 'sacrificed', 'sad', 'saddened', 'sadistic', 'sadly', 'sadness', 'sadwhy', 'safe', 'safei', 'safer', 'safest', 'safety', 'safty', 'said', 'saint', 'saints', 'sake', 'sakes', 'sale', 'salvation', 'samaritan', 'sanctuary', 'sane', 'sanity', 'sapping', 'sat', 'satan', 'satanic', 'satisfied', 'satisfy', 'saturated', 'saturday', 'save', 'saved', 'saving', 'savings', 'saw', 'say', 'sayi', 'saying', 'sayno', 'says', 'scale', 'scammed', 'scammer', 'scan', 'scandinavia', 'scar', 'scare', 'scared', 'scaredi', 'scares', 'scaring', 'scars', 'scary', 'scenario', 'scene', 'schedule', 'scheduled', 'scheduling', 'scheme', 'schizoid', 'schizophrenia', 'schizophrenic', 'schol', 'scholarship', 'scholarships', 'school', 'schooler', 'schooling', 'schools', 'schoolwork', 'science', 'scissors', 'scoliosis', 'score', 'scotland', 'scrape', 'scraps', 'scratch', 'scratching', 'screaed', 'scream', 'screamed', 'screaming', 'screams', 'screen', 'screw', 'screwed', 'scribbling', 'script', 'scum', 'scumbag', 'sea', 'seams', 'search', 'searched', 'searching', 'seas', 'season', 'seasonal', 'seat', 'sec', 'seclude', 'secluded', 'second', 'secondary', 'seconds', 'secret', 'secrets', 'section', 'sector', 'secure', 'security', 'sed', 'sedative', 'sedentary', 'seductive', 'seeing', 'seek', 'seeking', 'seemingly', 'seen', 'seeped', 'sees', 'seething', 'segments', 'seizing', 'seizure', 'select', 'selecting', 'self', 'selfi', 'selfie', 'selfish', 'selfishness', 'selfless', 'sell', 'selling', 'selves', 'semblance', 'semester', 'semi', 'seminars', 'senators', 'send', 'sending', 'sends', 'senior', 'sensationally', 'sense', 'senses', 'sensitive', 'sensitivities', 'sensitivity', 'sensitize', 'sensory', 'sent', 'sentence', 'sentencei', 'sentences', 'separate', 'separated', 'september', 'seriously', 'service', 'session', 'set', 'setriline', 'settings', 'settle', 'settled', 'seven', 'seventh', 'severe', 'severed', 'severely', 'severity', 'sex', 'sexual', 'sexuality', 'sexually', 'sh', 'shadow', 'shadowing', 'shadows', 'shady', 'shaft', 'shake', 'shaken', 'shakey', 'shaking', 'shallow', 'shambles', 'shame', 'shamed', 'shameful', 'shamelessly', 'shank', 'shape', 'shard', 'share', 'shared', 'shares', 'sharing', 'sharp', 'shat', 'shattered', 'shattering', 'shd', 'shebang', 'shedding', 'sheep', 'sheer', 'sheet', 'shells', 'shelter', 'sheltered', 'shelters', 'shes', 'shield', 'shields', 'shift', 'shifts', 'shining', 'ship', 'shipwreck', 'shirt', 'shirts', 'shit', 'shitless', 'shits', 'shitter', 'shittier', 'shitty', 'shock', 'shocked', 'shoe', 'shoes', 'shooed', 'shoot', 'shooting', 'shop', 'shoplifted', 'shopping', 'short', 'shortage', 'shortages', 'shorter', 'shortly', 'shortness', 'shot', 'shota', 'shotgun', 'shoukd', 'shoulder', 'shoulders', 'shouldnt', 'shouldve', 'shout', 'shouting', 'shove', 'shoved', 'shovel', 'shoves', 'showed', 'shower', 'showered', 'showing', 'shown', 'shows', 'shred', 'shreds', 'shrink', 'shrooms', 'shrug', 'sht', 'shunned', 'shut', 'shutdown', 'shutting', 'shy', 'sibling', 'siblings', 'sick', 'sickening', 'sickly', 'sided', 'sides', 'sight', 'sign', 'signal', 'signalling', 'signals', 'signed', 'significant', 'significantly', 'signified', 'signs', 'silence', 'silent', 'silently', 'silly', 'silver', 'similar', 'simple', 'simpler', 'simply', 'simulacra', 'simulation', 'sincerely', 'singh', 'single', 'sink', 'sinks', 'sis', 'sister', 'sisters', 'sit', 'sits', 'sitting', 'situation', 'situations', 'sixteen', 'sixth', 'sixthform', 'size', 'sized', 'sjogren', 'skank', 'skeleton', 'skepticism', 'skill', 'skills', 'skin', 'skini', 'skinned', 'skinny', 'skip', 'skittish', 'skull', 'skulls', 'sky', 'skydiving', 'sl', 'slacking', 'slammed', 'slamming', 'slams', 'slandered', 'slap', 'slapped', 'slashing', 'slate', 'slave', 'slavery', 'sleep', 'sleeping', 'sleepless', 'sleeplessness', 'slef', 'slept', 'slid', 'slide', 'slightest', 'slightly', 'slim', 'slink', 'slip', 'slipping', 'slips', 'slit', 'slitting', 'slivers', 'slob', 'slogan', 'slow', 'slower', 'slowest', 'slowly', 'slug', 'slump', 'slurp', 'slut', 'slutty', 'sm', 'smacked', 'small', 'smallest', 'smart', 'smartened', 'smarter', 'smartest', 'smash', 'smashed', 'smashing', 'smell', 'smells', 'smile', 'smiled', 'smiles', 'smiling', 'smoke', 'smoked', 'smoking', 'smplicity', 'smth', 'smug', 'smugly', 'sn', 'snap', 'snapchat', 'snapped', 'snd', 'sneezed', 'sniff', 'snippets', 'snoop', 'snowball', 'snowflake', 'soap', 'sob', 'sobbing', 'sober', 'sobriety', 'socail', 'soccer', 'social', 'socialising', 'sociality', 'socialize', 'socializing', 'socially', 'socials', 'society', 'societyi', 'societys', 'societyto', 'societywe', 'socio', 'socked', 'socks', 'soemthing', 'sold', 'solely', 'solicitor', 'solid', 'solution', 'solutions', 'solve', 'solved', 'somber', 'somebody', 'someday', 'someonei', 'somethingi', 'somewhat', 'somone', 'son', 'sone', 'song', 'songs', 'soo', 'soon', 'sooncalled', 'sooner', 'soonhello', 'soooooo', 'sore', 'sorrow', 'sorry', 'sorryhey', 'sorryi', 'sort', 'sorted', 'sortof', 'sorts', 'sought', 'soul', 'soulless', 'soulmatei', 'soulmates', 'sound', 'sounded', 'sounds', 'soundtrack', 'source', 'sources', 'south', 'sp', 'space', 'span', 'spare', 'sparing', 'spat', 'speak', 'speaking', 'special', 'specialist', 'specialization', 'specially', 'species', 'specific', 'specifically', 'specifics', 'spectrum', 'speculation', 'speculative', 'speed', 'spell', 'spellibg', 'spelling', 'spend', 'spending', 'spends', 'spent', 'sperm', 'spicy', 'spidereggs', 'spikes', 'spiking', 'spill', 'spilled', 'spinal', 'spine', 'spineless', 'spinning', 'spiral', 'spiraling', 'spiralling', 'spirits', 'spit', 'spite', 'spits', 'spitting', 'splatter', 'spliffs', 'split', 'spoiled', 'spoiler', 'spoke', 'spoken', 'spoons', 'sport', 'sports', 'spot', 'spots', 'spouse', 'spouses', 'sprayed', 'spread', 'spreading', 'spring', 'spun', 'spurred', 'sputtering', 'spy', 'sq', 'squad', 'squatting', 'squeezing', 'squirrel', 'sr', 'ssri', 'st', 'stab', 'stabbed', 'stability', 'stabilizers', 'stable', 'staff', 'stage', 'stages', 'stairs', 'stalk', 'stalked', 'stalking', 'stand', 'standing', 'standpoint', 'stands', 'stapled', 'staples', 'star', 'stare', 'staring', 'stars', 'start', 'started', 'starters', 'starting', 'starts', 'starvation', 'starve', 'starved', 'starving', 'state', 'stated', 'statement', 'states', 'station', 'statistic', 'statistics', 'status', 'stay', 'stayed', 'stayi', 'staying', 'stays', 'stead', 'steadily', 'steady', 'steak', 'steam', 'steer', 'steering', 'stemi', 'stems', 'step', 'stepdad', 'stepdaughter', 'stepfather', 'stepmom', 'stepped', 'stepping', 'steps', 'steraline', 'stereotype', 'stereotypically', 'stick', 'sticking', 'stigma', 'stigmatized', 'stimulant', 'stimulus', 'stings', 'stints', 'stock', 'stoic', 'stolen', 'stomach', 'stomachs', 'stomped', 'stomps', 'stone', 'stoned', 'stoner', 'stood', 'stop', 'stoped', 'stopits', 'stopped', 'stopping', 'stops', 'stopso', 'stopwatch', 'store', 'stores', 'stories', 'storm', 'story', 'storyi', 'storys', 'stove', 'straight', 'straightforward', 'strained', 'strange', 'stranger', 'strangers', 'strangled', 'strarved', 'strategies', 'strategy', 'straw', 'streak', 'stream', 'streaming', 'streams', 'street', 'streets', 'strenght', 'strength', 'strenuously', 'stress', 'stressed', 'stressedhey', 'stresses', 'stressful', 'stressfull', 'stressing', 'stretch', 'stricken', 'strictly', 'strike', 'strikes', 'striking', 'strive', 'stroke', 'strong', 'stronger', 'strongly', 'struck', 'struggle', 'struggled', 'struggles', 'struggling', 'strugglingi', 'stubborn', 'stubclavian', 'stuck', 'stuckhi', 'student', 'students', 'studied', 'studies', 'study', 'studying', 'stuff', 'stuffs', 'stuggles', 'stung', 'stupid', 'stupider', 'stupidest', 'stupidi', 'stupidin', 'stupidly', 'stupidwhy', 'sty', 'style', 'sub', 'subconciously', 'subconscious', 'subhuman', 'subi', 'subject', 'subreddit', 'subreddits', 'subs', 'subsequent', 'subsequently', 'subservient', 'substance', 'substituted', 'subtly', 'succeed', 'succeeded', 'succeeding', 'succesful', 'success', 'successful', 'successfully', 'succession', 'sucide', 'suck', 'sucked', 'sucks', 'sucksi', 'sudden', 'suddenly', 'suddently', 'sue', 'suffer', 'suffered', 'suffering', 'sufferings', 'suffers', 'sufficiently', 'suffocate', 'suffocated', 'suffocating', 'sugar', 'sugarcoat', 'suggest', 'suggested', 'suggestion', 'suggestions', 'suicidal', 'suicidala', 'suicide', 'suicideafter', 'suicideanyway', 'suicided', 'suicidehey', 'suicidei', 'suicides', 'suicidewatch', 'suicidey', 'suicidial', 'suicidio', 'suicude', 'suitable', 'suited', 'suits', 'sum', 'summer', 'summits', 'sun', 'sunday', 'sunk', 'super', 'superiority', 'supermarket', 'supernatural', 'superstar', 'supplies', 'support', 'supported', 'supporting', 'supportive', 'supports', 'suppose', 'supposed', 'supposedly', 'suppress', 'sure', 'surely', 'surface', 'surfaces', 'surgeries', 'surgery', 'surgically', 'surprise', 'surprised', 'surprising', 'surprisingly', 'surrender', 'surrogate', 'surrounded', 'surrounding', 'surrpunded', 'survey', 'survival', 'survive', 'survived', 'survivedim', 'survives', 'surviving', 'survivingmy', 'survivor', 'sushant', 'suspect', 'suspected', 'suspended', 'suspicion', 'sustainable', 'swallow', 'swallowed', 'swallowing', 'swear', 'sweared', 'sweat', 'sweating', 'sweats', 'sweatshirt', 'sweden', 'sweet', 'sweeter', 'sweetest', 'swerve', 'swim', 'swings', 'swingsive', 'swirling', 'switch', 'switched', 'swollen', 'swore', 'sympathetic', 'sympathy', 'symptom', 'symptoms', 'syndrome', 'systems', 'table', 'tablets', 'taboo', 'tachycardia', 'tackle', 'tacs', 'tactic', 'tad', 'tag', 'tail', 'takeaway', 'taken', 'takes', 'taking', 'tale', 'talented', 'talentless', 'talents', 'talha', 'talk', 'talked', 'talki', 'talking', 'talks', 'tall', 'tangents', 'tank', 'tanki', 'tantrums', 'tap', 'tape', 'taped', 'target', 'targeted', 'targetted', 'tas', 'task', 'tasks', 'tastes', 'tattoos', 'taught', 'taxi', 'taxingi', 'taylor', 'tbe', 'tbh', 'te', 'teach', 'teacher', 'teachers', 'teaches', 'teaching', 'teafficking', 'team', 'teams', 'tear', 'teared', 'tearful', 'tearing', 'tears', 'tease', 'teasing', 'tec', 'tech', 'techie', 'technically', 'teck', 'ted', 'tee', 'teen', 'teenage', 'teenager', 'teenagers', 'teens', 'teeth', 'tel', 'telehealth', 'tell', 'telling', 'tells', 'temper', 'temperature', 'tempers', 'temporal', 'temporarily', 'temporary', 'tempted', 'temptedi', 'tempting', 'tempts', 'tend', 'tendecies', 'tendency', 'tenderness', 'tends', 'tension', 'tensions', 'tentacle', 'term', 'terminal', 'terminally', 'termites', 'terms', 'terrible', 'terribly', 'terrifed', 'terrified', 'terrifies', 'terrifying', 'terror', 'test', 'tested', 'testing', 'testosterone', 'tests', 'texas', 'text', 'texted', 'texting', 'texts', 'tf', 'th', 'thank', 'thankful', 'thankfully', 'thanking', 'thanks', 'thankyou', 'thanos', 'thathappened', 'thats', 'thaw', 'theatrics', 'themi', 'themself', 'themselfs', 'theoretically', 'theories', 'theory', 'theralen', 'therapies', 'therapist', 'therapists', 'therapy', 'therefor', 'theres', 'thermophore', 'thesd', 'thesis', 'theyd', 'theyll', 'theyve', 'thickest', 'thief', 'thig', 'thik', 'thing', 'things', 'think', 'thinkin', 'thinking', 'thinks', 'thinners', 'thirteen', 'thisi', 'tho', 'thoguhts', 'thoroughly', 'thoughs', 'thought', 'thoughts', 'thoughtshello', 'thoughtshi', 'thoughtsi', 'thoughtsso', 'thousand', 'thousands', 'thrash', 'thrashing', 'thread', 'threads', 'threat', 'threaten', 'threatened', 'threatening', 'threatens', 'threats', 'threshold', 'threw', 'thrive', 'thriving', 'throat', 'throatit', 'throes', 'throughly', 'throw', 'throwaway', 'throwie', 'throwing', 'thrown', 'throws', 'thry', 'thumb', 'thwy', 'ti', 'tic', 'tied', 'ties', 'tight', 'tightened', 'tightness', 'tik', 'til', 'till', 'time', 'timeconstantly', 'timei', 'timeidk', 'timelike', 'timeline', 'times', 'timingwife', 'tinder', 'tiniest', 'tinnitus', 'tiny', 'tip', 'tipped', 'tips', 'tired', 'tiredi', 'tiring', 'title', 'tldr', 'today', 'todayi', 'toddler', 'toe', 'toes', 'toilet', 'told', 'tolerable', 'toll', 'tomorrow', 'tomorrowi', 'ton', 'tone', 'tonight', 'tonighti', 'tonightive', 'tonightmy', 'tonightnot', 'tons', 'tooi', 'took', 'tool', 'tools', 'toot', 'toothbrush', 'topic', 'torment', 'tormenting', 'torture', 'tortured', 'toss', 'total', 'totally', 'tother', 'touch', 'touching', 'tough', 'toughen', 'tourist', 'towels', 'tower', 'town', 'toxic', 'toxicity', 'toyed', 'toys', 'trace', 'traces', 'track', 'tracked', 'tracks', 'trade', 'traffic', 'trafficking', 'tragedy', 'tragic', 'trailer', 'train', 'trained', 'training', 'trainseems', 'traits', 'trampoline', 'tranny', 'trans', 'transcript', 'transgender', 'transitioned', 'transitioning', 'transman', 'transmit', 'transportation', 'trap', 'trapped', 'trappedi', 'traps', 'trash', 'trashed', 'trauma', 'traumas', 'traumatic', 'traumatised', 'traumatize', 'traumatized', 'traumatizing', 'travel', 'traveled', 'traveling', 'treasure', 'treat', 'treated', 'treating', 'treatment', 'treatments', 'treats', 'tree', 'trembles', 'tremendous', 'trend', 'trial', 'trick', 'tricked', 'tricks', 'tried', 'tries', 'trigger', 'triggered', 'triggering', 'triggers', 'triggerwarning', 'trip', 'tripped', 'tripping', 'trips', 'trivial', 'troll', 'trophy', 'trouble', 'troublesome', 'trough', 'truck', 'true', 'truest', 'truly', 'trumatized', 'trust', 'trusted', 'trusting', 'truth', 'truthful', 'truthfully', 'truthhi', 'truths', 'try', 'trying', 'tryingi', 'tst', 'tub', 'tube', 'tuesday', 'tuesdaytitle', 'tuffer', 'tuition', 'tumori', 'tune', 'tunnels', 'turkey', 'turn', 'turned', 'turning', 'turns', 'tutoring', 'tv', 'tw', 'twat', 'twenties', 'twice', 'twicethe', 'twigs', 'twin', 'twins', 'twisted', 'twitch', 'twitchtv', 'twitlonger', 'twitter', 'ty', 'tying', 'tylenol', 'type', 'typically', 'typing', 'typos', 'ugh', 'ughi', 'uglier', 'ugliest', 'ugliness', 'ugly', 'uglyi', 'uh', 'uhh', 'uk', 'ultimate', 'ultimately', 'unable', 'unacceptable', 'unaccepted', 'unanimously', 'unanswered', 'unattractive', 'unavailablity', 'unavoidable', 'unaware', 'unawareness', 'unbearable', 'unbelievable', 'unborn', 'unburden', 'uncaring', 'uncertain', 'uncertainty', 'unchosen', 'uncle', 'uncomfortable', 'uncommon', 'unconscious', 'uncontrollable', 'uncontrollably', 'uncooperative', 'undergoing', 'undergrad', 'undergraduate', 'undermine', 'underneath', 'understand', 'understandable', 'understandably', 'understanding', 'understands', 'understood', 'underwear', 'undesirable', 'undo', 'uneasy', 'unemployable', 'unemployed', 'unemployment', 'unending', 'unexpected', 'unfair', 'unfamiliar', 'unfathomably', 'unfit', 'unforgiving', 'unformed', 'unfortunate', 'unfortunately', 'unfound', 'ungrateful', 'ungratefull', 'unhappiness', 'unhappy', 'unharmed', 'unhealthy', 'uni', 'unimaginative', 'unintentionally', 'uninteresting', 'unique', 'united', 'uniteresting', 'universe', 'universities', 'university', 'unjust', 'unknown', 'unless', 'unlikable', 'unlike', 'unlikely', 'unload', 'unlovable', 'unloveable', 'unloved', 'unlucky', 'unmotivated', 'unmoved', 'unnecessary', 'unplayable', 'unpleasant', 'unprofessional', 'unprotected', 'unravel', 'unraveling', 'unravelling', 'unreadable', 'unreal', 'unreliable', 'unrest', 'unscrutinized', 'unsee', 'unspeakable', 'unspoken', 'unstable', 'unsupportive', 'unsure', 'unsustainable', 'unthinkable', 'untied', 'untimely', 'untreated', 'unwanted', 'unwell', 'unwiring', 'upbringing', 'upcoming', 'update', 'upholding', 'upi', 'upload', 'upper', 'upright', 'ups', 'upset', 'upsetting', 'upso', 'upstairs', 'upvotes', 'ur', 'urban', 'ure', 'urge', 'urges', 'urinary', 'usa', 'usage', 'usd', 'use', 'used', 'useful', 'useless', 'uselessi', 'uselessness', 'uselesswhat', 'user', 'userhi', 'uses', 'ushered', 'using', 'usual', 'usually', 'uterus', 'utilities', 'utilize', 'utilizes', 'utm', 'utopia', 'utter', 'utterly', 'uva', 'uve', 'uwu', 'vacation', 'vacatoon', 'vaccine', 'vacuum', 'vaginoplasty', 'vague', 'vaguely', 'vain', 'valid', 'validated', 'validates', 'validation', 'value', 'valued', 'values', 'vanish', 'vanishes', 'vapid', 'vaping', 'variety', 'various', 'vary', 'varying', 'vegetable', 'vegetarian', 'vehicle', 'vendetta', 'vent', 'venting', 'ventingmy', 'venty', 'verbal', 'verbally', 'verge', 'vermin', 'versa', 'versed', 'version', 'viable', 'vial', 'vibe', 'vibrant', 'vicarious', 'vice', 'vicious', 'victim', 'victimizing', 'victims', 'video', 'videogames', 'videos', 'view', 'views', 'vigilance', 'vile', 'village', 'vinegar', 'violate', 'violence', 'violencelong', 'violent', 'violently', 'virgin', 'virginity', 'virologist', 'virtual', 'virtually', 'virtue', 'virus', 'viruses', 'vishnu', 'visible', 'vision', 'visit', 'visited', 'visits', 'visual', 'vivid', 'vividly', 'vocal', 'voice', 'voices', 'voicing', 'void', 'volatile', 'volunteer', 'vomit', 'vomiting', 'vonnegut', 'vortex', 'vs', 'vulgar', 'vulnerable', 'vwo', 'wading', 'wage', 'wait', 'waited', 'waiting', 'wake', 'waking', 'walk', 'walked', 'walking', 'walks', 'wall', 'walled', 'wallet', 'wallowing', 'walls', 'wamna', 'wan', 'wana', 'wander', 'wanna', 'want', 'wanted', 'wanting', 'wants', 'war', 'ward', 'warm', 'warn', 'warned', 'warning', 'warranted', 'wars', 'wash', 'washed', 'washing', 'wasnt', 'waste', 'wasted', 'wasteland', 'wasteofspacxe', 'wasting', 'watch', 'watched', 'watchers', 'watches', 'watching', 'water', 'watery', 'wave', 'wavering', 'waves', 'way', 'ways', 'weak', 'weakened', 'weaker', 'weakness', 'weaknesses', 'wealth', 'wealthy', 'weapon', 'weapons', 'wear', 'wearing', 'weary', 'weather', 'web', 'website', 'websitejust', 'websleuths', 'wedding', 'wednesday', 'weed', 'week', 'weekend', 'weekends', 'weekly', 'weeks', 'weeksjust', 'weekthe', 'weep', 'weight', 'weights', 'weird', 'weirdly', 'weirdo', 'welcome', 'welcomed', 'wellbutrin', 'welp', 'welts', 'went', 'werent', 'west', 'wet', 'weve', 'whats', 'whatsoever', 'wheel', 'wheelchair', 'wheels', 'whichever', 'whilst', 'whim', 'whine', 'whiney', 'whinier', 'whining', 'whiny', 'whirling', 'whiskey', 'whisper', 'whispers', 'white', 'wholeheartedly', 'wholesome', 'whore', 'whores', 'whos', 'whut', 'wich', 'wide', 'wierdos', 'wife', 'wifei', 'wikipedia', 'wil', 'wild', 'wildly', 'willfully', 'willing', 'willingness', 'willpower', 'wimp', 'win', 'wind', 'windex', 'window', 'wine', 'winner', 'winning', 'wipe', 'wiped', 'wired', 'wiring', 'wisdom', 'wise', 'wish', 'wished', 'wishes', 'wishing', 'withdrawal', 'wither', 'withstand', 'witness', 'witnessed', 'witnessing', 'wits', 'woah', 'woc', 'woke', 'woman', 'women', 'wonder', 'wondered', 'wonderful', 'wondering', 'wonders', 'wondrous', 'wont', 'wooden', 'woods', 'woowoo', 'word', 'worded', 'words', 'work', 'workd', 'worked', 'worker', 'workers', 'worki', 'working', 'workplace', 'works', 'workshops', 'workstudy', 'world', 'worldeverything', 'worldi', 'worlds', 'worn', 'worried', 'worries', 'worry', 'worrying', 'worse', 'worselast', 'worsened', 'worsens', 'worshipped', 'worst', 'worstthat', 'worth', 'worthless', 'worthlessi', 'worthlessive', 'worthlessness', 'worthwhile', 'worthy', 'woth', 'wothout', 'wouldnt', 'wouldve', 'woulsnt', 'wound', 'wounds', 'wow', 'wrap', 'wrapping', 'wraps', 'wreak', 'wreck', 'wrestle', 'wrestled', 'wretched', 'wrist', 'wrists', 'wristsfuck', 'write', 'writer', 'writing', 'writings', 'written', 'wrong', 'wronged', 'wrongest', 'wrongmy', 'wrongs', 'wrongtagging', 'wrote', 'wtf', 'www', 'xanax', 'xxx', 'ya', 'yada', 'yai', 'yard', 'yawned', 'yay', 'ye', 'yeaaars', 'yeah', 'year', 'yearor', 'years', 'yeet', 'yeeting', 'yell', 'yelled', 'yelling', 'yells', 'yes', 'yesterday', 'yo', 'yoga', 'youman', 'young', 'younger', 'youre', 'yourselfabout', 'yourselfhas', 'yourselfsomeone', 'yourselftake', 'youth', 'youtube', 'youve', 'yr', 'yrs', 'zack', 'zero', 'zimbabwe', 'zone']\n"
     ]
    }
   ],
   "source": [
    "dom_word_list = vectorizer.get_feature_names()\n",
    "print(dom_word_list)"
   ]
  },
  {
   "cell_type": "code",
   "execution_count": 21,
   "metadata": {},
   "outputs": [],
   "source": [
    "#Converting to a 'list'\n",
    "dom_words = list(df.selftext[(df.target ==0)])"
   ]
  },
  {
   "cell_type": "code",
   "execution_count": 22,
   "metadata": {},
   "outputs": [],
   "source": [
    "dcvec = CountVectorizer(analyzer='word', max_features=5000)\n",
    "dom_cv = dcvec.fit_transform(dom_words)"
   ]
  },
  {
   "cell_type": "code",
   "execution_count": 23,
   "metadata": {},
   "outputs": [],
   "source": [
    "dom_words = pd.DataFrame(dom_cv.todense(), columns=dcvec.get_feature_names())"
   ]
  },
  {
   "cell_type": "code",
   "execution_count": 24,
   "metadata": {},
   "outputs": [],
   "source": [
    "dom_coef = dom_words.mean().sort_values(ascending=False)[:10]"
   ]
  },
  {
   "cell_type": "code",
   "execution_count": 26,
   "metadata": {},
   "outputs": [
    {
     "name": "stdout",
     "output_type": "stream",
     "text": [
      "Domestic Violence dataset total row and column: (939, 5000)\n"
     ]
    },
    {
     "data": {
      "text/html": [
       "<div>\n",
       "<style scoped>\n",
       "    .dataframe tbody tr th:only-of-type {\n",
       "        vertical-align: middle;\n",
       "    }\n",
       "\n",
       "    .dataframe tbody tr th {\n",
       "        vertical-align: top;\n",
       "    }\n",
       "\n",
       "    .dataframe thead th {\n",
       "        text-align: right;\n",
       "    }\n",
       "</style>\n",
       "<table border=\"1\" class=\"dataframe\">\n",
       "  <thead>\n",
       "    <tr style=\"text-align: right;\">\n",
       "      <th></th>\n",
       "      <th>abandoned</th>\n",
       "      <th>abandonment</th>\n",
       "      <th>ability</th>\n",
       "      <th>able</th>\n",
       "      <th>abomination</th>\n",
       "      <th>abroad</th>\n",
       "      <th>absent</th>\n",
       "      <th>absolute</th>\n",
       "      <th>absolutely</th>\n",
       "      <th>absorbed</th>\n",
       "      <th>...</th>\n",
       "      <th>yourselftake</th>\n",
       "      <th>youth</th>\n",
       "      <th>youtube</th>\n",
       "      <th>youve</th>\n",
       "      <th>yr</th>\n",
       "      <th>yrs</th>\n",
       "      <th>zack</th>\n",
       "      <th>zero</th>\n",
       "      <th>zimbabwe</th>\n",
       "      <th>zone</th>\n",
       "    </tr>\n",
       "  </thead>\n",
       "  <tbody>\n",
       "    <tr>\n",
       "      <th>0</th>\n",
       "      <td>0</td>\n",
       "      <td>0</td>\n",
       "      <td>0</td>\n",
       "      <td>0</td>\n",
       "      <td>0</td>\n",
       "      <td>0</td>\n",
       "      <td>0</td>\n",
       "      <td>0</td>\n",
       "      <td>0</td>\n",
       "      <td>0</td>\n",
       "      <td>...</td>\n",
       "      <td>0</td>\n",
       "      <td>0</td>\n",
       "      <td>0</td>\n",
       "      <td>0</td>\n",
       "      <td>0</td>\n",
       "      <td>0</td>\n",
       "      <td>0</td>\n",
       "      <td>0</td>\n",
       "      <td>0</td>\n",
       "      <td>0</td>\n",
       "    </tr>\n",
       "    <tr>\n",
       "      <th>1</th>\n",
       "      <td>0</td>\n",
       "      <td>0</td>\n",
       "      <td>0</td>\n",
       "      <td>0</td>\n",
       "      <td>0</td>\n",
       "      <td>0</td>\n",
       "      <td>0</td>\n",
       "      <td>0</td>\n",
       "      <td>0</td>\n",
       "      <td>0</td>\n",
       "      <td>...</td>\n",
       "      <td>0</td>\n",
       "      <td>0</td>\n",
       "      <td>0</td>\n",
       "      <td>0</td>\n",
       "      <td>0</td>\n",
       "      <td>0</td>\n",
       "      <td>0</td>\n",
       "      <td>0</td>\n",
       "      <td>0</td>\n",
       "      <td>0</td>\n",
       "    </tr>\n",
       "    <tr>\n",
       "      <th>2</th>\n",
       "      <td>0</td>\n",
       "      <td>0</td>\n",
       "      <td>0</td>\n",
       "      <td>0</td>\n",
       "      <td>0</td>\n",
       "      <td>0</td>\n",
       "      <td>0</td>\n",
       "      <td>0</td>\n",
       "      <td>0</td>\n",
       "      <td>0</td>\n",
       "      <td>...</td>\n",
       "      <td>0</td>\n",
       "      <td>0</td>\n",
       "      <td>0</td>\n",
       "      <td>0</td>\n",
       "      <td>0</td>\n",
       "      <td>0</td>\n",
       "      <td>0</td>\n",
       "      <td>0</td>\n",
       "      <td>0</td>\n",
       "      <td>0</td>\n",
       "    </tr>\n",
       "    <tr>\n",
       "      <th>3</th>\n",
       "      <td>0</td>\n",
       "      <td>0</td>\n",
       "      <td>0</td>\n",
       "      <td>0</td>\n",
       "      <td>0</td>\n",
       "      <td>0</td>\n",
       "      <td>0</td>\n",
       "      <td>0</td>\n",
       "      <td>0</td>\n",
       "      <td>0</td>\n",
       "      <td>...</td>\n",
       "      <td>0</td>\n",
       "      <td>0</td>\n",
       "      <td>0</td>\n",
       "      <td>0</td>\n",
       "      <td>0</td>\n",
       "      <td>0</td>\n",
       "      <td>0</td>\n",
       "      <td>0</td>\n",
       "      <td>0</td>\n",
       "      <td>0</td>\n",
       "    </tr>\n",
       "    <tr>\n",
       "      <th>4</th>\n",
       "      <td>0</td>\n",
       "      <td>0</td>\n",
       "      <td>0</td>\n",
       "      <td>0</td>\n",
       "      <td>0</td>\n",
       "      <td>0</td>\n",
       "      <td>0</td>\n",
       "      <td>0</td>\n",
       "      <td>0</td>\n",
       "      <td>0</td>\n",
       "      <td>...</td>\n",
       "      <td>0</td>\n",
       "      <td>0</td>\n",
       "      <td>0</td>\n",
       "      <td>0</td>\n",
       "      <td>0</td>\n",
       "      <td>0</td>\n",
       "      <td>0</td>\n",
       "      <td>0</td>\n",
       "      <td>0</td>\n",
       "      <td>0</td>\n",
       "    </tr>\n",
       "  </tbody>\n",
       "</table>\n",
       "<p>5 rows × 5000 columns</p>\n",
       "</div>"
      ],
      "text/plain": [
       "   abandoned  abandonment  ability  able  abomination  abroad  absent  \\\n",
       "0          0            0        0     0            0       0       0   \n",
       "1          0            0        0     0            0       0       0   \n",
       "2          0            0        0     0            0       0       0   \n",
       "3          0            0        0     0            0       0       0   \n",
       "4          0            0        0     0            0       0       0   \n",
       "\n",
       "   absolute  absolutely  absorbed  ...  yourselftake  youth  youtube  youve  \\\n",
       "0         0           0         0  ...             0      0        0      0   \n",
       "1         0           0         0  ...             0      0        0      0   \n",
       "2         0           0         0  ...             0      0        0      0   \n",
       "3         0           0         0  ...             0      0        0      0   \n",
       "4         0           0         0  ...             0      0        0      0   \n",
       "\n",
       "   yr  yrs  zack  zero  zimbabwe  zone  \n",
       "0   0    0     0     0         0     0  \n",
       "1   0    0     0     0         0     0  \n",
       "2   0    0     0     0         0     0  \n",
       "3   0    0     0     0         0     0  \n",
       "4   0    0     0     0         0     0  \n",
       "\n",
       "[5 rows x 5000 columns]"
      ]
     },
     "execution_count": 26,
     "metadata": {},
     "output_type": "execute_result"
    }
   ],
   "source": [
    "#Display Domestic Violence dataset\n",
    "print(f\"Domestic Violence dataset total row and column: {dom_words.shape}\")\n",
    "dom_words.head()"
   ]
  },
  {
   "cell_type": "code",
   "execution_count": 27,
   "metadata": {},
   "outputs": [],
   "source": [
    "#CVEC Suicide Watch: Get most frequently used words, can change max_features\n",
    "vectorizer = CountVectorizer(analyzer = \"word\", \n",
    "                             tokenizer = None, \n",
    "                             preprocessor = None,\n",
    "                             stop_words = \"english\", \n",
    "                             max_features = 5000) \n",
    "\n",
    "# input for CountVectorizer is an array of strings\n",
    "suicide_vector_input = df[df['target'] == 1]['selftext']\n",
    "\n",
    "# fit_transform the vectorizer\n",
    "suicide_words = vectorizer.fit_transform(suicide_vector_input)\n",
    "\n",
    "# convert output to a Numpy array\n",
    "suicide_words = suicide_words.toarray()"
   ]
  },
  {
   "cell_type": "code",
   "execution_count": 28,
   "metadata": {},
   "outputs": [
    {
     "name": "stdout",
     "output_type": "stream",
     "text": [
      "['ab', 'aba', 'abandoned', 'abandoning', 'abandonment', 'abdomen', 'abide', 'ability', 'able', 'abnormal', 'abolition', 'abolitionist', 'abortion', 'abortions', 'absent', 'absolute', 'absolutely', 'abt', 'abuse', 'abusecome', 'abused', 'abusedhi', 'abusedi', 'abusedthe', 'abusei', 'abuser', 'abuserhello', 'abuserit', 'abuserme', 'abusers', 'abuses', 'abusing', 'abusive', 'abusively', 'ac', 'academy', 'acc', 'accept', 'acceptable', 'accepted', 'accepting', 'accepts', 'access', 'accessible', 'accident', 'accidentally', 'accidently', 'accidents', 'accommodations', 'accompanied', 'according', 'account', 'accountability', 'accountable', 'accounts', 'acct', 'accumulating', 'accusations', 'accuse', 'accused', 'accuses', 'accusing', 'accustomed', 'achieve', 'achieved', 'achievements', 'acid', 'acknowledge', 'acknowledged', 'acoustic', 'act', 'acted', 'acting', 'action', 'actions', 'active', 'actively', 'activities', 'activity', 'acts', 'actual', 'actually', 'add', 'added', 'addict', 'addicted', 'addiction', 'addictions', 'addicts', 'adding', 'addition', 'additionally', 'address', 'addressed', 'adhd', 'adhere', 'aditude', 'adjust', 'adjustable', 'adjusted', 'adjusting', 'admission', 'admissions', 'admit', 'admits', 'admitted', 'admittedly', 'admitting', 'adopted', 'adorable', 'adore', 'adrenaline', 'ads', 'adult', 'adults', 'advance', 'advanced', 'advances', 'advantage', 'adventure', 'advert', 'advertisement', 'advice', 'advicei', 'adviceive', 'advise', 'advising', 'advocacy', 'advocate', 'advocates', 'affair', 'affect', 'affected', 'affecting', 'affection', 'affectionate', 'affects', 'afford', 'afghanistan', 'afloat', 'aforementioned', 'afraid', 'afraidi', 'aftermath', 'afternoon', 'afterward', 'againbut', 'againi', 'againwould', 'age', 'agency', 'agenda', 'ages', 'aggravated', 'aggression', 'aggressive', 'ago', 'agony', 'agree', 'agreed', 'agreement', 'agrees', 'ahead', 'ahold', 'aid', 'aided', 'ailments', 'aimed', 'air', 'airport', 'airway', 'aisle', 'al', 'alabama', 'alarm', 'alaska', 'albeit', 'alcohol', 'alcoholic', 'alcoholics', 'alcoholism', 'alert', 'alertness', 'alex', 'alienated', 'aligned', 'alive', 'alley', 'allow', 'allowance', 'allowances', 'allowed', 'allowing', 'allows', 'ally', 'almighty', 'alonei', 'alot', 'alright', 'alt', 'alter', 'altercation', 'alternative', 'alternatively', 'altogether', 'amazed', 'amazing', 'amazingly', 'amazon', 'ambulance', 'amd', 'america', 'ammo', 'ammunition', 'amp', 'anemic', 'angel', 'angeles', 'anger', 'angering', 'angle', 'angrier', 'angrily', 'angry', 'anguish', 'animal', 'animals', 'animation', 'ankle', 'anne', 'anniversary', 'anniversaryhi', 'annoyed', 'annoying', 'anonymous', 'anonymously', 'anorexia', 'answer', 'answered', 'answering', 'answers', 'antibiotics', 'anticipated', 'antidepressant', 'antidepressants', 'antonio', 'anxieties', 'anxiety', 'anxious', 'anybody', 'anymore', 'anytime', 'anyting', 'anyways', 'apart', 'apartment', 'apartments', 'apologetic', 'apologies', 'apologised', 'apologising', 'apologize', 'apologized', 'apologizes', 'apologizing', 'apology', 'app', 'apparently', 'appartment', 'appear', 'appearance', 'appeared', 'appears', 'appericated', 'applicable', 'applied', 'applies', 'apply', 'applying', 'appointed', 'appointment', 'appreciate', 'appreciated', 'apprehension', 'approach', 'approaches', 'approaching', 'approch', 'appropriate', 'approve', 'approved', 'approx', 'approximately', 'approximating', 'apps', 'appt', 'apr', 'april', 'apt', 'ar', 'arches', 'area', 'arent', 'argentina', 'argue', 'argued', 'arguing', 'argument', 'argumentative', 'arguments', 'arm', 'armed', 'armpit', 'arms', 'army', 'aromantic', 'arose', 'aroused', 'arrange', 'arranged', 'array', 'arrest', 'arrested', 'arrive', 'arrived', 'arrogant', 'arse', 'art', 'articals', 'article', 'articles', 'artist', 'asap', 'asexual', 'asf', 'ash', 'ashamed', 'asian', 'aside', 'asing', 'ask', 'askalice', 'asked', 'asking', 'asks', 'asleep', 'aspects', 'aspirin', 'aspiring', 'asprin', 'ass', 'assassinate', 'assault', 'assaulted', 'assaulting', 'assaults', 'assed', 'assertive', 'assets', 'asshole', 'assholes', 'assigned', 'assist', 'assistance', 'assisting', 'associated', 'assulted', 'assults', 'assume', 'assumed', 'assuming', 'assumption', 'assumptions', 'assured', 'aswell', 'ate', 'attached', 'attachment', 'attack', 'attacked', 'attacking', 'attacks', 'attempt', 'attempted', 'attempting', 'attempts', 'attend', 'attended', 'attending', 'attention', 'attitude', 'attorney', 'attorneys', 'attracted', 'attractive', 'attributed', 'au', 'audacity', 'audio', 'auditory', 'august', 'aunt', 'aus', 'australia', 'author', 'authorities', 'authority', 'authorized', 'autism', 'autocorrecting', 'autoimmune', 'automatically', 'aux', 'available', 'aveo', 'average', 'avoid', 'avoided', 'avoiding', 'awaited', 'awake', 'aware', 'awareness', 'away', 'awayi', 'awaymy', 'awesome', 'awful', 'awhile', 'awkward', 'awkwardly', 'awry', 'axe', 'ba', 'babe', 'babies', 'baby', 'babying', 'babymama', 'babysat', 'babysit', 'babysitting', 'bachelor', 'background', 'backhands', 'backpack', 'backstory', 'backwards', 'backyard', 'bad', 'badger', 'badly', 'badmouthing', 'baffles', 'bag', 'baggage', 'bags', 'bail', 'bailed', 'bake', 'balance', 'balanced', 'balcony', 'ball', 'balled', 'ballistic', 'ban', 'bandage', 'bang', 'banged', 'banging', 'bangladesh', 'bangs', 'bank', 'banks', 'bar', 'bare', 'barely', 'barged', 'barrel', 'barrier', 'bars', 'bartender', 'based', 'basement', 'bases', 'bash', 'bashes', 'basic', 'basically', 'basis', 'basket', 'bassinet', 'bastard', 'bath', 'bathe', 'bathing', 'bathroom', 'bathtub', 'bats', 'battered', 'batterer', 'batteries', 'battery', 'batting', 'battle', 'battling', 'bawling', 'bay', 'bb', 'bbbiiitttccchhhh', 'bbq', 'bc', 'bck', 'bd', 'bdsm', 'beanie', 'beans', 'bear', 'bearing', 'bearmy', 'beat', 'beaten', 'beater', 'beating', 'beatings', 'beats', 'beautiful', 'bed', 'bedroom', 'bedrooms', 'bedside', 'beer', 'beers', 'beforemy', 'beg', 'began', 'begged', 'begging', 'begin', 'beginning', 'begins', 'begs', 'behalf', 'behave', 'behaved', 'behavior', 'behaviors', 'behaviour', 'behaviours', 'behold', 'beliefs', 'believable', 'believe', 'believed', 'believes', 'believing', 'belittle', 'belittled', 'belittling', 'bell', 'belligerent', 'bells', 'belly', 'belong', 'belonged', 'belonging', 'belongings', 'bench', 'bend', 'bending', 'beneath', 'beneficial', 'benefit', 'benefits', 'bent', 'benzodiazepines', 'berate', 'berating', 'best', 'bestbuy', 'bestfriend', 'bestie', 'bet', 'betrayed', 'better', 'betterfindurheart', 'bewildered', 'bewilderment', 'bf', 'bfit', 'bfs', 'bi', 'bias', 'bickered', 'bidding', 'big', 'bigger', 'biggest', 'bigshot', 'biking', 'bills', 'binge', 'biological', 'biology', 'bipolar', 'birth', 'birthday', 'birthdays', 'bisexual', 'bit', 'bitch', 'bitching', 'bitchy', 'bite', 'bites', 'biting', 'bits', 'bitten', 'bitter', 'bitterness', 'black', 'blacked', 'blackmailing', 'blackmails', 'blame', 'blamed', 'blames', 'blaming', 'blatantly', 'bled', 'bleeding', 'blew', 'blind', 'block', 'blocked', 'blood', 'bloody', 'blow', 'blowing', 'blown', 'blows', 'blue', 'blur', 'boat', 'bodies', 'body', 'boil', 'boiling', 'bold', 'bolt', 'bomb', 'bombarded', 'bond', 'bondage', 'bonded', 'bonding', 'bone', 'bones', 'book', 'booked', 'books', 'bookshelf', 'boom', 'boots', 'borderline', 'borders', 'bore', 'bored', 'boring', 'born', 'borni', 'borrow', 'boss', 'bosses', 'bother', 'bothered', 'bothering', 'bothi', 'bottle', 'bottled', 'bottles', 'bottoms', 'bought', 'boundaries', 'boundary', 'bow', 'bowing', 'bowl', 'box', 'boxed', 'boxes', 'boxing', 'boy', 'boyfriend', 'boyfriends', 'boys', 'bpd', 'bra', 'bracket', 'brags', 'brain', 'brainwashed', 'brake', 'brand', 'brandy', 'brat', 'brave', 'bread', 'break', 'breakdown', 'breakdowns', 'breakfast', 'breaking', 'breaks', 'breakup', 'breast', 'breasts', 'breath', 'breathe', 'breathed', 'breathing', 'bren', 'bri', 'bribing', 'brick', 'bridge', 'bridges', 'brief', 'briefly', 'bright', 'brilliance', 'bring', 'bringing', 'brings', 'broaching', 'broad', 'broil', 'broke', 'broken', 'broom', 'brother', 'brotheri', 'brothers', 'brought', 'brown', 'browse', 'browsing', 'bruise', 'bruised', 'bruisediys', 'bruises', 'bruising', 'brush', 'brushed', 'brushing', 'brutal', 'brutality', 'brutally', 'bryan', 'bs', 'bts', 'btw', 'buckle', 'buddy', 'buick', 'build', 'building', 'built', 'bulged', 'bulimia', 'bulimic', 'bullets', 'bullied', 'bullshit', 'bully', 'bullying', 'bumper', 'bun', 'bunch', 'bunkbed', 'burden', 'burdens', 'buried', 'burn', 'burned', 'burner', 'burning', 'burst', 'bury', 'bus', 'buses', 'business', 'busted', 'busy', 'butch', 'butmy', 'butt', 'butted', 'butter', 'button', 'buttons', 'buy', 'buyer', 'buyers', 'buying', 'buys', 'buzzed', 'byproduct', 'bystander', 'ca', 'cabin', 'cabinet', 'cake', 'cal', 'calculate', 'calculated', 'calculator', 'calendar', 'calf', 'california', 'called', 'calling', 'calls', 'calm', 'calmed', 'calming', 'calmly', 'cam', 'came', 'camera', 'cameras', 'camp', 'campaign', 'camt', 'canada', 'cancel', 'cancelled', 'cancer', 'cannabis', 'canned', 'cap', 'capable', 'capacity', 'capital', 'capped', 'captain', 'captioned', 'captioning', 'captive', 'car', 'caramel', 'card', 'cardiac', 'cardiologist', 'cards', 'care', 'cared', 'career', 'careful', 'carefully', 'careless', 'cares', 'caring', 'carolina', 'carried', 'carries', 'carry', 'carrying', 'cars', 'carseat', 'cartoons', 'case', 'cases', 'caseworker', 'caseworkers', 'cash', 'casual', 'casually', 'cat', 'catch', 'categorically', 'categorize', 'cater', 'catfish', 'catharsis', 'cats', 'caught', 'cause', 'caused', 'causing', 'cautious', 'cave', 'caveats', 'caves', 'caving', 'cbd', 'cbt', 'cc', 'ceiling', 'celebrate', 'celebrated', 'celebrating', 'celebration', 'cell', 'cellphone', 'cells', 'celly', 'cement', 'center', 'centered', 'central', 'centres', 'ceramic', 'ceridwen', 'certain', 'certainly', 'certificate', 'certifications', 'certifying', 'chad', 'chained', 'chair', 'chairs', 'challenge', 'challenged', 'challenging', 'chance', 'chances', 'change', 'changed', 'changes', 'changing', 'channel', 'chaos', 'chapter', 'character', 'characters', 'charge', 'charged', 'charger', 'charges', 'charging', 'charisma', 'charles', 'charm', 'charming', 'chase', 'chasing', 'chat', 'chats', 'chatted', 'chatting', 'cheap', 'cheapest', 'cheat', 'cheated', 'cheater', 'cheating', 'cheats', 'check', 'checked', 'checking', 'checks', 'cheek', 'cheekily', 'cheeks', 'cheese', 'cheetah', 'chem', 'chemistry', 'chest', 'chewed', 'chewing', 'chickened', 'child', 'childcare', 'childhood', 'childish', 'children', 'childrens', 'chill', 'chin', 'chip', 'chipped', 'chirly', 'chng', 'chocked', 'chockehold', 'chocking', 'choice', 'choices', 'choke', 'choked', 'chokehold', 'chokes', 'choking', 'choose', 'chores', 'chose', 'chosen', 'christian', 'christmas', 'chrome', 'chunk', 'chunks', 'church', 'churches', 'cigarette', 'cio', 'circles', 'circumstances', 'cities', 'citizen', 'city', 'civil', 'ck', 'claimed', 'claiming', 'claims', 'clammer', 'clap', 'claps', 'clarify', 'clarity', 'class', 'classes', 'classic', 'clavicle', 'clawing', 'clean', 'cleaned', 'cleanertoday', 'cleaning', 'cleans', 'clear', 'cleared', 'clearest', 'clearing', 'clearly', 'clenched', 'click', 'clicked', 'client', 'clients', 'cliff', 'climate', 'climbing', 'climbs', 'cling', 'clinic', 'clock', 'close', 'closed', 'closer', 'closes', 'closest', 'closet', 'closing', 'clothed', 'clothes', 'clothing', 'cloudy', 'club', 'clue', 'clueless', 'clumsy', 'clutches', 'clutching', 'cn', 'coast', 'coddling', 'codependent', 'coerced', 'coercion', 'coercive', 'coffee', 'coincidence', 'coke', 'cold', 'collect', 'collected', 'college', 'color', 'com', 'combined', 'come', 'comes', 'comfort', 'comfortable', 'coming', 'comings', 'comment', 'comments', 'commit', 'committed', 'committing', 'common', 'communicate', 'communication', 'community', 'company', 'compared', 'compassion', 'compelled', 'compelling', 'complain', 'complaining', 'complains', 'complaints', 'complete', 'completely', 'complex', 'complicated', 'comply', 'compromise', 'computer', 'concentrate', 'concept', 'concerned', 'concerning', 'concerns', 'concert', 'conclusion', 'concussion', 'condition', 'conditioned', 'conditions', 'conducted', 'confided', 'confidence', 'confident', 'confidential', 'confidentiality', 'conflict', 'conflicted', 'conform', 'confront', 'confronted', 'confused', 'confusing', 'confusion', 'congress', 'connect', 'connected', 'connection', 'consciousness', 'consent', 'consented', 'consequence', 'consequences', 'conservative', 'consider', 'consideration', 'considered', 'considering', 'consistently', 'console', 'constant', 'constantly', 'constructive', 'consumed', 'contact', 'contacted', 'contain', 'content', 'context', 'continue', 'continued', 'continues', 'continuing', 'continuously', 'contraceptive', 'contract', 'contributed', 'contributing', 'control', 'controlled', 'controlling', 'controls', 'conversation', 'conversations', 'convicted', 'convictions', 'convince', 'convinced', 'convinces', 'convincing', 'cook', 'cooking', 'cool', 'cooperate', 'cop', 'coparent', 'cope', 'coped', 'coping', 'copper', 'cops', 'cord', 'corner', 'cornered', 'corona', 'coronavirus', 'correct', 'correctly', 'corridor', 'cos', 'costs', 'couch', 'counseling', 'counselling', 'counsellor', 'counselor', 'counselors', 'count', 'countless', 'country', 'county', 'couple', 'couples', 'courage', 'course', 'courses', 'court', 'courts', 'cousin', 'cousins', 'cover', 'covered', 'covering', 'covid', 'coward', 'coz', 'cps', 'cptsd', 'cracked', 'crap', 'crash', 'crashes', 'crazy', 'cream', 'create', 'created', 'creative', 'credit', 'cried', 'cries', 'crime', 'crimes', 'criminal', 'crisis', 'criticism', 'crocker', 'cross', 'crossed', 'cruel', 'crunch', 'crying', 'cuddled', 'cult', 'cunt', 'cup', 'curious', 'curl', 'current', 'currently', 'cursed', 'cursing', 'curtains', 'custody', 'cut', 'cuts', 'cutting', 'cuz', 'cyber', 'cycle', 'da', 'dad', 'daddy', 'dads', 'daily', 'damage', 'damaged', 'damn', 'damned', 'dancing', 'danger', 'dangerous', 'dare', 'dark', 'date', 'dated', 'dates', 'dating', 'daughter', 'daughters', 'day', 'daycare', 'days', 'daytime', 'dead', 'deaf', 'deal', 'dealer', 'dealing', 'deals', 'dealt', 'dearly', 'death', 'decade', 'december', 'decent', 'decide', 'decided', 'decision', 'decisions', 'deep', 'defeat', 'defence', 'defend', 'defended', 'defending', 'defends', 'defense', 'defensive', 'defiant', 'defining', 'definitely', 'degrading', 'degree', 'delayed', 'delete', 'deleted', 'delivered', 'delivery', 'demanded', 'demanding', 'demeaning', 'denial', 'denied', 'denies', 'denying', 'department', 'dependence', 'dependency', 'dependent', 'depending', 'deposit', 'deposits', 'depressed', 'depression', 'depressive', 'deprived', 'derbytelegraph', 'description', 'deserve', 'deserved', 'deserves', 'desire', 'desk', 'desperate', 'desperately', 'despite', 'destined', 'destroy', 'destroyed', 'destroying', 'destruction', 'detailing', 'details', 'detective', 'determined', 'detrimental', 'devastated', 'develop', 'developed', 'developing', 'device', 'devices', 'diagnosed', 'diary', 'didnt', 'die', 'died', 'dies', 'difference', 'different', 'differently', 'difficult', 'difficulties', 'dig', 'dinner', 'dinners', 'dint', 'direct', 'directed', 'direction', 'directly', 'dirty', 'disability', 'disabled', 'disappeared', 'disappearing', 'disappoint', 'disappointed', 'discipline', 'disciplining', 'disclaimer', 'disclosed', 'discovered', 'discrimination', 'discuss', 'discussed', 'discussion', 'discussions', 'disgust', 'disgusted', 'disgusting', 'dishes', 'dismissed', 'disobedient', 'disorder', 'dispite', 'dispute', 'disrespect', 'disrespectful', 'disrespecting', 'disrespects', 'distance', 'distanced', 'distant', 'distract', 'distressing', 'ditch', 'divorce', 'divorced', 'divorcing', 'doctor', 'doctors', 'document', 'documentation', 'documented', 'doesnt', 'dog', 'dogs', 'doi', 'dollar', 'dollars', 'domestic', 'domesticdisciplineisdomesticabuse', 'domesticviolence', 'dont', 'door', 'doors', 'doorway', 'doubt', 'doubts', 'douche', 'downhill', 'downloaded', 'downs', 'downstairs', 'dr', 'drag', 'dragged', 'drained', 'draining', 'drama', 'dramatic', 'drank', 'drastic', 'drastically', 'drawing', 'dread', 'dream', 'dreaming', 'dreams', 'dress', 'dresser', 'drink', 'drinking', 'drinks', 'drive', 'driven', 'driver', 'drivers', 'drives', 'driveway', 'driving', 'drop', 'dropped', 'dropping', 'drove', 'drowning', 'drug', 'drugs', 'drunk', 'drunken', 'dry', 'dryer', 'dude', 'dui', 'dumb', 'dumbass', 'dumped', 'duplication', 'dv', 'dwi', 'dying', 'dynamic', 'dysfunctional', 'eachother', 'ear', 'earlier', 'early', 'earn', 'ears', 'ease', 'easier', 'easily', 'easter', 'easy', 'eat', 'eating', 'eats', 'ect', 'ed', 'edit', 'edu', 'educated', 'education', 'effect', 'effectively', 'effects', 'effort', 'egg', 'eggshells', 'ego', 'elbow', 'electronic', 'elementary', 'elements', 'email', 'emails', 'embarrassed', 'embarrassing', 'emergency', 'emotional', 'emotionally', 'emotions', 'empathetic', 'empathy', 'employer', 'empowerment', 'en', 'enabled', 'encounter', 'encounters', 'encourage', 'encouragement', 'encouraging', 'end', 'ended', 'ending', 'ends', 'endure', 'endured', 'energy', 'enforcement', 'engaged', 'engine', 'england', 'english', 'enjoy', 'enjoyed', 'enjoying', 'enjoyment', 'enraged', 'ensure', 'entered', 'entire', 'entirely', 'entitled', 'environment', 'episode', 'episodes', 'equal', 'equally', 'er', 'escalate', 'escalated', 'escalating', 'escalation', 'escape', 'escaped', 'escort', 'especially', 'essentially', 'essentials', 'esteem', 'evening', 'event', 'events', 'eventually', 'everybody', 'everyday', 'everytime', 'evict', 'evidence', 'evil', 'ex', 'exact', 'exactly', 'exaggerating', 'examining', 'example', 'examples', 'excel', 'excellent', 'exception', 'excited', 'exclusively', 'excuse', 'excuses', 'exhausted', 'existed', 'existence', 'expect', 'expectation', 'expectations', 'expected', 'expecting', 'expects', 'expensive', 'experience', 'experienced', 'experiences', 'experiencing', 'experiment', 'expired', 'explain', 'explained', 'explaining', 'explains', 'explanation', 'exploded', 'exposed', 'expressed', 'expressing', 'extended', 'extent', 'extra', 'extras', 'extreme', 'extremely', 'eye', 'eyes', 'face', 'facebook', 'faced', 'faces', 'facetimed', 'facility', 'facing', 'fact', 'factors', 'facts', 'fail', 'failed', 'failure', 'fair', 'faith', 'fake', 'fall', 'falling', 'familial', 'familiar', 'families', 'family', 'fan', 'far', 'farm', 'fashion', 'fast', 'faster', 'fat', 'father', 'fault', 'faults', 'favor', 'favorite', 'fear', 'feared', 'fearful', 'fears', 'features', 'featuring', 'february', 'fed', 'feel', 'feeling', 'feelings', 'feels', 'feet', 'fell', 'felony', 'felt', 'female', 'fence', 'fever', 'fianc', 'fiance', 'fidgeting', 'field', 'fight', 'fighting', 'fights', 'figure', 'figured', 'file', 'filed', 'filing', 'filled', 'film', 'final', 'finally', 'finances', 'financial', 'financially', 'finding', 'finds', 'fine', 'finger', 'fingers', 'finish', 'finished', 'fired', 'firstly', 'fist', 'fists', 'fit', 'fits', 'fix', 'fixed', 'fixing', 'flags', 'flash', 'flashbacks', 'flat', 'fled', 'fleeing', 'flew', 'flight', 'flinch', 'flipped', 'flipping', 'flirty', 'floor', 'floorboards', 'floors', 'florida', 'floyd', 'fly', 'focus', 'focusing', 'follow', 'followed', 'following', 'follows', 'food', 'fool', 'foot', 'force', 'forced', 'forcefully', 'forcing', 'forehead', 'foreign', 'forever', 'forgave', 'forget', 'forgets', 'forgetting', 'forgive', 'forgiving', 'forgot', 'forgotten', 'form', 'formally', 'format', 'forms', 'formula', 'forth', 'fortunately', 'forum', 'forward', 'foster', 'fought', 'frame', 'freak', 'freaked', 'freaking', 'free', 'freedom', 'frequent', 'frequently', 'fresh', 'friday', 'fridge', 'friend', 'friends', 'friendship', 'friendships', 'frightened', 'frightening', 'frm', 'froze', 'frozen', 'frustrated', 'frustration', 'ft', 'fuck', 'fucked', 'fucking', 'fully', 'fun', 'function', 'functional', 'funds', 'funeral', 'funny', 'furious', 'furniture', 'future', 'game', 'games', 'gao', 'garage', 'gas', 'gaslighted', 'gaslighting', 'gaslights', 'gaslit', 'gate', 'gave', 'gay', 'ge', 'general', 'generally', 'generating', 'generous', 'gentle', 'genuinely', 'george', 'germany', 'getaway', 'gets', 'getting', 'gf', 'gift', 'gifts', 'girl', 'girlfriend', 'girlfriends', 'girls', 'given', 'gives', 'giving', 'glad', 'glass', 'glasses', 'glisten', 'glitter', 'gma', 'gmail', 'goal', 'god', 'goes', 'gofundme', 'going', 'golden', 'gone', 'gonna', 'good', 'google', 'got', 'gotten', 'government', 'gpa', 'grab', 'grabbed', 'grabbing', 'grabs', 'grace', 'grade', 'grades', 'gradually', 'graduated', 'graduation', 'grandma', 'grandmother', 'grandpa', 'grandparents', 'granted', 'grass', 'grateful', 'gratefully', 'great', 'greatest', 'greatly', 'greedy', 'greened', 'grew', 'grey', 'grief', 'grip', 'groceries', 'grocery', 'gross', 'ground', 'grounding', 'group', 'groupchat', 'groups', 'grow', 'growing', 'grown', 'guess', 'guessing', 'guidance', 'guide', 'guided', 'guilt', 'guilty', 'guitar', 'gun', 'guns', 'gushing', 'gut', 'gutted', 'guy', 'guys', 'gwv', 'gym', 'habit', 'hacked', 'hair', 'half', 'hallway', 'hamburger', 'hand', 'handed', 'handle', 'handled', 'handouts', 'hands', 'hang', 'hanging', 'hangout', 'hangs', 'happen', 'happened', 'happening', 'happens', 'happier', 'happiness', 'happy', 'harass', 'harassed', 'harassing', 'harassment', 'hard', 'harder', 'hardly', 'harm', 'harmed', 'harmful', 'harsh', 'hate', 'hated', 'hateful', 'hates', 'havent', 'head', 'headaches', 'heading', 'heads', 'headspace', 'heal', 'healing', 'health', 'healthier', 'healthy', 'hear', 'heard', 'hearing', 'hears', 'heart', 'heartbroken', 'heat', 'heated', 'heavily', 'heavy', 'held', 'hell', 'hello', 'help', 'helped', 'helpful', 'helphi', 'helpi', 'helping', 'helpless', 'helps', 'hes', 'hesitant', 'hesitate', 'hey', 'hi', 'hid', 'hidden', 'hide', 'hiding', 'high', 'highly', 'highway', 'hikes', 'hire', 'hired', 'history', 'hit', 'hits', 'hitting', 'hl', 'hold', 'holding', 'holds', 'hole', 'holes', 'holidays', 'home', 'homeless', 'homes', 'hometown', 'homework', 'honest', 'honestly', 'honours', 'hooking', 'hope', 'hoped', 'hopeful', 'hopefully', 'hopeless', 'hopelessness', 'hopes', 'hoping', 'horrible', 'horse', 'hospital', 'hospitalized', 'hostile', 'hot', 'hotel', 'hotline', 'hour', 'hours', 'house', 'household', 'housemate', 'housework', 'housing', 'hpv', 'hr', 'hrs', 'http', 'https', 'hug', 'huge', 'hugged', 'hugs', 'human', 'humanity', 'humiliate', 'humiliated', 'humiliating', 'hundreds', 'hung', 'hungarian', 'hungry', 'hurt', 'hurtful', 'hurting', 'hurts', 'husband', 'husbands', 'hysterical', 'ice', 'id', 'idea', 'ideas', 'identified', 'identify', 'idiot', 'idk', 'ig', 'ignore', 'ignored', 'ignores', 'ignoring', 'ill', 'illegal', 'illness', 'im', 'imagine', 'imagined', 'immature', 'immediate', 'immediately', 'impact', 'impacting', 'impaired', 'impairment', 'imperfection', 'implied', 'important', 'impossible', 'impression', 'improve', 'inappropriate', 'incest', 'incidences', 'incident', 'incidents', 'include', 'included', 'including', 'income', 'increase', 'increasing', 'increasingly', 'incredibly', 'independent', 'india', 'indicated', 'individual', 'induced', 'industry', 'infection', 'influence', 'info', 'information', 'informed', 'initially', 'initiated', 'injunction', 'injured', 'injuries', 'injury', 'injustice', 'inner', 'innocent', 'input', 'insanity', 'insecure', 'insecurities', 'inside', 'insight', 'insights', 'insisted', 'instagram', 'instance', 'instances', 'instantly', 'instead', 'instigated', 'instigating', 'institutionalized', 'insult', 'insulted', 'insulting', 'insults', 'insurance', 'intake', 'intend', 'intense', 'intention', 'intentional', 'intentionally', 'intentions', 'interact', 'interaction', 'interested', 'internally', 'internet', 'intervene', 'intervention', 'interview', 'interviews', 'intimate', 'intimidating', 'intimidation', 'intoxicated', 'investigate', 'invite', 'invited', 'involved', 'involves', 'involving', 'ipad', 'irrational', 'irreversible', 'irritated', 'ish', 'island', 'isnt', 'isolated', 'isolation', 'issue', 'issues', 'items', 'ithi', 'iv', 'ive', 'jab', 'jail', 'jan', 'jane', 'january', 'jaw', 'jealous', 'jealousy', 'jesus', 'jfe', 'job', 'jobs', 'join', 'joint', 'joke', 'jokes', 'joking', 'jokingly', 'jon', 'jons', 'journey', 'joy', 'judge', 'judged', 'july', 'jump', 'jumped', 'jumps', 'june', 'jury', 'justice', 'justified', 'justify', 'justifying', 'kalms', 'keeping', 'keeps', 'kept', 'key', 'keys', 'kick', 'kicked', 'kicking', 'kicks', 'kid', 'kidney', 'kids', 'kill', 'killed', 'killing', 'kind', 'kinda', 'kindest', 'kindly', 'kinds', 'king', 'kink', 'kiss', 'kissed', 'kissing', 'kitchen', 'knee', 'knees', 'knew', 'knife', 'knock', 'knocked', 'know', 'knowing', 'knowledge', 'known', 'knows', 'korean', 'lab', 'label', 'labels', 'labor', 'lack', 'lady', 'laid', 'lake', 'landing', 'landlord', 'landlords', 'language', 'laptop', 'large', 'lash', 'lasted', 'late', 'lately', 'later', 'latest', 'laugh', 'laughed', 'laughing', 'laughs', 'laundry', 'law', 'laws', 'lawyer', 'lay', 'layer', 'laying', 'lb', 'lbs', 'lead', 'leading', 'learn', 'learned', 'learning', 'learnt', 'lease', 'leave', 'leaves', 'leaving', 'led', 'leech', 'left', 'leg', 'legal', 'legally', 'legit', 'legitimately', 'legos', 'legs', 'length', 'lengthy', 'lessen', 'lesson', 'let', 'lets', 'letter', 'letting', 'level', 'levels', 'liar', 'liberal', 'libido', 'license', 'lie', 'lied', 'lies', 'life', 'lifetime', 'lift', 'lifted', 'light', 'lights', 'like', 'liked', 'likely', 'likes', 'liking', 'lil', 'limit', 'limitations', 'line', 'lines', 'link', 'lip', 'lipgloss', 'lips', 'liquid', 'list', 'listen', 'listened', 'listening', 'literally', 'little', 'live', 'lived', 'lives', 'living', 'loaded', 'loads', 'loan', 'loans', 'loathing', 'local', 'located', 'location', 'lock', 'lockdown', 'locked', 'locks', 'log', 'logged', 'logic', 'login', 'lol', 'loneliness', 'lonely', 'long', 'longer', 'longterm', 'look', 'looked', 'looking', 'looks', 'loosing', 'lose', 'loses', 'losing', 'loss', 'lost', 'lot', 'lots', 'loud', 'louder', 'loudly', 'love', 'loved', 'lover', 'loves', 'loving', 'low', 'lower', 'lowest', 'luck', 'luckily', 'lucky', 'luis', 'lunch', 'lung', 'lungs', 'lure', 'luxury', 'lying', 'machine', 'mad', 'magistrate', 'mail', 'main', 'mainly', 'maintain', 'major', 'majority', 'make', 'makes', 'makeup', 'making', 'male', 'males', 'man', 'manage', 'managed', 'management', 'manages', 'manic', 'manipulate', 'manipulation', 'manipulative', 'manner', 'march', 'marijuana', 'mark', 'marked', 'marks', 'marriage', 'marriages', 'married', 'marry', 'mask', 'massive', 'massively', 'master', 'masters', 'match', 'math', 'matter', 'matters', 'max', 'maybe', 'mcat', 'meal', 'mean', 'meaningless', 'means', 'meant', 'meat', 'media', 'medical', 'medically', 'medication', 'medications', 'medicine', 'medium', 'meds', 'meet', 'meeting', 'mei', 'mel', 'member', 'members', 'memories', 'memory', 'men', 'mental', 'mentally', 'mention', 'mentioned', 'mess', 'message', 'messaged', 'messages', 'messaging', 'messed', 'messenger', 'messing', 'met', 'metal', 'methadone', 'mg', 'michael', 'mid', 'middle', 'midnight', 'midst', 'midwest', 'mike', 'mil', 'mild', 'mile', 'miles', 'military', 'million', 'mind', 'minimum', 'minor', 'mins', 'minute', 'minutes', 'mirror', 'miscarriage', 'miserable', 'miss', 'missed', 'misses', 'missing', 'missouri', 'mistake', 'mistakenly', 'mistakes', 'mix', 'mixing', 'mobile', 'mocked', 'mockery', 'mode', 'model', 'modelling', 'mods', 'mom', 'moment', 'moments', 'mommy', 'moms', 'monday', 'money', 'monitor', 'monster', 'month', 'monthly', 'months', 'mood', 'moral', 'morning', 'mortgage', 'mother', 'mothers', 'mountain', 'mouse', 'mouth', 'moved', 'moves', 'movie', 'movies', 'moving', 'mr', 'multiple', 'mum', 'muppet', 'murder', 'muscle', 'muscles', 'music', 'muslim', 'mutual', 'nails', 'naked', 'names', 'nan', 'napa', 'napping', 'narcissist', 'narrative', 'nasty', 'national', 'natural', 'naturally', 'navigate', 'nd', 'near', 'nearby', 'nearly', 'necessarily', 'necessary', 'neck', 'need', 'needed', 'needing', 'needs', 'needy', 'negative', 'negatively', 'negativity', 'neglect', 'neglectful', 'neighbor', 'neighborhood', 'neighbors', 'neighbour', 'neighbours', 'neosure', 'nervous', 'netflix', 'new', 'news', 'nice', 'nicely', 'nicer', 'nicu', 'niece', 'nieces', 'night', 'nightmare', 'nightmares', 'nights', 'noise', 'noises', 'non', 'nonsense', 'normal', 'normally', 'northern', 'nose', 'notarized', 'note', 'notebook', 'notes', 'notice', 'noticed', 'noticing', 'notify', 'november', 'npd', 'nudge', 'numb', 'number', 'numbers', 'numerous', 'nurse', 'nurses', 'nursing', 'ny', 'object', 'objects', 'obsessed', 'obtain', 'obtaining', 'obvious', 'obviously', 'occasion', 'occasionally', 'occasions', 'occurred', 'occurs', 'ocd', 'october', 'odd', 'offended', 'offender', 'offense', 'offer', 'offered', 'offering', 'office', 'officer', 'officers', 'officially', 'oh', 'oil', 'ok', 'okay', 'oklahoma', 'old', 'older', 'oldest', 'ones', 'ongoing', 'online', 'ontario', 'open', 'opened', 'opening', 'opinion', 'opinions', 'opportunity', 'opposite', 'opressed', 'opresses', 'option', 'options', 'order', 'ordered', 'orders', 'org', 'organization', 'organizations', 'originally', 'outburst', 'outbursts', 'outcome', 'outdoor', 'outgoing', 'outi', 'outright', 'outside', 'outta', 'overall', 'overdose', 'overnight', 'overprotective', 'overreact', 'overreacting', 'overseas', 'oversensitive', 'overweight', 'overwhelmed', 'owe', 'owner', 'owns', 'pack', 'package', 'packed', 'packing', 'page', 'paid', 'pain', 'painful', 'pajamas', 'pandemic', 'panic', 'panicked', 'panicking', 'pants', 'pap', 'paper', 'papers', 'paperwork', 'paragraph', 'paramedics', 'paranoia', 'paranoid', 'parent', 'parenting', 'parents', 'park', 'parking', 'parole', 'paroled', 'partially', 'participate', 'particular', 'particularly', 'parties', 'partner', 'partners', 'partnership', 'parts', 'party', 'pass', 'passed', 'passing', 'passive', 'password', 'past', 'patch', 'path', 'pathetic', 'patient', 'pattern', 'pay', 'paycheck', 'paying', 'payment', 'payments', 'peace', 'peaceful', 'pediatricians', 'pen', 'pending', 'people', 'percentage', 'perfect', 'perfectly', 'period', 'periods', 'permanently', 'permission', 'perpetrators', 'person', 'personal', 'personality', 'personally', 'perspective', 'pet', 'pets', 'petty', 'phase', 'phd', 'phoenix', 'phone', 'phones', 'photo', 'photos', 'physical', 'physically', 'physician', 'pic', 'pick', 'picked', 'picking', 'picks', 'picture', 'pictures', 'piece', 'pieces', 'pillow', 'pills', 'pin', 'pinned', 'pinning', 'pissed', 'place', 'placed', 'places', 'plan', 'planned', 'planning', 'plans', 'planted', 'plants', 'plate', 'plates', 'platform', 'play', 'played', 'playful', 'playing', 'plays', 'pleaded', 'pleading', 'pleased', 'pleases', 'pleasure', 'plus', 'plz', 'pm', 'pocket', 'point', 'pointed', 'pointing', 'points', 'poke', 'poked', 'polar', 'pole', 'police', 'polite', 'poll', 'poor', 'pop', 'porch', 'portrayed', 'pos', 'position', 'positive', 'possession', 'possessive', 'possibility', 'possible', 'possibly', 'post', 'posted', 'posting', 'posts', 'pot', 'potential', 'potentially', 'pounds', 'pouring', 'power', 'ppo', 'practically', 'pray', 'prayers', 'praying', 'pre', 'preceding', 'precious', 'preemie', 'pregnancy', 'pregnant', 'prenatal', 'prepare', 'prepared', 'preparing', 'presence', 'present', 'press', 'pressed', 'pressing', 'pressure', 'pressured', 'pressures', 'pretend', 'pretended', 'pretending', 'pretends', 'pretty', 'prevalent', 'prevent', 'previous', 'previously', 'pricey', 'primal', 'primary', 'prime', 'print', 'prior', 'prison', 'privacy', 'private', 'privilege', 'probably', 'probation', 'problem', 'problems', 'procedure', 'proceed', 'proceeded', 'process', 'processing', 'proclaimed', 'produced', 'professional', 'professor', 'program', 'programs', 'progress', 'project', 'promise', 'promised', 'promises', 'promising', 'prompted', 'proof', 'properly', 'property', 'proportion', 'prosecute', 'prosecution', 'protect', 'protected', 'protecting', 'protection', 'protective', 'protects', 'proud', 'prove', 'provide', 'providing', 'provoked', 'ps', 'psych', 'psychiatrist', 'psycho', 'psychological', 'psychologically', 'psychologist', 'psychology', 'psychopath', 'psychosis', 'psychotic', 'ptsd', 'public', 'pull', 'pulled', 'pulling', 'pumped', 'punch', 'punched', 'punches', 'punching', 'punctuation', 'punish', 'punishing', 'punishment', 'purchase', 'purchased', 'pure', 'purpose', 'purposely', 'push', 'pushed', 'pushes', 'pushing', 'pussy', 'puts', 'putting', 'qualify', 'quality', 'qualtrics', 'quarantine', 'quarantining', 'question', 'questioning', 'questions', 'quick', 'quickly', 'quiet', 'quit', 'quite', 'quiz', 'qwu', 'rage', 'raise', 'raised', 'raises', 'raising', 'ramble', 'rambling', 'ran', 'random', 'randomly', 'rant', 'ranting', 'rape', 'raped', 'rapist', 'rare', 'rarely', 'rate', 'rays', 'rd', 'reach', 'reached', 'react', 'reacted', 'reaction', 'reactions', 'read', 'reading', 'reads', 'ready', 'real', 'realise', 'realistic', 'reality', 'realize', 'realized', 'realizing', 'really', 'reason', 'reasonable', 'reasons', 'reassurance', 'reassure', 'recall', 'receive', 'received', 'receiving', 'recent', 'recently', 'recognise', 'recognised', 'recognize', 'recommend', 'record', 'recorded', 'recording', 'recordings', 'records', 'recover', 'recovering', 'recovery', 'red', 'reddit', 'reduced', 'refer', 'reference', 'referred', 'referring', 'reflect', 'refuse', 'refused', 'refuses', 'refusing', 'regarding', 'regards', 'regret', 'regrets', 'regretted', 'regular', 'rehab', 'rejected', 'relate', 'related', 'relating', 'relationship', 'relationshipmy', 'relationships', 'relative', 'relatives', 'relax', 'relaxation', 'release', 'released', 'relented', 'relentless', 'relevant', 'relief', 'relieved', 'religious', 'reliving', 'reluctant', 'remain', 'remaining', 'remarried', 'remember', 'remembering', 'remind', 'reminded', 'remove', 'removed', 'rent', 'rental', 'reoccurring', 'repair', 'repeat', 'repeated', 'repeatedly', 'replied', 'replies', 'reply', 'replying', 'report', 'reported', 'reporting', 'reports', 'reputation', 'request', 'require', 'research', 'researcher', 'resentment', 'reservation', 'resist', 'resisting', 'resolve', 'resources', 'resourceshello', 'respect', 'respectful', 'respond', 'responded', 'responding', 'responds', 'response', 'responses', 'responsibilities', 'responsibility', 'responsible', 'rest', 'restaurant', 'restrained', 'restraining', 'restrains', 'restricted', 'restrictions', 'restroom', 'result', 'resulted', 'results', 'retail', 'retains', 'retaliate', 'retaliated', 'retaliating', 'retaliation', 'retard', 'retarded', 'rethink', 'retirement', 'retreating', 'retreats', 'retrievers', 'return', 'returned', 'returning', 'reunions', 'reunited', 'reveal', 'revealed', 'revealing', 'revenge', 'reversed', 'reversing', 'revert', 'revisit', 'revolved', 'ribs', 'rich', 'richmond', 'rid', 'ride', 'ridicule', 'ridiculous', 'rifle', 'right', 'rights', 'riling', 'ring', 'ringing', 'rinsing', 'rip', 'ripped', 'rips', 'rise', 'risk', 'risking', 'risks', 'river', 'rn', 'ro', 'roach', 'roaches', 'road', 'roadblocks', 'rob', 'robbed', 'robbery', 'robbing', 'robot', 'robyn', 'rock', 'rockstar', 'rocky', 'role', 'rolling', 'rolls', 'romance', 'romantic', 'roof', 'room', 'roommate', 'roommates', 'rooms', 'rooter', 'rot', 'rotor', 'rough', 'roughed', 'roughly', 'round', 'route', 'router', 'routine', 'routines', 'row', 'royale', 'rubbing', 'rude', 'ruin', 'ruined', 'ruiner', 'ruining', 'ruins', 'ruled', 'rules', 'ruminating', 'run', 'running', 'runs', 'rush', 'rushed', 'russian', 'rxejcejpa', 'ryan', 'sabotage', 'sabotaging', 'sacrifice', 'sad', 'sadist', 'sadistic', 'sadly', 'sadness', 'safe', 'safehaven', 'safely', 'safer', 'safest', 'safety', 'sahm', 'said', 'sais', 'sake', 'salary', 'sale', 'salem', 'salesman', 'salt', 'salvage', 'samaritan', 'samples', 'san', 'sandals', 'sane', 'sanity', 'sarcastic', 'sassy', 'sat', 'satisfied', 'saturated', 'saturday', 'save', 'saved', 'saving', 'savings', 'saw', 'say', 'saying', 'says', 'scams', 'scape', 'scar', 'scare', 'scared', 'scaredi', 'scares', 'scaring', 'scarred', 'scars', 'scary', 'scattered', 'scene', 'scenes', 'schedule', 'scheduled', 'schedules', 'scheme', 'schemes', 'schizo', 'schizophrenic', 'school', 'schooling', 'schools', 'schoolwork', 'science', 'scissors', 'scold', 'scope', 'scotland', 'scowled', 'scrambling', 'scraped', 'scratch', 'scratched', 'scratches', 'scratching', 'scream', 'screamed', 'screaming', 'screams', 'screen', 'screens', 'screenshots', 'screw', 'screwdriver', 'screwed', 'scrolling', 'scrubs', 'scuffed', 'scum', 'scurrying', 'sean', 'search', 'searching', 'seas', 'seasonal', 'seat', 'seated', 'seattle', 'second', 'secondary', 'secondly', 'seconds', 'secrecy', 'secret', 'secretive', 'secretly', 'secrets', 'secured', 'security', 'sedated', 'seeds', 'seeing', 'seek', 'seeking', 'seen', 'seeping', 'sees', 'seething', 'seizures', 'seldomly', 'select', 'selected', 'selection', 'self', 'selfies', 'selfish', 'sell', 'selling', 'semaan', 'semester', 'semi', 'send', 'sender', 'sending', 'sends', 'senior', 'sensation', 'sense', 'senseless', 'senses', 'sensible', 'sensing', 'sensitive', 'sent', 'sentence', 'sentences', 'separate', 'separated', 'separately', 'separates', 'separation', 'september', 'septum', 'ser', 'sergeant', 'serial', 'serie', 'series', 'seriously', 'seriousness', 'serve', 'served', 'service', 'services', 'serving', 'session', 'sessions', 'set', 'sets', 'setting', 'settings', 'settle', 'settled', 'seven', 'seventeen', 'seventh', 'severance', 'severe', 'severely', 'severity', 'sex', 'sexting', 'sexual', 'sexuality', 'sexually', 'sexy', 'sf', 'shades', 'shadow', 'shady', 'shake', 'shaken', 'shaking', 'shall', 'shambles', 'shame', 'shape', 'share', 'sharebar', 'shared', 'shares', 'sharing', 'shatter', 'shattered', 'shed', 'sheet', 'sheets', 'shelerts', 'shell', 'shells', 'shelter', 'shelters', 'shes', 'shield', 'shift', 'shifted', 'shifting', 'shifts', 'shin', 'shine', 'shined', 'shines', 'ship', 'shipped', 'shirt', 'shirts', 'shit', 'shithole', 'shitless', 'shits', 'shitshow', 'shitty', 'shock', 'shocked', 'shocking', 'shoe', 'shoes', 'shook', 'shoot', 'shooting', 'shoots', 'shop', 'shoping', 'shoplifted', 'shopping', 'short', 'shortage', 'shortly', 'shorts', 'shot', 'shotgun', 'shots', 'shoulder', 'shoulders', 'shout', 'shouted', 'shouting', 'shouts', 'shouty', 'shoved', 'shoves', 'shoving', 'showed', 'shower', 'showers', 'showing', 'shown', 'shows', 'shred', 'shut', 'shutting', 'si', 'sibling', 'siblings', 'sick', 'sickening', 'sides', 'sidewalk', 'sideways', 'sight', 'sights', 'sign', 'signatures', 'signed', 'significance', 'significant', 'significantly', 'signifies', 'signing', 'signs', 'silence', 'silend', 'silent', 'silently', 'silk', 'silly', 'silver', 'similac', 'similar', 'simple', 'simply', 'sin', 'sincerely', 'singapore', 'single', 'sink', 'sip', 'sir', 'sister', 'sistermy', 'sisters', 'sit', 'site', 'sites', 'sits', 'sitter', 'sitting', 'situated', 'situation', 'situationhi', 'situations', 'size', 'sized', 'sketchy', 'skills', 'skim', 'skin', 'skip', 'skipping', 'skull', 'sky', 'skype', 'sl', 'slam', 'slammed', 'slamming', 'slams', 'slander', 'slap', 'slapped', 'slapping', 'slaps', 'slave', 'sleep', 'sleeping', 'sleepless', 'sleepover', 'sleeps', 'sleepso', 'sleepy', 'sleeve', 'slept', 'slice', 'slightly', 'sling', 'slip', 'slipped', 'slippers', 'slipping', 'slit', 'slithered', 'sliver', 'slow', 'slower', 'slowly', 'slums', 'slunk', 'slur', 'slurred', 'slurs', 'slut', 'slutty', 'smack', 'smacked', 'small', 'smaller', 'smallest', 'smart', 'smarter', 'smash', 'smashed', 'smashing', 'smell', 'smells', 'smile', 'smiled', 'smiles', 'smiling', 'smirk', 'smitten', 'smoke', 'smoked', 'smokes', 'smoking', 'smoothly', 'smothering', 'snacks', 'snake', 'snap', 'snapped', 'snapping', 'snaps', 'snatched', 'sneak', 'sneaking', 'snippets', 'snooping', 'snooze', 'snow', 'sob', 'sobbed', 'sobbing', 'sober', 'sobered', 'sobriety', 'sobs', 'social', 'socialize', 'socially', 'socials', 'society', 'sociopath', 'soft', 'softly', 'software', 'sold', 'sole', 'solely', 'solid', 'solidarity', 'solution', 'solutions', 'solve', 'somebody', 'somebodyhi', 'someonei', 'someones', 'somethings', 'somewhat', 'son', 'sonething', 'song', 'songs', 'sonhey', 'sons', 'soo', 'soon', 'sooner', 'soonest', 'sooooooo', 'soothe', 'sop', 'sore', 'soreness', 'soros', 'sorry', 'sort', 'sorta', 'sorting', 'sorts', 'sought', 'soul', 'soulmate', 'sound', 'sounded', 'sounds', 'source', 'sources', 'south', 'southern', 'space', 'spaces', 'spain', 'spamming', 'span', 'spanish', 'spank', 'spanked', 'spare', 'spared', 'spasm', 'spat', 'spatter', 'spazzy', 'speak', 'speaker', 'speaking', 'speaks', 'special', 'specialist', 'specific', 'specifically', 'spectre', 'speech', 'speechless', 'spend', 'spending', 'spends', 'spent', 'spic', 'spill', 'spilled', 'spin', 'spinal', 'spineless', 'spinning', 'spiraled', 'spirit', 'spiritually', 'spit', 'spite', 'spiteful', 'spits', 'spitting', 'spittle', 'splintered', 'split', 'spoil', 'spoiled', 'spoilt', 'spoke', 'spoken', 'spontaneously', 'spooked', 'spoonful', 'spot', 'spotlight', 'spotted', 'spousal', 'spouse', 'spouses', 'sprained', 'spray', 'sprayed', 'spread', 'spreading', 'sprinting', 'spun', 'spy', 'square', 'squeamish', 'squeeze', 'squeezed', 'squeezing', 'squirting', 'st', 'stab', 'stabbed', 'stabbing', 'stability', 'stable', 'staff', 'stage', 'staged', 'stages', 'stained', 'stairs', 'stairway', 'stairwell', 'stake', 'stalk', 'stalked', 'stalker', 'stalking', 'stall', 'stamps', 'stand', 'standards', 'standing', 'staring', 'start', 'started', 'starting', 'starts', 'starving', 'state', 'stated', 'statement', 'statements', 'states', 'stating', 'station', 'statistics', 'stats', 'status', 'stay', 'stayed', 'staying', 'stays', 'steady', 'steal', 'step', 'stepdad', 'stepfather', 'stepmom', 'stepmother', 'stepped', 'steps', 'stick', 'stole', 'stolen', 'stomach', 'stood', 'stop', 'stoped', 'stopped', 'stopping', 'stops', 'storage', 'store', 'stores', 'stories', 'stormed', 'storming', 'story', 'stove', 'straight', 'straightforward', 'strain', 'stranded', 'strange', 'stranger', 'strangers', 'strangle', 'strangled', 'strangles', 'strangling', 'strangulation', 'strapped', 'strategies', 'straw', 'stream', 'streaming', 'streamso', 'street', 'streets', 'strength', 'strengthen', 'stress', 'stressed', 'stressful', 'stretch', 'stretched', 'strict', 'strike', 'strikes', 'striking', 'strings', 'strip', 'stripped', 'strips', 'stroke', 'strokes', 'strong', 'stronger', 'strongly', 'struck', 'struggle', 'struggled', 'struggles', 'struggling', 'stuck', 'student', 'students', 'studies', 'study', 'studying', 'stuff', 'stuffed', 'stuffs', 'stumbled', 'stun', 'stunned', 'stunted', 'stupid', 'stupidly', 'stupidso', 'sturt', 'sub', 'subbed', 'subdued', 'subject', 'subjects', 'submissions', 'submissive', 'submit', 'submitted', 'subreddit', 'subs', 'subside', 'substance', 'substances', 'substantially', 'substation', 'suburban', 'succeed', 'succeeded', 'success', 'successful', 'successfully', 'succumbed', 'suck', 'sucked', 'sucks', 'sudden', 'suddenly', 'sue', 'suffer', 'suffered', 'suffering', 'suffers', 'sufficient', 'suffocate', 'suffocating', 'sugar', 'suggest', 'suggested', 'suggestion', 'suggestions', 'suggestive', 'suggests', 'suicidal', 'suicide', 'suicideanother', 'suit', 'suits', 'sulking', 'sum', 'summarise', 'summarize', 'summary', 'summer', 'summoned', 'sun', 'sunday', 'sunglasses', 'sunrise', 'sunshine', 'super', 'superdrug', 'superior', 'supervised', 'supervisor', 'supper', 'supplied', 'supplies', 'support', 'supported', 'supporting', 'supportive', 'supports', 'suppose', 'supposed', 'supposedly', 'suppress', 'sure', 'surely', 'surface', 'surgery', 'surgical', 'surprise', 'surprised', 'surprising', 'surprisingly', 'surrounded', 'surrounding', 'surrounds', 'surveillance', 'survey', 'survival', 'survive', 'survives', 'surviving', 'survivor', 'survivors', 'susan', 'suseptible', 'suspect', 'suspected', 'suspended', 'suspicion', 'suspicions', 'sustained', 'sv', 'swallow', 'swallowed', 'swear', 'swearing', 'sweaty', 'sweden', 'swedish', 'sweet', 'sweetest', 'swelled', 'swelling', 'swept', 'swerved', 'swerving', 'swimming', 'swing', 'swings', 'switch', 'switched', 'switching', 'swollen', 'sympathetic', 'symptom', 'syr', 'syracuse', 'syracuseuniversity', 'ta', 'tab', 'table', 'tabs', 'tackle', 'tackled', 'taco', 'tactics', 'tad', 'taken', 'takes', 'taking', 'talk', 'talkative', 'talked', 'talking', 'talks', 'talkspace', 'tall', 'tamer', 'tamilnadu', 'tampered', 'tangent', 'tantrums', 'tape', 'tapered', 'tapped', 'target', 'task', 'tasks', 'taste', 'tasted', 'taught', 'taunted', 'taunting', 'taxi', 'taxing', 'taylor', 'tbh', 'tbi', 'tch', 'teach', 'teacher', 'teaching', 'team', 'tear', 'tearing', 'tears', 'tease', 'tech', 'technical', 'technically', 'techniques', 'technologies', 'technology', 'ted', 'teen', 'teenage', 'teenager', 'teenagers', 'teeth', 'telehealth', 'telephone', 'telesummit', 'tell', 'telling', 'tells', 'temper', 'temperament', 'temperature', 'tempered', 'tempers', 'temporarily', 'temporary', 'tempted', 'tenant', 'tenants', 'tend', 'tendancies', 'tendancy', 'tended', 'tendencies', 'tenderness', 'tends', 'tens', 'tense', 'tensions', 'tenure', 'term', 'terminate', 'terminating', 'terms', 'terrible', 'terribly', 'terrier', 'terrified', 'terrifying', 'terror', 'terrorism', 'terrorize', 'terrors', 'test', 'tested', 'testify', 'testimony', 'texas', 'text', 'textbook', 'texted', 'texting', 'texts', 'tf', 'tgql', 'th', 'tha', 'thank', 'thankful', 'thankfully', 'thanks', 'thatonefallenangel', 'thats', 'thc', 'theabuse', 'thehotline', 'thejournal', 'theme', 'therapeutic', 'therapies', 'therapist', 'therapists', 'therapy', 'theres', 'thigh', 'thighs', 'thing', 'things', 'think', 'thinking', 'thinks', 'thisi', 'tho', 'thomas', 'thongs', 'thoroughly', 'thought', 'thoughtful', 'thoughts', 'thousands', 'thr', 'thread', 'threat', 'threaten', 'threatened', 'threatening', 'threatens', 'threating', 'threats', 'threesome', 'threesomes', 'threw', 'thrift', 'thrive', 'throat', 'throbbing', 'throw', 'throwaway', 'throwback', 'throwing', 'thrown', 'throws', 'thrust', 'thrusted', 'tht', 'thuds', 'thumb', 'thumbs', 'thumper', 'thursday', 'thx', 'thyroid', 'ti', 'ticket', 'tickle', 'tickling', 'tidied', 'tidy', 'tied', 'ties', 'tight', 'tightly', 'till', 'time', 'timea', 'timeframe', 'timei', 'timeline', 'times', 'timing', 'tinder', 'tiniest', 'tiny', 'tip', 'tipped', 'tips', 'tirades', 'tire', 'tired', 'tirelessly', 'titanium', 'title', 'titles', 'tl', 'tldr', 'tnally', 'toast', 'tobacco', 'today', 'todayhi', 'todayperhaps', 'toddler', 'todo', 'toilet', 'told', 'tolerable', 'tolerance', 'tolerate', 'tolerated', 'tolerating', 'toll', 'tom', 'tome', 'tommorow', 'tomorrow', 'ton', 'tone', 'tonight', 'tons', 'tony', 'took', 'tooth', 'toothbrush', 'topic', 'topics', 'tore', 'torment', 'tormenting', 'torn', 'torrent', 'tortilla', 'torture', 'tortured', 'torturing', 'torturous', 'tossed', 'total', 'totaled', 'totally', 'touch', 'touched', 'touching', 'touchy', 'tough', 'town', 'townhi', 'tox', 'toxic', 'toy', 'toys', 'tqcarnf', 'traceless', 'tracing', 'track', 'tracked', 'tracking', 'tracks', 'trading', 'traditional', 'traffic', 'trafficked', 'tragically', 'trailblazer', 'trails', 'train', 'trained', 'training', 'trains', 'traits', 'transcript', 'transcripts', 'transfer', 'transferred', 'transferring', 'transformers', 'transgender', 'transitioned', 'translate', 'translator', 'transmitted', 'transport', 'transportation', 'trapped', 'trash', 'trashing', 'trashy', 'trauma', 'traumas', 'traumatic', 'traumatize', 'traumatized', 'traumatizing', 'traumitizing', 'travel', 'traveling', 'tray', 'treat', 'treated', 'treating', 'treatment', 'treats', 'trembled', 'tremendous', 'trial', 'trialplease', 'trials', 'trick', 'tried', 'tries', 'trigger', 'triggered', 'triggering', 'triggers', 'trip', 'triple', 'tripping', 'triumph', 'troll', 'trolling', 'trouble', 'troubled', 'troublemaker', 'troubling', 'trough', 'truck', 'trucks', 'true', 'truely', 'truly', 'trust', 'trusted', 'trusting', 'trusts', 'truth', 'truthfully', 'try', 'trying', 'tryna', 'tube', 'tuesday', 'tuition', 'tumblr', 'tummy', 'tunnel', 'turbulent', 'turkey', 'turmoil', 'turn', 'turned', 'turning', 'turnip', 'turns', 'tv', 'tw', 'twice', 'twins', 'twist', 'twisted', 'twitch', 'twitter', 'tx', 'txdtv', 'type', 'typed', 'types', 'typical', 'typically', 'typing', 'uclan', 'ugh', 'ugly', 'uhaul', 'uk', 'ukulele', 'ultimately', 'ultimatum', 'um', 'umbilical', 'unable', 'unashamed', 'unavailable', 'unbearable', 'unblock', 'unborn', 'uncalled', 'uncertainty', 'uncle', 'unclear', 'uncomfortable', 'uncommunicative', 'unconditionally', 'unconscious', 'uncover', 'undeniable', 'underdog', 'underlying', 'underneath', 'understand', 'understandable', 'understandably', 'understanding', 'understands', 'understood', 'underwear', 'undiagnosed', 'uneasy', 'unemployed', 'unemployment', 'unerving', 'unevenly', 'unexpectedly', 'unfit', 'unfold', 'unforgivable', 'unfortunate', 'unfortunately', 'unfounded', 'unfriend', 'ungrateful', 'unhappy', 'unharmed', 'unhealthy', 'unheard', 'unhelpful', 'unhinged', 'uni', 'unimportant', 'unintelligent', 'union', 'unis', 'unit', 'united', 'university', 'unkind', 'unknowingly', 'unknown', 'unless', 'unlike', 'unlikely', 'unlisted', 'unloaded', 'unlock', 'unpredictable', 'unprotected', 'unreasonable', 'unrelated', 'unsafe', 'unstable', 'unsure', 'upped', 'upper', 'uprooted', 'ups', 'upset', 'upside', 'upstairs', 'upvote', 'upwards', 'urgent', 'usa', 'use', 'used', 'useful', 'useless', 'username', 'uses', 'usher', 'using', 'usp', 'usps', 'usual', 'usually', 'utensils', 'utilities', 'utm', 'utterance', 'uttered', 'utterly', 'va', 'vacation', 'vaccine', 'vacuuming', 'vague', 'valentine', 'valid', 'validated', 'validating', 'validation', 'validity', 'valium', 'valuable', 'value', 'valve', 'valves', 'van', 'vanish', 'vape', 'various', 'vary', 'vast', 'vehement', 'vehemently', 'vehicle', 'vehicles', 'veins', 'vendetta', 'venmo', 'venom', 'vent', 'vented', 'venti', 'venting', 'ventured', 'ventures', 'verbal', 'verbally', 'verge', 'version', 'versus', 'vessels', 'viable', 'viagra', 'vibe', 'vibing', 'vibrant', 'vicarious', 'vicodin', 'victim', 'victimi', 'victimizing', 'victims', 'victimshello', 'victimsmy', 'victoria', 'video', 'videos', 'view', 'viewed', 'viewform', 'viewing', 'views', 'vigorously', 'vile', 'vindicating', 'vindictive', 'vinegar', 'violate', 'violated', 'violates', 'violating', 'violation', 'violations', 'violence', 'violencedoes', 'violencehey', 'violencei', 'violencemy', 'violencenif', 'violent', 'violently', 'virgin', 'virginia', 'virginity', 'virtual', 'virus', 'visa', 'visible', 'vision', 'visions', 'visit', 'visitation', 'visited', 'visiting', 'visitor', 'visits', 'vitamins', 'vitriol', 'vividly', 'vocabulary', 'vocational', 'voice', 'voicemail', 'voicemails', 'voices', 'volatile', 'vouch', 'vows', 'vpo', 'vtelliggh', 'vulnerability', 'vulnerable', 'waaaay', 'wait', 'waited', 'waiting', 'waitinglist', 'waitress', 'waived', 'wake', 'wakes', 'waking', 'wales', 'walk', 'walked', 'walking', 'walks', 'wall', 'wallet', 'walls', 'walmart', 'walther', 'wana', 'wanna', 'want', 'wanted', 'wantedi', 'wanting', 'wants', 'war', 'wards', 'warfare', 'warm', 'warned', 'warning', 'warrant', 'warrany', 'warrior', 'wash', 'washer', 'washing', 'washington', 'wasnt', 'waste', 'wasted', 'wasting', 'watch', 'watched', 'watches', 'watching', 'water', 'waterfall', 'waves', 'waving', 'way', 'ways', 'weak', 'weakling', 'weakness', 'weaknesses', 'wealthy', 'weapon', 'wear', 'wearing', 'weather', 'weaving', 'website', 'websites', 'wedding', 'wednesday', 'weed', 'week', 'weekdays', 'weekend', 'weekends', 'weekly', 'weeks', 'weigh', 'weighed', 'weighs', 'weight', 'weights', 'weird', 'weirdo', 'welcome', 'welcomed', 'wellbeing', 'wellness', 'went', 'werent', 'west', 'wet', 'wfh', 'whats', 'whatsapp', 'wheel', 'whereabouts', 'whilst', 'whim', 'whims', 'whip', 'whiskey', 'whispered', 'white', 'whixh', 'whomever', 'whore', 'whyd', 'wic', 'wich', 'wicked', 'wide', 'wife', 'wifi', 'willing', 'willingness', 'win', 'wind', 'windex', 'window', 'windows', 'wine', 'winner', 'winter', 'wipe', 'wiped', 'wiping', 'wire', 'wired', 'wiring', 'wise', 'wish', 'wished', 'wishes', 'wishestl', 'wishing', 'withdraw', 'withdrawals', 'withdrawn', 'withholding', 'witness', 'witnessed', 'witnesses', 'witnessing', 'wits', 'wives', 'wnaad', 'woke', 'woken', 'woman', 'women', 'womens', 'wonder', 'wonderful', 'wondering', 'wont', 'wood', 'wooden', 'woooo', 'word', 'wording', 'words', 'wore', 'work', 'workaholic', 'worked', 'worker', 'workers', 'working', 'workmy', 'workout', 'workouts', 'workplace', 'works', 'workshop', 'world', 'worldhello', 'worldwide', 'worn', 'worried', 'worries', 'worry', 'worrying', 'worse', 'worsening', 'worst', 'worth', 'worthless', 'wouldnt', 'wouldve', 'wound', 'wounds', 'wrangling', 'wrap', 'wrapped', 'wreck', 'wrecked', 'wrenching', 'wrestled', 'wrist', 'wrists', 'write', 'writer', 'writing', 'written', 'wrong', 'wrote', 'wtf', 'wv', 'www', 'wzbieknbutygr', 'xanax', 'xbox', 'xx', 'xyz', 'ya', 'yall', 'yanking', 'yard', 'yardhi', 'yay', 'yea', 'yeah', 'year', 'years', 'yell', 'yelled', 'yelling', 'yells', 'yes', 'yesterday', 'yikes', 'yo', 'youd', 'youdoes', 'young', 'younger', 'youngest', 'youre', 'youth', 'youtu', 'youtube', 'yr', 'yrds', 'yrs', 'yt', 'yvibehuvns', 'zero', 'zoloft', 'zone', 'zoom']\n"
     ]
    }
   ],
   "source": [
    "suicide_word_list = vectorizer.get_feature_names()\n",
    "print(suicide_word_list)"
   ]
  },
  {
   "cell_type": "code",
   "execution_count": 29,
   "metadata": {},
   "outputs": [],
   "source": [
    "suicide_words = list(df.selftext[(df.target ==1)])"
   ]
  },
  {
   "cell_type": "code",
   "execution_count": 30,
   "metadata": {},
   "outputs": [],
   "source": [
    "scvec = CountVectorizer(analyzer='word', max_features=5000)\n",
    "suicide_cv = scvec.fit_transform(suicide_words)"
   ]
  },
  {
   "cell_type": "code",
   "execution_count": 31,
   "metadata": {},
   "outputs": [],
   "source": [
    "suicide_words = pd.DataFrame(suicide_cv.todense(), columns=scvec.get_feature_names())"
   ]
  },
  {
   "cell_type": "code",
   "execution_count": 32,
   "metadata": {},
   "outputs": [],
   "source": [
    "suicide_coef = suicide_words.mean().sort_values(ascending=False)[:10]"
   ]
  },
  {
   "cell_type": "code",
   "execution_count": 33,
   "metadata": {},
   "outputs": [
    {
     "name": "stdout",
     "output_type": "stream",
     "text": [
      "Domestic Violence dataset total row and column: (410, 5000)\n"
     ]
    },
    {
     "data": {
      "text/html": [
       "<div>\n",
       "<style scoped>\n",
       "    .dataframe tbody tr th:only-of-type {\n",
       "        vertical-align: middle;\n",
       "    }\n",
       "\n",
       "    .dataframe tbody tr th {\n",
       "        vertical-align: top;\n",
       "    }\n",
       "\n",
       "    .dataframe thead th {\n",
       "        text-align: right;\n",
       "    }\n",
       "</style>\n",
       "<table border=\"1\" class=\"dataframe\">\n",
       "  <thead>\n",
       "    <tr style=\"text-align: right;\">\n",
       "      <th></th>\n",
       "      <th>ab</th>\n",
       "      <th>aba</th>\n",
       "      <th>abandoned</th>\n",
       "      <th>abandoning</th>\n",
       "      <th>abandonment</th>\n",
       "      <th>abdomen</th>\n",
       "      <th>abide</th>\n",
       "      <th>ability</th>\n",
       "      <th>able</th>\n",
       "      <th>abnormal</th>\n",
       "      <th>...</th>\n",
       "      <th>youtube</th>\n",
       "      <th>yr</th>\n",
       "      <th>yrds</th>\n",
       "      <th>yrs</th>\n",
       "      <th>yt</th>\n",
       "      <th>yvibehuvns</th>\n",
       "      <th>zero</th>\n",
       "      <th>zoloft</th>\n",
       "      <th>zone</th>\n",
       "      <th>zoom</th>\n",
       "    </tr>\n",
       "  </thead>\n",
       "  <tbody>\n",
       "    <tr>\n",
       "      <th>0</th>\n",
       "      <td>0</td>\n",
       "      <td>0</td>\n",
       "      <td>0</td>\n",
       "      <td>0</td>\n",
       "      <td>0</td>\n",
       "      <td>0</td>\n",
       "      <td>0</td>\n",
       "      <td>0</td>\n",
       "      <td>2</td>\n",
       "      <td>0</td>\n",
       "      <td>...</td>\n",
       "      <td>0</td>\n",
       "      <td>0</td>\n",
       "      <td>0</td>\n",
       "      <td>0</td>\n",
       "      <td>0</td>\n",
       "      <td>0</td>\n",
       "      <td>0</td>\n",
       "      <td>0</td>\n",
       "      <td>0</td>\n",
       "      <td>0</td>\n",
       "    </tr>\n",
       "    <tr>\n",
       "      <th>1</th>\n",
       "      <td>0</td>\n",
       "      <td>0</td>\n",
       "      <td>0</td>\n",
       "      <td>0</td>\n",
       "      <td>0</td>\n",
       "      <td>0</td>\n",
       "      <td>0</td>\n",
       "      <td>0</td>\n",
       "      <td>0</td>\n",
       "      <td>0</td>\n",
       "      <td>...</td>\n",
       "      <td>0</td>\n",
       "      <td>0</td>\n",
       "      <td>1</td>\n",
       "      <td>0</td>\n",
       "      <td>0</td>\n",
       "      <td>0</td>\n",
       "      <td>0</td>\n",
       "      <td>0</td>\n",
       "      <td>0</td>\n",
       "      <td>0</td>\n",
       "    </tr>\n",
       "    <tr>\n",
       "      <th>2</th>\n",
       "      <td>0</td>\n",
       "      <td>0</td>\n",
       "      <td>0</td>\n",
       "      <td>0</td>\n",
       "      <td>0</td>\n",
       "      <td>1</td>\n",
       "      <td>0</td>\n",
       "      <td>0</td>\n",
       "      <td>0</td>\n",
       "      <td>0</td>\n",
       "      <td>...</td>\n",
       "      <td>0</td>\n",
       "      <td>0</td>\n",
       "      <td>0</td>\n",
       "      <td>0</td>\n",
       "      <td>0</td>\n",
       "      <td>0</td>\n",
       "      <td>0</td>\n",
       "      <td>0</td>\n",
       "      <td>0</td>\n",
       "      <td>0</td>\n",
       "    </tr>\n",
       "    <tr>\n",
       "      <th>3</th>\n",
       "      <td>0</td>\n",
       "      <td>0</td>\n",
       "      <td>0</td>\n",
       "      <td>0</td>\n",
       "      <td>0</td>\n",
       "      <td>0</td>\n",
       "      <td>0</td>\n",
       "      <td>0</td>\n",
       "      <td>0</td>\n",
       "      <td>0</td>\n",
       "      <td>...</td>\n",
       "      <td>0</td>\n",
       "      <td>0</td>\n",
       "      <td>0</td>\n",
       "      <td>0</td>\n",
       "      <td>0</td>\n",
       "      <td>0</td>\n",
       "      <td>0</td>\n",
       "      <td>0</td>\n",
       "      <td>0</td>\n",
       "      <td>0</td>\n",
       "    </tr>\n",
       "    <tr>\n",
       "      <th>4</th>\n",
       "      <td>0</td>\n",
       "      <td>0</td>\n",
       "      <td>0</td>\n",
       "      <td>0</td>\n",
       "      <td>0</td>\n",
       "      <td>0</td>\n",
       "      <td>0</td>\n",
       "      <td>0</td>\n",
       "      <td>0</td>\n",
       "      <td>0</td>\n",
       "      <td>...</td>\n",
       "      <td>0</td>\n",
       "      <td>0</td>\n",
       "      <td>0</td>\n",
       "      <td>0</td>\n",
       "      <td>0</td>\n",
       "      <td>0</td>\n",
       "      <td>0</td>\n",
       "      <td>0</td>\n",
       "      <td>0</td>\n",
       "      <td>0</td>\n",
       "    </tr>\n",
       "  </tbody>\n",
       "</table>\n",
       "<p>5 rows × 5000 columns</p>\n",
       "</div>"
      ],
      "text/plain": [
       "   ab  aba  abandoned  abandoning  abandonment  abdomen  abide  ability  able  \\\n",
       "0   0    0          0           0            0        0      0        0     2   \n",
       "1   0    0          0           0            0        0      0        0     0   \n",
       "2   0    0          0           0            0        1      0        0     0   \n",
       "3   0    0          0           0            0        0      0        0     0   \n",
       "4   0    0          0           0            0        0      0        0     0   \n",
       "\n",
       "   abnormal  ...  youtube  yr  yrds  yrs  yt  yvibehuvns  zero  zoloft  zone  \\\n",
       "0         0  ...        0   0     0    0   0           0     0       0     0   \n",
       "1         0  ...        0   0     1    0   0           0     0       0     0   \n",
       "2         0  ...        0   0     0    0   0           0     0       0     0   \n",
       "3         0  ...        0   0     0    0   0           0     0       0     0   \n",
       "4         0  ...        0   0     0    0   0           0     0       0     0   \n",
       "\n",
       "   zoom  \n",
       "0     0  \n",
       "1     0  \n",
       "2     0  \n",
       "3     0  \n",
       "4     0  \n",
       "\n",
       "[5 rows x 5000 columns]"
      ]
     },
     "execution_count": 33,
     "metadata": {},
     "output_type": "execute_result"
    }
   ],
   "source": [
    "print(f\"Domestic Violence dataset total row and column: {suicide_words.shape}\")\n",
    "suicide_words.head()"
   ]
  },
  {
   "cell_type": "code",
   "execution_count": 36,
   "metadata": {},
   "outputs": [],
   "source": [
    "# Function to find the common words on each subreddits\n",
    "def common_words(a, b):\n",
    "    a_set = set(a)\n",
    "    b_set = set(b)\n",
    "    if (a_set & b_set):\n",
    "        print(a_set & b_set)\n",
    "    else:\n",
    "        print(\"No common elements\")"
   ]
  },
  {
   "cell_type": "code",
   "execution_count": 37,
   "metadata": {},
   "outputs": [
    {
     "name": "stdout",
     "output_type": "stream",
     "text": [
      "{'comfort', 'tantrums', 'screen', 'lawyer', 'somebody', 'ring', 'fall', 'tracks', 'brief', 'roof', 'washing', 'chores', 'psychosis', 'suppress', 'bet', 'carrying', 'obsessed', 'helpi', 'desire', 'contributing', 'minute', 'bf', 'triggers', 'muslim', 'problems', 'unconscious', 'gift', 'kitchen', 'reasonable', 'bitter', 'taken', 'smoking', 'lead', 'scaring', 'wet', 'suppose', 'blame', 'slams', 'beginning', 'insecure', 'medication', 'wasted', 'virgin', 'pictures', 'people', 'intense', 'convincing', 'expecting', 'heart', 'spinal', 'stable', 'strangled', 'breaking', 'soul', 'surprising', 'cool', 'episode', 'ridiculous', 'little', 'attacking', 'responses', 'imagined', 'certainly', 'shares', 'simply', 'bone', 'scheme', 'resolve', 'entirely', 'tf', 'lifetime', 'retirement', 'shut', 'relate', 'adjusted', 'swallowed', 'success', 'benefit', 'old', 'embarrassed', 'related', 'solid', 'leaving', 'stalk', 'past', 'smell', 'remaining', 'wait', 'deal', 'achieve', 'meeting', 'cops', 'shape', 'accounts', 'diagnosed', 'matter', 'start', 'helpless', 'scheduled', 'refer', 'planning', 'value', 'vividly', 'missing', 'vicarious', 'thank', 'mainly', 'hear', 'wish', 'disgusting', 'coping', 'catch', 'considering', 'blur', 'career', 'advice', 'key', 'english', 'strange', 'hotline', 'excuses', 'think', 'logic', 'married', 'difficult', 'shop', 'attracted', 'size', 'changes', 'glass', 'knee', 'raped', 'moment', 'sabotaging', 'helpful', 'training', 'sleep', 'borderline', 'challenging', 'underwear', 'super', 'ish', 'router', 'calls', 'risk', 'bag', 'saturday', 'boyfriend', 'privilege', 'driven', 'helping', 'noticed', 'injuries', 'insurance', 'work', 'require', 'police', 'lies', 'bought', 'yelled', 'shred', 'interviews', 'regretted', 'upset', 'misses', 'therapy', 'breathing', 'toddler', 'useful', 'mg', 'weather', 'rules', 'breathe', 'comments', 'walk', 'placed', 'busy', 'questioning', 'blood', 'rape', 'children', 'beautiful', 'years', 'develop', 'cases', 'public', 'confusing', 'doors', 'insults', 'say', 'randomly', 'seen', 'desperately', 'kick', 'church', 'bullshit', 'excuse', 'bus', 'chat', 'phase', 'cleared', 'cheated', 'stuff', 'neck', 'stress', 'guess', 'picked', 'isolation', 'handled', 'leave', 'samaritan', 'figure', 'sentences', 'scissors', 'weed', 'chance', 'court', 'cycle', 'suffocate', 'lying', 'general', 'plus', 'college', 'burned', 'rot', 'convinced', 'maintain', 'tells', 'spit', 'chill', 'reveal', 'straightforward', 'member', 'blowing', 'presence', 'failure', 'sexually', 'friends', 'rip', 'fortunately', 'kid', 'gf', 'acknowledged', 'witnessed', 'hiding', 'rock', 'tiniest', 'study', 'initially', 'tbh', 'forgotten', 'changed', 'ceiling', 'writing', 'marks', 'enjoyed', 'notes', 'sore', 'germany', 'finds', 'happening', 'drowning', 'tuition', 'dreams', 'reading', 'slammed', 'weak', 'drained', 'shutting', 'favorite', 'socially', 'responded', 'provide', 'thrive', 'drink', 'deep', 'luck', 'red', 'welcome', 'effects', 'sent', 'murder', 'dies', 'bisexual', 'offered', 'cross', 'girl', 'blind', 'punch', 'obtain', 'shit', 'stays', 'sympathetic', 'familiar', 'entitled', 'lady', 'specifically', 'walked', 'useless', 'suggestions', 'suspended', 'attend', 'look', 'listen', 'yo', 'awful', 'someonei', 'ranting', 'spineless', 'door', 'hard', 'result', 'service', 'https', 'post', 'traits', 'thing', 'terrifying', 'dead', 'wound', 'respect', 'shoulder', 'discovered', 'track', 'location', 'irrational', 'dated', 'hundreds', 'medicine', 'making', 'fights', 'bitterness', 'laid', 'working', 'birthday', 'pushes', 'cars', 'photos', 'boss', 'asap', 'confusion', 'meaningless', 'utilities', 'stick', 'shelter', 'slightly', 'parents', 'homes', 'absent', 'loved', 'fucked', 'forgive', 'climbing', 'certain', 'believed', 'drank', 'refuse', 'strikes', 'abandonment', 'alcoholic', 'alot', 'relative', 'dramatic', 'adhd', 'slip', 'saving', 'deserves', 'grandparents', 'intentions', 'various', 'grandpa', 'treated', 'evil', 'songs', 'shelters', 'real', 'denial', 'giving', 'slave', 'spreading', 'baggage', 'thanks', 'sides', 'wanted', 'sought', 'realize', 'paranoid', 'hour', 'close', 'video', 'hearing', 'condition', 'drawing', 'stand', 'appears', 'employer', 'pouring', 'addicted', 'force', 'point', 'torture', 'knew', 'twisted', 'male', 'ability', 'news', 'genuinely', 'survivor', 'letting', 'sorts', 'slit', 'dependent', 'ptsd', 'beaten', 'yeah', 'honestly', 'pumped', 'affects', 'horrible', 'decision', 'schedule', 'amazing', 'eat', 'answers', 'dates', 'clear', 'unprotected', 'step', 'fail', 'yay', 'miles', 'fed', 'teaching', 'draining', 'ignoring', 'technically', 'death', 'proof', 'current', 'pushed', 'scene', 'september', 'asleep', 'place', 'forced', 'starting', 'feels', 'sucked', 'building', 'felt', 'vision', 'reacted', 'bigger', 'harmed', 'contact', 'runs', 'smashing', 'differently', 'bridges', 'guidance', 'normal', 'animals', 'sister', 'fast', 'breakdowns', 'screaming', 'settle', 'keeping', 'able', 'okay', 'scream', 'build', 'surely', 'shooting', 'conflicted', 'tons', 'club', 'snapped', 'female', 'bleeding', 'anxious', 'perfectly', 'putting', 'teacher', 'sake', 'hurt', 'checks', 'skills', 'responds', 'spits', 'bother', 'government', 'spends', 'whilst', 'spouses', 'turns', 'afford', 'roommates', 'legit', 'rare', 'recently', 'surgery', 'property', 'isnt', 'costs', 'seething', 'obvious', 'discussed', 'iv', 'spun', 'uk', 'buying', 'huge', 'wonder', 'anyways', 'exact', 'actively', 'anymore', 'soon', 'regarding', 'considered', 'visits', 'attempt', 'fight', 'opinions', 'stepped', 'probably', 'woke', 'existed', 'touch', 'defend', 'pleaded', 'bang', 'overdose', 'alert', 'drugs', 'honest', 'previously', 'truck', 'half', 'struggles', 'stated', 'shoot', 'swear', 'weight', 'join', 'pleasure', 'didnt', 'cursed', 'numbers', 'direct', 'accidentally', 'financially', 'behave', 'seat', 'concept', 'cook', 'crap', 'given', 'near', 'exactly', 'released', 'committing', 'release', 'complex', 'emotions', 'ruins', 'previous', 'burst', 'purchased', 'posts', 'jumped', 'slutty', 'hell', 'embarrassing', 'project', 'wished', 'attempted', 'wine', 'seriously', 'arms', 'works', 'smiles', 'lowest', 'private', 'scratching', 'senses', 'apply', 'treatment', 'paragraph', 'butt', 'attempting', 'patch', 'pass', 'lockdown', 'aggressive', 'hurtful', 'situation', 'straight', 'sprayed', 'paranoia', 'members', 'science', 'alcohol', 'spoke', 'temporarily', 'struggle', 'recovering', 'harassment', 'path', 'hole', 'slut', 'judge', 'apart', 'feeling', 'selfish', 'console', 'actions', 'like', 'tenderness', 'slowly', 'leech', 'countless', 'main', 'emotional', 'views', 'getting', 'whim', 'means', 'nightmare', 'resulted', 'hands', 'opportunity', 'weirdo', 'time', 'bystander', 'asking', 'stopping', 'spouse', 'relationship', 'connection', 'aside', 'boys', 'damn', 'open', 'grateful', 'king', 'bit', 'weekend', 'memories', 'injury', 'surprisingly', 'breakup', 'fit', 'admitted', 'acc', 'message', 'jesus', 'threaten', 'continued', 'love', 'committed', 'independent', 'cult', 'help', 'worn', 'february', 'link', 'im', 'lately', 'mental', 'existence', 'mind', 'interact', 'tracked', 'disgust', 'random', 'december', 'nurse', 'shoes', 'till', 'battling', 'gave', 'substance', 'tear', 'room', 'waste', 'alright', 'weeks', 'dinner', 'vibe', 'river', 'following', 'tube', 'stops', 'trusted', 'station', 'sat', 'slipping', 'mocked', 'bear', 'nightmares', 'passive', 'charge', 'youre', 'awareness', 'men', 'believe', 'leading', 'hes', 'continues', 'moving', 'response', 'shoe', 'sharing', 'depending', 'sick', 'bring', 'played', 'research', 'messed', 'rehab', 'supposed', 'lasted', 'restroom', 'experiences', 'anxiety', 'harder', 'dream', 'finished', 'supportive', 'speak', 'sunday', 'deals', 'taking', 'entered', 'worker', 'books', 'events', 'good', 'hesitant', 'sad', 'available', 'applies', 'dr', 'severity', 'big', 'shocked', 'polite', 'version', 'issue', 'jokes', 'mouth', 'met', 'right', 'choose', 'yesterday', 'unfortunate', 'prepared', 'utm', 'uncle', 'attention', 'perspective', 'memory', 'pressure', 'despite', 'asian', 'hanging', 'fool', 'foot', 'blocked', 'food', 'lbs', 'overreacting', 'ashamed', 'shoved', 'occasionally', 'home', 'sugar', 'invited', 'tip', 'keeps', 'babysit', 'began', 'clean', 'witnessing', 'jaw', 'metal', 'cleaning', 'managed', 'restaurant', 'disappeared', 'narcissist', 'took', 'savings', 'transgender', 'faces', 'makes', 'fat', 'silently', 'born', 'fixed', 'texted', 'known', 'wits', 'sisters', 'air', 'mei', 'vacation', 'completely', 'finding', 'satisfied', 'christmas', 'survival', 'deprived', 'reassurance', 'vaccine', 'wiring', 'choices', 'truly', 'ankle', 'mods', 'bare', 'change', 'bachelor', 'closer', 'cheat', 'wired', 'concerned', 'venting', 'wreck', 'victimizing', 'circumstances', 'stepfather', 'landlord', 'dog', 'consequences', 'june', 'numerous', 'dating', 'dropped', 'plan', 'shells', 'consequence', 'secret', 'sexuality', 'conditions', 'strength', 'rate', 'thisi', 'werent', 'called', 'afraid', 'moms', 'lower', 'touching', 'separate', 'painful', 'god', 'lived', 'decisions', 'days', 'came', 'important', 'validated', 'tomorrow', 'grief', 'belong', 'friendships', 'new', 'usa', 'thats', 'opened', 'slept', 'week', 'expected', 'sign', 'tend', 'weights', 'elementary', 'carried', 'beg', 'looking', 'families', 'agony', 'paper', 'idea', 'consciousness', 'sounds', 'resources', 'gun', 'functional', 'wasting', 'unable', 'worked', 'inside', 'brain', 'bi', 'try', 'swollen', 'wich', 'wrist', 'jealous', 'daily', 'conversation', 'succeeded', 'needing', 'check', 'return', 'shame', 'downstairs', 'texts', 'hang', 'trash', 'course', 'custody', 'regrets', 'trained', 'verbal', 'selling', 'moves', 'fired', 'affected', 'brave', 'reminded', 'fix', 'personal', 'chances', 'episodes', 'falling', 'pm', 'windex', 'expensive', 'august', 'reasons', 'uncertainty', 'wash', 'pathetic', 'nearly', 'broken', 'smiling', 'mail', 'volatile', 'hello', 'viable', 'faith', 'survives', 'lock', 'listened', 'tempers', 'rent', 'therapist', 'successfully', 'self', 'early', 'cold', 'mask', 'suffers', 'psychologically', 'raise', 'distant', 'loves', 'number', 'yrs', 'recover', 'thoroughly', 'bridge', 'revealed', 'worry', 'lack', 'far', 'results', 'permanently', 'complaining', 'gonna', 'woman', 'mix', 'youtube', 'silence', 'info', 'scaredi', 'likes', 'psycho', 'verge', 'thought', 'toxic', 'report', 'question', 'spoken', 'long', 'replied', 'wooden', 'community', 'stopped', 'stability', 'said', 'straw', 'traumatizing', 'ect', 'floor', 'lesson', 'currently', 'confused', 'waking', 'grocery', 'teeth', 'supporting', 'machine', 'frame', 'trauma', 'went', 'relief', 'energy', 'high', 'stepmom', 'handed', 'consider', 'tiny', 'overall', 'middle', 'bothered', 'begging', 'thankful', 'feet', 'acknowledge', 'watch', 'unhappy', 'really', 'person', 'smoked', 'smacked', 'depression', 'homework', 'ensure', 'demanding', 'hoped', 'realized', 'winner', 'sudden', 'struggled', 'pretend', 'eventually', 'kind', 'fell', 'confidence', 'againi', 'symptom', 'beater', 'parts', 'bite', 'factors', 'depressed', 'fucking', 'created', 'challenge', 'friday', 'awesome', 'game', 'tries', 'agreement', 'parent', 'grades', 'stayed', 'dangerous', 'shift', 'purpose', 'socialize', 'housing', 'ride', 'average', 'bones', 'ones', 'visited', 'starving', 'pray', 'solution', 'area', 'esteem', 'separated', 'threats', 'needs', 'record', 'anytime', 'assault', 'brick', 'play', 'ugh', 'effect', 'odd', 'neighbors', 'vent', 'writer', 'foster', 'moments', 'spilled', 'supported', 'ear', 'blow', 'special', 'yells', 'drove', 'cheating', 'showed', 'surprised', 'period', 'alive', 'color', 'dumb', 'social', 'wheel', 'wrap', 'problem', 'anybody', 'shortly', 'dads', 'points', 'computer', 'approximately', 'names', 'pussy', 'mom', 'scared', 'travel', 'recorded', 'strangers', 'want', 'spy', 'prison', 'drinking', 'stroke', 'finally', 'suits', 'zone', 'creative', 'scum', 'maybe', 'preparing', 'com', 'payment', 'suspected', 'changing', 'tackle', 'department', 'frustrated', 'forgot', 'refused', 'receive', 'bar', 'wondering', 'yr', 'details', 'calmly', 'laundry', 'thread', 'typically', 'abuses', 'hey', 'irritated', 'job', 'suffer', 'jump', 'destroyed', 'sober', 'utterly', 'ex', 'complain', 'stories', 'gym', 'depressive', 'supplies', 'younger', 'closest', 'shaking', 'dig', 'btw', 'primary', 'traveling', 'privacy', 'movies', 'sobriety', 'beat', 'wanna', 'address', 'courses', 'walls', 'failed', 'tad', 'history', 'daughter', 'specialist', 'knees', 'single', 'suddenly', 'sane', 'rant', 'worrying', 'lifted', 'pack', 'evidence', 'ocd', 'ends', 'pieces', 'sexual', 'bright', 'space', 'lines', 'balcony', 'happen', 'respectful', 'need', 'sweden', 'checking', 'consent', 'shotgun', 'caring', 'stairs', 'playing', 'going', 'settings', 'topic', 'target', 'classes', 'human', 'owe', 'process', 'worst', 'walks', 'counseling', 'apologized', 'apologies', 'terrified', 'covered', 'come', 'adding', 'brat', 'insecurities', 'begin', 'combined', 'deserve', 'wonderful', 'worries', 'traumatize', 'talked', 'hopefully', 'possible', 'speaking', 'freak', 'dearly', 'hopes', 'overweight', 'hurts', 'breasts', 'tolerable', 'pretending', 'recall', 'vendetta', 'sending', 'addiction', 'offer', 'young', 'toys', 'boundaries', 'physical', 'voice', 'stream', 'great', 'sit', 'faster', 'wouldve', 'pay', 'final', 'posting', 'adults', 'gives', 'drive', 'office', 'developed', 'traffic', 'filled', 'infection', 'grade', 'argue', 'teen', 'guys', 'sources', 'ripped', 'lungs', 'spending', 'animal', 'disrespectful', 'havent', 'reaction', 'safest', 'health', 'disorder', 'sold', 'second', 'proceed', 'forever', 'held', 'local', 'taylor', 'thousands', 'sucks', 'daycare', 'lot', 'possibility', 'shirt', 'america', 'pissed', 'laughs', 'distance', 'sob', 'wedding', 'noticing', 'cbt', 'glad', 'blames', 'brother', 'causing', 'hot', 'mark', 'effectively', 'yard', 'spitting', 'relieved', 'trapped', 'nose', 'normally', 'attached', 'note', 'weakness', 'actual', 'gotten', 'saying', 'staff', 'liar', 'lunch', 'choking', 'quiet', 'teenager', 'appointment', 'minutes', 'flashbacks', 'statement', 'semi', 'ambulance', 'told', 'mistakes', 'improve', 'running', 'wants', 'terror', 'refuses', 'silent', 'smoke', 'routine', 'brings', 'focusing', 'purposely', 'man', 'store', 'fixing', 'distanced', 'significant', 'tone', 'whats', 'cuts', 'piece', 'basement', 'money', 'instagram', 'thankfully', 'kiss', 'prepare', 'thrown', 'screamed', 'supposedly', 'pos', 'form', 'hate', 'hide', 'test', 'scare', 'sell', 'weapon', 'temper', 'fully', 'tuesday', 'understanding', 'gets', 'impossible', 'boy', 'consumed', 'searching', 'island', 'backstory', 'manipulative', 'stupid', 'conservative', 'trusting', 'childhood', 'context', 'natural', 'threw', 'subs', 'loss', 'bipolar', 'extended', 'vibrant', 'treat', 'frustration', 'spread', 'education', 'knowing', 'teach', 'program', 'baby', 'shits', 'son', 'stalked', 'sure', 'victims', 'deleted', 'bed', 'suggested', 'recommend', 'marriage', 'dark', 'welcomed', 'disability', 'class', 'pre', 'circles', 'anger', 'set', 'attractive', 'looks', 'smallest', 'pregnant', 'coward', 'shambles', 'vague', 'cabinet', 'violence', 'threat', 'illness', 'kinds', 'needed', 'thumb', 'shared', 'boring', 'trip', 'summer', 'lay', 'fuck', 'studying', 'tasks', 'outta', 'punched', 'learn', 'approaching', 'psychotic', 'bury', 'canada', 'unlikely', 'remember', 'apparently', 'wounds', 'traumatic', 'source', 'pick', 'stolen', 'ignores', 'terribly', 'masters', 'favor', 'starts', 'apologize', 'behavior', 'live', 'wishing', 'million', 'arrived', 'explaining', 'plans', 'seventh', 'dealing', 'intention', 'cliff', 'acts', 'awkward', 'virtual', 'select', 'temporary', 'occasions', 'understand', 'schoolwork', 'crying', 'hates', 'survey', 'peace', 'particularly', 'doesnt', 'stalking', 'reputation', 'included', 'massive', 'spite', 'kept', 'recovery', 'potential', 'wealthy', 'christian', 'timei', 'wind', 'wont', 'stuffs', 'blaming', 'sickening', 'meds', 'corona', 'extremely', 'rough', 'listening', 'county', 'sub', 'garage', 'signs', 'fighting', 'shoplifted', 'society', 'flat', 'ready', 'handle', 'loving', 'locked', 'highly', 'squeezing', 'whore', 'lie', 'stupidly', 'destroying', 'responsible', 'traumatized', 'seas', 'art', 'remind', 'generally', 'perfect', 'casually', 'list', 'carry', 'quickly', 'abused', 'hung', 'jobs', 'greatest', 'desperate', 'sum', 'psychological', 'pretty', 'account', 'validation', 'abuse', 'shake', 'screwed', 'reflect', 'abandoned', 'function', 'holes', 'spot', 'media', 'pills', 'ungrateful', 'aggression', 'asks', 'body', 'begged', 'heard', 'consistently', 'cope', 'sees', 'attended', 'rage', 'workers', 'gaslights', 'toilet', 'uneasy', 'wearing', 'fault', 'thoughts', 'quality', 'traumas', 'comfortable', 'cat', 'enjoy', 'options', 'tears', 'silver', 'ignore', 'experience', 'pet', 'likely', 'mirror', 'husband', 'comes', 'potentially', 'prior', 'letter', 'damaged', 'directed', 'pandemic', 'sun', 'tape', 'kinda', 'tormenting', 'leaves', 'hopelessness', 'save', 'situations', 'sincerely', 'questions', 'beating', 'coming', 'child', 'complete', 'content', 'remain', 'multiple', 'typing', 'unbearable', 'evening', 'group', 'corner', 'lucky', 'believes', 'referred', 'regret', 'grew', 'stressful', 'shaken', 'increasing', 'decide', 'focus', 'bruise', 'window', 'secrets', 'sorry', 'ahead', 'alternative', 'waves', 'succeed', 'basis', 'breakdown', 'sex', 'cash', 'abusive', 'siblings', 'mess', 'hair', 'terms', 'beliefs', 'lol', 'internet', 'wrists', 'bend', 'divorced', 'instead', 'twice', 'fought', 'alonei', 'table', 'blamed', 'mentally', 'socials', 'bad', 'idk', 'tight', 'plz', 'turn', 'party', 'teenage', 'supports', 'enjoyment', 'killing', 'guilt', 'psych', 'watched', 'music', 'rarely', 'reference', 'manage', 'goal', 'awake', 'victim', 'associated', 'takes', 'united', 'accepted', 'puts', 'agree', 'whiskey', 'staying', 'badly', 'caught', 'women', 'legs', 'allow', 'cps', 'valid', 'toll', 'card', 'hated', 'shown', 'opposite', 'unsure', 'stop', 'drunk', 'dealt', 'turkey', 'eachother', 'smash', 'bully', 'yelling', 'achievements', 'compassion', 'emails', 'games', 'retarded', 'compared', 'theres', 'repair', 'repeat', 'example', 'face', 'levels', 'professional', 'totally', 'loud', 'let', 'smart', 'meant', 'advance', 'fears', 'yell', 'weaknesses', 'rapist', 'car', 'excited', 'promised', 'assistance', 'strongly', 'bored', 'humiliated', 'conversations', 'smarter', 'read', 'shows', 'brothers', 'biggest', 'doctor', 'skip', 'shadow', 'white', 'recognised', 'witness', 'order', 'hospital', 'break', 'verbally', 'humanity', 'necessary', 'anonymous', 'transitioned', 'edit', 'trial', 'facility', 'harm', 'tldr', 'loans', 'weekends', 'stranger', 'share', 'small', 'warm', 'learning', 'sibling', 'rush', 'prove', 'coronavirus', 'controlled', 'heavy', 'lose', 'attitude', 'avoid', 'vary', 'issues', 'nervous', 'follows', 'laugh', 'sadistic', 'instances', 'physically', 'goes', 'unharmed', 'alt', 'accept', 'sadness', 'seek', 'walking', 'answer', 'screw', 'treats', 'stoped', 'interview', 'struck', 'avoiding', 'discuss', 'schizophrenic', 'trying', 'matters', 'hours', 'warned', 'asshole', 'stores', 'scary', 'videos', 'immediately', 'ways', 'officially', 'pressures', 'sabotage', 'successful', 'stabbed', 'environment', 'unemployment', 'hold', 'contract', 'scotland', 'continue', 'tell', 'hopeless', 'empathy', 'worthless', 'older', 'away', 'confront', 'passed', 'hoping', 'incident', 'finish', 'hungry', 'devastated', 'applying', 'longer', 'block', 'school', 'ill', 'free', 'hit', 'worse', 'allowing', 'reported', 'appreciate', 'march', 'stab', 'stuck', 'law', 'psychologist', 'view', 'places', 'true', 'phone', 'understandable', 'ass', 'covid', 'app', 'shield', 'rd', 'mood', 'city', 'rethink', 'sleeping', 'struggling', 'cutting', 'increasingly', 'jane', 'day', 'homeless', 'fair', 'sense', 'easy', 'confided', 'skin', 'house', 'spend', 'sheet', 'vehicle', 'slap', 'tortured', 'team', 'pressured', 'removed', 'stood', 'prevent', 'bruises', 'led', 'st', 'throw', 'awhile', 'including', 'arent', 'direction', 'states', 'relationships', 'different', 'nasty', 'violent', 'lake', 'strike', 'legal', 'tall', 'bruised', 'calm', 'reality', 'shortage', 'panic', 'ugly', 'numb', 'upper', 'slamming', 'annoyed', 'prime', 'opinion', 'ignored', 'pulled', 'non', 'seeking', 'minimum', 'pot', 'virus', 'raised', 'answering', 'wrote', 'laughing', 'tipped', 'shes', 'way', 'expectations', 'surface', 'driving', 'breath', 'concerns', 'stomach', 'tough', 'left', 'light', 'possibly', 'push', 'task', 'throwing', 'dude', 'wall', 'sight', 'severely', 'agreed', 'retail', 'reddit', 'type', 'attacked', 'guy', 'losing', 'says', 'returned', 'antidepressants', 'steps', 'dishes', 'absolutely', 'partner', 'pull', 'recognise', 'usual', 'advantage', 'kill', 'understandably', 'wipe', 'wife', 'delete', 'living', 'bathroom', 'personality', 'things', 'sitting', 'smells', 'divorce', 'reach', 'transportation', 'ya', 'family', 'midst', 'purchase', 'visit', 'twitter', 'tease', 'spinning', 'recognize', 'ages', 'relatives', 'grown', 'uni', 'movie', 'gas', 'pounds', 'promises', 'unknown', 'stove', 'cleaned', 'fake', 'ultimately', 'center', 'oil', 'add', 'severe', 'suspect', 'settled', 'attempts', 'water', 'tried', 'swallow', 'disappointed', 'significantly', 'destined', 'lonely', 'suffocating', 'downhill', 'connected', 'threatening', 'lied', 'win', 'nd', 'streaming', 'hidden', 'west', 'wise', 'talking', 'slapped', 'suggest', 'birth', 'funeral', 'arranged', 'tensions', 'overwhelmed', 'sweet', 'cunt', 'aware', 'practically', 'roommate', 'sends', 'doctors', 'facebook', 'turned', 'realizing', 'unfit', 'died', 'punches', 'shoulders', 'necessarily', 'father', 'finances', 'strategies', 'assume', 'weekly', 'sensitive', 'angry', 'convince', 'barely', 'crimes', 'blue', 'violate', 'eyes', 'eye', 'judged', 'progress', 'night', 'ruining', 'match', 'unborn', 'shock', 'hi', 'waiting', 'words', 'correct', 'suggestion', 'smiled', 'character', 'disabled', 'reason', 'bills', 'poor', 'notice', 'courage', 'tied', 'hospitalized', 'girls', 'zero', 'guilty', 'wtf', 'affect', 'enjoying', 'learned', 'lots', 'wrestled', 'everybody', 'security', 'knock', 'promise', 'adult', 'closet', 'interaction', 'life', 'rich', 'posted', 'scratch', 'slow', 'throwaway', 'talk', 'subreddit', 'harsh', 'ego', 'gay', 'road', 'clothes', 'incredibly', 'shifts', 'basic', 'decent', 'switch', 'biological', 'waited', 'parties', 'cover', 'major', 'drop', 'studies', 'couple', 'medical', 'burning', 'criminal', 'jail', 'everyday', 'responding', 'trust', 'saturated', 'ba', 'care', 'ruined', 'word', 'forcing', 'vinegar', 'realise', 'ease', 'wear', 'thinks', 'cooking', 'act', 'grandmother', 'distract', 'fact', 'communicate', 'extra', 'positive', 'sounded', 'knows', 'tonight', 'language', 'shoves', 'email', 'reads', 'standing', 'believing', 'wana', 'dad', 'mad', 'cancer', 'background', 'negative', 'graduation', 'wrong', 'justice', 'abusing', 'worried', 'grab', 'aspects', 'use', 'sadly', 'snippets', 'pressed', 'pure', 'temperature', 'activity', 'option', 'spare', 'autism', 'shirts', 'company', 'worth', 'ps', 'spoiled', 'moved', 'threatens', 'quit', 'january', 'allowed', 'south', 'spat', 'kissed', 'appropriate', 'button', 'naturally', 'shitty', 'www', 'bank', 'prompted', 'attacks', 'punishment', 'finger', 'dumped', 'route', 'cause', 'twitch', 'hid', 'exhausted', 'sink', 'financial', 'make', 'scars', 'fine', 'tempted', 'ask', 'steady', 'planned', 'sl', 'closed', 'properly', 'stronger', 'taught', 'truth', 'assaulted', 'friend', 'experiencing', 'interested', 'definitely', 'later', 'streets', 'triggering', 'skull', 'ground', 'survive', 'texting', 'vanish', 'nice', 'cuz', 'hope', 'students', 'helped', 'suffered', 'train', 'warning', 'unstable', 'complicated', 'cheap', 'repeatedly', 'meet', 'joy', 'youth', 'wide', 'uncomfortable', 'actually', 'balance', 'happier', 'praying', 'tends', 'religious', 'tech', 'spent', 'fun', 'common', 'hardly', 'hand', 'denied', 'snap', 'stage', 'wanting', 'caused', 'schools', 'panicked', 'tremendous', 'curtains', 'clue', 'nights', 'sized', 'count', 'explain', 'feelings', 'search', 'signed', 'underneath', 'future', 'obviously', 'shattered', 'absolute', 'gpa', 'receiving', 'kicked', 'rejected', 'escalated', 'rest', 'damned', 'harassing', 'engaged', 'faced', 'solve', 'essentially', 'sleepless', 'hitting', 'identify', 'emotionally', 'horse', 'outi', 'apartment', 'barrier', 'bunch', 'slower', 'strong', 'wake', 'throat', 'understood', 'drama', 'showing', 'sale', 'town', 'antidepressant', 'oh', 'acceptable', 'book', 'imagine', 'leg', 'throws', 'meal', 'unhealthy', 'joke', 'experienced', 'neglect', 'disappoint', 'paying', 'insult', 'somewhat', 'rn', 'bitch', 'text', 'followed', 'state', 'line', 'stressed', 'difference', 'tho', 'id', 'dreaming', 'wiped', 'staring', 'sobbing', 'taxi', 'proportion', 'sooner', 'tired', 'hits', 'ton', 'senior', 'pushing', 'laying', 'world', 'months', 'status', 'looked', 'bpd', 'twins', 'wasnt', 'crisis', 'brutality', 'sanity', 'mild', 'escape', 'timeline', 'protect', 'story', 'sentence', 'student', 'bail', 'decided', 'ups', 'ties', 'comment', 'quite', 'lets', 'surrounding', 'triggered', 'resentment', 'reached', 'support', 'frequently', 'choice', 'grandma', 'silly', 'stepdad', 'rambling', 'violently', 'active', 'spill', 'mean', 'lease', 'benefits', 'mother', 'usually', 'tripping', 'relating', 'accident', 'broke', 'gone', 'bottles', 'tinder', 'records', 'unemployed', 'war', 'risks', 'shower', 'continuing', 'trick', 'heads', 'yes', 'buy', 'shopping', 'monday', 'precious', 'tw', 'chest', 'constantly', 'ive', 'based', 'romantic', 'suicide', 'forget', 'extent', 'deserved', 'degree', 'statistics', 'sweetest', 'send', 'voices', 'ted', 'using', 'clinic', 'striking', 'picking', 'semester', 'particular', 'remembering', 'black', 'happens', 'weird', 'xanax', 'row', 'short', 'approach', 'ideas', 'song', 'granted', 'outside', 'seasonal', 'appear', 'tearing', 'everytime', 'regular', 'bedroom', 'loathing', 'sort', 'helps', 'liked', 'sue', 'university', 'sky', 'scares', 'surrounded', 'wallet', 'vile', 'label', 'website', 'power', 'relax', 'teenagers', 'year', 'pain', 'cousin', 'asked', 'written', 'control', 'anniversary', 'burdens', 'end', 'follow', 'personally', 'bs', 'willingness', 'treating', 'texas', 'plays', 'assholes', 'minor', 'manic', 'surprise', 'contacted', 'monster', 'medium', 'counselor', 'burn', 'forward', 'suspicion', 'better', 'ended', 'surviving', 'arguments', 'makeup', 'ruin', 'present', 'low', 'today', 'crazy', 'annoying', 'accepting', 'responsibility', 'street', 'schooling', 'appreciated', 'wednesday', 'ran', 'involved', 'unfortunately', 'expect', 'transcript', 'er', 'span', 'lives', 'noise', 'easily', 'solutions', 'especially', 'press', 'portrayed', 'confronted', 'aid', 'argument', 'argued', 'acting', 'household', 'paid', 'bullied', 'watching', 'level', 'funny', 'pets', 'seven', 'psychology', 'burden', 'role', 'quarantine', 'shouting', 'shitless', 'directly', 'reactions', 'grabbed', 'revert', 'access', 'business', 'confident', 'best', 'greatly', 'times', 'uses', 'attack', 'specific', 'arguing', 'fear', 'scar', 'grow', 'threatened', 'curl', 'chaos', 'calling', 'chosen', 'started', 'similar', 'happiness', 'recent', 'mistake', 'cut', 'april', 'case', 'determined', 'graduated', 'session', 'healthy', 'die', 'impact', 'shout', 'unless', 'stretch', 'screams', 'liking', 'commit', 'remove', 'connect', 'trouble', 'miss', 'decade', 'information', 'jealousy', 'ending', 'therapists', 'bodies', 'groups', 'unlike', 'shady', 'pretends', 'disgusted', 'terrible', 'term', 'clearly', 'damage', 'extreme', 'inner', 'ago', 'telehealth', 'punish', 'morning', 'mum', 'feel', 'thinking', 'dying', 'tv', 'react', 'earlier', 'dragged', 'wishes', 'loneliness', 'idiot', 'nurses', 'miserable', 'picture', 'solely', 'smashed', 'relentless', 'include', 'credit', 'happy', 'th', 'lost', 'passing', 'head', 'subject', 'illegal', 'suicidal', 'park', 'killed', 'concentrate', 'suck', 'capable', 'soo', 'sound', 'periods', 'used', 'safer', 'arrested', 'reliving', 'stay', 'july', 'seeing', 'event', 'seconds', 'knowledge', 'cousins', 'frequent', 'programs', 'know', 'saw', 'late', 'stages', 'entire', 'cares', 'date', 'trough', 'friendship', 'partially', 'fiance', 'crash', 'talks', 'switched', 'title', 'virginity', 'eating', 'large', 'growing', 'saved', 'boil', 'action', 'torment', 'literally', 'immediate', 'tested', 'basically', 'watches', 'cared', 'kindly', 'knife', 'easier', 'rushed', 'simple', 'ok', 'attachment', 'online', 'dancing', 'hopeful', 'bc', 'innocent', 'laughed', 'ship', 'cruel', 'proud', 'tips', 'according', 'mutual', 'bullying', 'girlfriend', 'turning', 'shot', 'limit', 'retard', 'individual', 'respond', 'messages', 'missed', 'split', 'mothers', 'breaks', 'mid', 'swings', 'suffering', 'ruminating', 'couch', 'earn', 'doubts', 'vulnerable', 'ti', 'truthfully', 'workplace', 'moral', 'bottle', 'peaceful', 'holding', 'downloaded', 'danger', 'country', 'month', 'insulted', 'rude', 'mention', 'adopted', 'drug', 'willing', 'visible', 'messing', 'admit', 'happened', 'telling', 'toothbrush', 'run', 'total', 'battle', 'safety', 'therapies', 'page', 'kids', 'isolated', 'troll', 'aunt', 'india', 'safe', 'figured', 'wouldnt', 'acted', 'upstairs', 'developing', 'rid', 'dont', 'smile', 'instance', 'secondary', 'constant', 'hug', 'psychiatrist', 'received', 'institutionalized', 'understands', 'brought', 'hangout', 'got', 'income', 'achieved', 'position', 'sits', 'trigger', 'romance', 'pretended', 'doubt', 'mentioned', 'hurting', 'arm', 'outcome', 'cried', 'quick', 'emergency', 'age', 'bawling', 'golden', 'medications', 'reply', 'addict', 'effort', 'assuming', 'write'}\n"
     ]
    }
   ],
   "source": [
    "# Creating a list containing common words on both subreddits\n",
    "union_words = [common_words(suicide_word_list, dom_word_list)]"
   ]
  },
  {
   "cell_type": "code",
   "execution_count": 38,
   "metadata": {},
   "outputs": [
    {
     "name": "stdout",
     "output_type": "stream",
     "text": [
      "Stored 'stopwords' (list)\n"
     ]
    }
   ],
   "source": [
    "# extending stopwords.words('english') to include words that are common in both subreddits\n",
    "stopwords = nltk.corpus.stopwords.words('english')\n",
    "stopwords.extend(union_words)\n",
    "%store stopwords"
   ]
  },
  {
   "cell_type": "code",
   "execution_count": 39,
   "metadata": {},
   "outputs": [
    {
     "name": "stdout",
     "output_type": "stream",
     "text": [
      "(1348, 2)\n"
     ]
    }
   ],
   "source": [
    "# Drop duplicate selftext \n",
    "df.drop_duplicates(subset='selftext', inplace=True)\n",
    "print(df.shape)"
   ]
  },
  {
   "cell_type": "code",
   "execution_count": 64,
   "metadata": {},
   "outputs": [
    {
     "data": {
      "image/png": "[encoded data removed]",
      "text/plain": [
       "<Figure size 1080x576 with 1 Axes>"
      ]
     },
     "metadata": {
      "needs_background": "light"
     },
     "output_type": "display_data"
    }
   ],
   "source": [
    "dom_coef = dom_words.mean().sort_values(ascending=False)[:10]\n",
    "\n",
    "f, ax = plt.subplots(figsize=(15,8))\n",
    "plt.barh(dom_coef.index, suicide_coef.values)\n",
    "plt.title('Domestic Violence Subreddit', fontsize = 18)\n",
    "plt.ylabel('Words', fontsize = 14)\n",
    "plt.xlabel('Frequency', fontsize = 14);"
   ]
  },
  {
   "cell_type": "code",
   "execution_count": 63,
   "metadata": {},
   "outputs": [
    {
     "data": {
      "image/png": "[encoded data removed]",
      "text/plain": [
       "<Figure size 1080x576 with 1 Axes>"
      ]
     },
     "metadata": {
      "needs_background": "light"
     },
     "output_type": "display_data"
    }
   ],
   "source": [
    "suicide_coef = suicide_words.mean().sort_values(ascending=False)[:10]\n",
    "\n",
    "f, ax = plt.subplots(figsize=(15,8))\n",
    "plt.barh(suicide_coef.index, suicide_coef.values)\n",
    "plt.title('Suicide Watch Subreddit', fontsize = 18)\n",
    "plt.ylabel('Words', fontsize = 14)\n",
    "plt.xlabel('Frequency', fontsize = 14);"
   ]
  },
  {
   "cell_type": "markdown",
   "metadata": {},
   "source": [
    "Both subreddit have **\"Like\"** as the most frequently used word. <br><br> One assumption could be, the 2 subreddit happens to be of sensitive topics whereby people could be consoling each other, people talking about their past negative experience.<br><br> If we look closely at the comments for 2 subreddits, we will find alot of selftext such as **\"it makes me feel like...\", \"it just feels like...\"** therefore concluding the possiblity that it will appear so often in both subreddit.   "
   ]
  },
  {
   "cell_type": "markdown",
   "metadata": {},
   "source": [
    "### TFIDF Vectorization"
   ]
  },
  {
   "cell_type": "code",
   "execution_count": 46,
   "metadata": {},
   "outputs": [],
   "source": [
    "#TVEC\n",
    "tf_vectorizer = TfidfVectorizer(analyzer = \"word\", \n",
    "                             tokenizer = None, \n",
    "                             preprocessor = None,\n",
    "                             stop_words = \"english\", \n",
    "                             max_features = 5000) \n",
    "\n",
    "# input for CountVectorizer is an array of strings\n",
    "tf_vector_input = df['selftext']\n",
    "\n",
    "# fit_transform the vectorizer\n",
    "tf_words = tf_vectorizer.fit_transform(tf_vector_input)\n",
    "\n",
    "# convert output to a Numpy array\n",
    "tf_words = tf_words.toarray()"
   ]
  },
  {
   "cell_type": "code",
   "execution_count": 47,
   "metadata": {},
   "outputs": [],
   "source": [
    "t_word_list = tf_vectorizer.get_feature_names()"
   ]
  },
  {
   "cell_type": "code",
   "execution_count": 48,
   "metadata": {},
   "outputs": [],
   "source": [
    "tf_words = list(df.selftext)"
   ]
  },
  {
   "cell_type": "code",
   "execution_count": 49,
   "metadata": {},
   "outputs": [],
   "source": [
    "tvec = TfidfVectorizer(analyzer='word', max_features=5000)\n",
    "tv = tvec.fit_transform(tf_words)"
   ]
  },
  {
   "cell_type": "code",
   "execution_count": 50,
   "metadata": {},
   "outputs": [],
   "source": [
    "tf_words = pd.DataFrame(tv.todense(), columns=tvec.get_feature_names())"
   ]
  },
  {
   "cell_type": "code",
   "execution_count": 51,
   "metadata": {},
   "outputs": [],
   "source": [
    "tf_coef = tf_words.mean().sort_values(ascending=False)[:10]"
   ]
  },
  {
   "cell_type": "code",
   "execution_count": 52,
   "metadata": {},
   "outputs": [
    {
     "name": "stdout",
     "output_type": "stream",
     "text": [
      "(1348, 5000)\n"
     ]
    },
    {
     "data": {
      "text/html": [
       "<div>\n",
       "<style scoped>\n",
       "    .dataframe tbody tr th:only-of-type {\n",
       "        vertical-align: middle;\n",
       "    }\n",
       "\n",
       "    .dataframe tbody tr th {\n",
       "        vertical-align: top;\n",
       "    }\n",
       "\n",
       "    .dataframe thead th {\n",
       "        text-align: right;\n",
       "    }\n",
       "</style>\n",
       "<table border=\"1\" class=\"dataframe\">\n",
       "  <thead>\n",
       "    <tr style=\"text-align: right;\">\n",
       "      <th></th>\n",
       "      <th>ab</th>\n",
       "      <th>aba</th>\n",
       "      <th>abandoned</th>\n",
       "      <th>abandoning</th>\n",
       "      <th>abandonment</th>\n",
       "      <th>abide</th>\n",
       "      <th>ability</th>\n",
       "      <th>able</th>\n",
       "      <th>abolition</th>\n",
       "      <th>abomination</th>\n",
       "      <th>...</th>\n",
       "      <th>youngest</th>\n",
       "      <th>youre</th>\n",
       "      <th>youth</th>\n",
       "      <th>youtu</th>\n",
       "      <th>youtube</th>\n",
       "      <th>yr</th>\n",
       "      <th>yrs</th>\n",
       "      <th>zero</th>\n",
       "      <th>zone</th>\n",
       "      <th>zoom</th>\n",
       "    </tr>\n",
       "  </thead>\n",
       "  <tbody>\n",
       "    <tr>\n",
       "      <th>0</th>\n",
       "      <td>0.0</td>\n",
       "      <td>0.0</td>\n",
       "      <td>0.0</td>\n",
       "      <td>0.0</td>\n",
       "      <td>0.0</td>\n",
       "      <td>0.0</td>\n",
       "      <td>0.0</td>\n",
       "      <td>0.038407</td>\n",
       "      <td>0.0</td>\n",
       "      <td>0.0</td>\n",
       "      <td>...</td>\n",
       "      <td>0.000000</td>\n",
       "      <td>0.0</td>\n",
       "      <td>0.0</td>\n",
       "      <td>0.0</td>\n",
       "      <td>0.0</td>\n",
       "      <td>0.0</td>\n",
       "      <td>0.0</td>\n",
       "      <td>0.0</td>\n",
       "      <td>0.0</td>\n",
       "      <td>0.0</td>\n",
       "    </tr>\n",
       "    <tr>\n",
       "      <th>1</th>\n",
       "      <td>0.0</td>\n",
       "      <td>0.0</td>\n",
       "      <td>0.0</td>\n",
       "      <td>0.0</td>\n",
       "      <td>0.0</td>\n",
       "      <td>0.0</td>\n",
       "      <td>0.0</td>\n",
       "      <td>0.000000</td>\n",
       "      <td>0.0</td>\n",
       "      <td>0.0</td>\n",
       "      <td>...</td>\n",
       "      <td>0.065978</td>\n",
       "      <td>0.0</td>\n",
       "      <td>0.0</td>\n",
       "      <td>0.0</td>\n",
       "      <td>0.0</td>\n",
       "      <td>0.0</td>\n",
       "      <td>0.0</td>\n",
       "      <td>0.0</td>\n",
       "      <td>0.0</td>\n",
       "      <td>0.0</td>\n",
       "    </tr>\n",
       "    <tr>\n",
       "      <th>2</th>\n",
       "      <td>0.0</td>\n",
       "      <td>0.0</td>\n",
       "      <td>0.0</td>\n",
       "      <td>0.0</td>\n",
       "      <td>0.0</td>\n",
       "      <td>0.0</td>\n",
       "      <td>0.0</td>\n",
       "      <td>0.000000</td>\n",
       "      <td>0.0</td>\n",
       "      <td>0.0</td>\n",
       "      <td>...</td>\n",
       "      <td>0.000000</td>\n",
       "      <td>0.0</td>\n",
       "      <td>0.0</td>\n",
       "      <td>0.0</td>\n",
       "      <td>0.0</td>\n",
       "      <td>0.0</td>\n",
       "      <td>0.0</td>\n",
       "      <td>0.0</td>\n",
       "      <td>0.0</td>\n",
       "      <td>0.0</td>\n",
       "    </tr>\n",
       "    <tr>\n",
       "      <th>3</th>\n",
       "      <td>0.0</td>\n",
       "      <td>0.0</td>\n",
       "      <td>0.0</td>\n",
       "      <td>0.0</td>\n",
       "      <td>0.0</td>\n",
       "      <td>0.0</td>\n",
       "      <td>0.0</td>\n",
       "      <td>0.000000</td>\n",
       "      <td>0.0</td>\n",
       "      <td>0.0</td>\n",
       "      <td>...</td>\n",
       "      <td>0.000000</td>\n",
       "      <td>0.0</td>\n",
       "      <td>0.0</td>\n",
       "      <td>0.0</td>\n",
       "      <td>0.0</td>\n",
       "      <td>0.0</td>\n",
       "      <td>0.0</td>\n",
       "      <td>0.0</td>\n",
       "      <td>0.0</td>\n",
       "      <td>0.0</td>\n",
       "    </tr>\n",
       "    <tr>\n",
       "      <th>4</th>\n",
       "      <td>0.0</td>\n",
       "      <td>0.0</td>\n",
       "      <td>0.0</td>\n",
       "      <td>0.0</td>\n",
       "      <td>0.0</td>\n",
       "      <td>0.0</td>\n",
       "      <td>0.0</td>\n",
       "      <td>0.000000</td>\n",
       "      <td>0.0</td>\n",
       "      <td>0.0</td>\n",
       "      <td>...</td>\n",
       "      <td>0.000000</td>\n",
       "      <td>0.0</td>\n",
       "      <td>0.0</td>\n",
       "      <td>0.0</td>\n",
       "      <td>0.0</td>\n",
       "      <td>0.0</td>\n",
       "      <td>0.0</td>\n",
       "      <td>0.0</td>\n",
       "      <td>0.0</td>\n",
       "      <td>0.0</td>\n",
       "    </tr>\n",
       "  </tbody>\n",
       "</table>\n",
       "<p>5 rows × 5000 columns</p>\n",
       "</div>"
      ],
      "text/plain": [
       "    ab  aba  abandoned  abandoning  abandonment  abide  ability      able  \\\n",
       "0  0.0  0.0        0.0         0.0          0.0    0.0      0.0  0.038407   \n",
       "1  0.0  0.0        0.0         0.0          0.0    0.0      0.0  0.000000   \n",
       "2  0.0  0.0        0.0         0.0          0.0    0.0      0.0  0.000000   \n",
       "3  0.0  0.0        0.0         0.0          0.0    0.0      0.0  0.000000   \n",
       "4  0.0  0.0        0.0         0.0          0.0    0.0      0.0  0.000000   \n",
       "\n",
       "   abolition  abomination  ...  youngest  youre  youth  youtu  youtube   yr  \\\n",
       "0        0.0          0.0  ...  0.000000    0.0    0.0    0.0      0.0  0.0   \n",
       "1        0.0          0.0  ...  0.065978    0.0    0.0    0.0      0.0  0.0   \n",
       "2        0.0          0.0  ...  0.000000    0.0    0.0    0.0      0.0  0.0   \n",
       "3        0.0          0.0  ...  0.000000    0.0    0.0    0.0      0.0  0.0   \n",
       "4        0.0          0.0  ...  0.000000    0.0    0.0    0.0      0.0  0.0   \n",
       "\n",
       "   yrs  zero  zone  zoom  \n",
       "0  0.0   0.0   0.0   0.0  \n",
       "1  0.0   0.0   0.0   0.0  \n",
       "2  0.0   0.0   0.0   0.0  \n",
       "3  0.0   0.0   0.0   0.0  \n",
       "4  0.0   0.0   0.0   0.0  \n",
       "\n",
       "[5 rows x 5000 columns]"
      ]
     },
     "execution_count": 52,
     "metadata": {},
     "output_type": "execute_result"
    }
   ],
   "source": [
    "print(tf_words.shape)\n",
    "tf_words.head()"
   ]
  },
  {
   "cell_type": "code",
   "execution_count": 65,
   "metadata": {},
   "outputs": [
    {
     "data": {
      "image/png": "[encoded data removed]",
      "text/plain": [
       "<Figure size 1080x576 with 1 Axes>"
      ]
     },
     "metadata": {
      "needs_background": "light"
     },
     "output_type": "display_data"
    }
   ],
   "source": [
    "tf_coef = tf_words.mean().sort_values(ascending=False)[:10]\n",
    "\n",
    "f, ax = plt.subplots(figsize=(15,8))\n",
    "plt.barh(tf_coef.index, tf_coef.values)\n",
    "plt.title('TFIDF Vectorization', fontsize = 18)\n",
    "plt.ylabel('Words', fontsize = 14)\n",
    "plt.xlabel('Frequency', fontsize = 14);"
   ]
  },
  {
   "cell_type": "markdown",
   "metadata": {},
   "source": [
    "**TFIDF Vectorizer** weighted \"want\" higher than \"like\" compared to **Count Vectorizer**, when \"like\" appeared more times than \"want\" in suicide posts. Because TF-IDF \"penalises\" words that appearing too often. <br><br> These words might be a indicator to build models that might be able to predict and identify sucidal prone individuals.\n",
    "    <hr>"
   ]
  }
 ],
 "metadata": {
  "kernelspec": {
   "display_name": "Python 3",
   "language": "python",
   "name": "python3"
  },
  "language_info": {
   "codemirror_mode": {
    "name": "ipython",
    "version": 3
   },
   "file_extension": ".py",
   "mimetype": "text/x-python",
   "name": "python",
   "nbconvert_exporter": "python",
   "pygments_lexer": "ipython3",
   "version": "3.7.6"
  }
 },
 "nbformat": 4,
 "nbformat_minor": 4
}
