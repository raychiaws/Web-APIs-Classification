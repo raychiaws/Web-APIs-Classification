{
 "cells": [
  {
   "cell_type": "markdown",
   "metadata": {},
   "source": [
    "# Evaluation Our Best Model\n",
    "<hr>\n",
    "\n",
    "![](image/model_score.png)\n",
    "\n",
    "Final production model: (TF-IDF Vectorizer + Multinomial Naive Bayes).\n",
    "\n",
    "It generalise best with only **0.03** variation between our training and test set scores.\n",
    "\n",
    "![](image/tvec.png)\n",
    "\n",
    "TF-IDF Vectorizer scored better in terms the sensitivity which predict and identify domestic violence or potential suicide cases(True Positives) more accurately, in which key words like \"want, like, know\" was used more often.\n",
    "\n",
    "TFIDF Vectorizer weighted \"want\" higher than \"like\" compared to Count Vectorizer, when \"like\" appeared more times than \"want\" in suicide posts. Because TF-IDF \"penalises\" words that appearing too often. These words might be a good indicator to build models that might be able to predict and identify domestic violence victim, which will likely to be able to answer our problem statement.\n",
    "\n",
    "![](image/roc_score.png)\n",
    "\n",
    "With the **Sensitivity of 0.7 and AUC score 0.978** - For further improvement to our model, it will be good that we gather more data to build on model and so as to perform a more robust textual analysis. The true-positive rate is known as sensitivity, recall or probability of detection in machine learning, in this case, detecting more possible depression case in our domestic violent post online.\n",
    "\n",
    "![](image/com.png)\n",
    "\n",
    "As we can see from the picture above, we have used a sample post from each sub-reddit to provide good evidence on our model and many of the \"keywords\" were detected linked to our overall project.   \n",
    "\n",
    "<hr>\n",
    "\n",
    "### Conclusion & Recommendation\n",
    "\n",
    "As most suicide case is preventable and more often than not, individuals don’t want to end their lives – they just want to get out of the overwhelming or painful situation they are in but they can’t do it alone.\n",
    "\n",
    "Through this model, we are able to detect to potential suicide post and from domestic violence post on reddit, with accuracy score of 0.92. Given the high performance of the model, it is clear that we achieved the objective of our project succesfully.\n",
    "\n",
    "The findings of this research will be useful for researchers, psychologist who likes to understand more on how a person who is facing domestic violence and having sucidal thoughts, behaves and present their thoughts and feelings in the online communites.\n",
    "\n",
    "Our model can be fully ultilised if we were to encourage forum/online communities owner to include our NLP machine for a good cause. Further enhancement can be made by including more reddits to identify more depressive key words since theres so many sub categories of depression and include different social media platform such as twitter & facebook to include into our model for further enhancement.\n",
    "\n",
    "\n",
    "With that, we look forward to detecting and identifying domestic violence victims and reduce sucidal rates for our human population through our model."
   ]
  }
 ],
 "metadata": {
  "kernelspec": {
   "display_name": "Python 3",
   "language": "python",
   "name": "python3"
  },
  "language_info": {
   "codemirror_mode": {
    "name": "ipython",
    "version": 3
   },
   "file_extension": ".py",
   "mimetype": "text/x-python",
   "name": "python",
   "nbconvert_exporter": "python",
   "pygments_lexer": "ipython3",
   "version": "3.7.6"
  }
 },
 "nbformat": 4,
 "nbformat_minor": 4
}
