{
 "cells": [
  {
   "cell_type": "markdown",
   "metadata": {},
   "source": [
    "# Modelling\n",
    "<hr>"
   ]
  },
  {
   "cell_type": "markdown",
   "metadata": {},
   "source": [
    "A variety of models are tested and evaluate to come up with a better result. Models such as **Multinomial Naive Bayes + Count Vectorization**, **Multinomial Naive Bayes + TFIDF Vectorization**, **Logistic Regression + Count Vectorization**,  and **Logistic Regression +  TFIDF Vectorization**. In tuning the hyperparameters of the model, **Grid Search** method is used."
   ]
  },
  {
   "cell_type": "markdown",
   "metadata": {},
   "source": [
    "### Load Library"
   ]
  },
  {
   "cell_type": "code",
   "execution_count": 159,
   "metadata": {},
   "outputs": [],
   "source": [
    "# Standard data science imports:\n",
    "import pandas as pd\n",
    "import numpy as np\n",
    "import matplotlib.pyplot as plt\n",
    "%matplotlib inline\n",
    "\n",
    "# Model \n",
    "from sklearn.pipeline import Pipeline\n",
    "from sklearn.model_selection import train_test_split, GridSearchCV, RandomizedSearchCV\n",
    "from sklearn.metrics import roc_auc_score\n",
    "from sklearn.naive_bayes import MultinomialNB\n",
    "from sklearn.linear_model import LogisticRegression\n",
    "from sklearn.feature_extraction.text import CountVectorizer, TfidfVectorizer\n",
    "from sklearn.metrics import confusion_matrix"
   ]
  },
  {
   "cell_type": "markdown",
   "metadata": {},
   "source": [
    "### Read Data"
   ]
  },
  {
   "cell_type": "code",
   "execution_count": 143,
   "metadata": {},
   "outputs": [],
   "source": [
    "df = pd.read_csv('data/data_modelling.csv')"
   ]
  },
  {
   "cell_type": "code",
   "execution_count": 144,
   "metadata": {},
   "outputs": [],
   "source": [
    "# Drop Unnamed column\n",
    "df.drop('Unnamed: 0', axis=1, inplace = True)"
   ]
  },
  {
   "cell_type": "code",
   "execution_count": 145,
   "metadata": {},
   "outputs": [
    {
     "data": {
      "text/html": [
       "<div>\n",
       "<style scoped>\n",
       "    .dataframe tbody tr th:only-of-type {\n",
       "        vertical-align: middle;\n",
       "    }\n",
       "\n",
       "    .dataframe tbody tr th {\n",
       "        vertical-align: top;\n",
       "    }\n",
       "\n",
       "    .dataframe thead th {\n",
       "        text-align: right;\n",
       "    }\n",
       "</style>\n",
       "<table border=\"1\" class=\"dataframe\">\n",
       "  <thead>\n",
       "    <tr style=\"text-align: right;\">\n",
       "      <th></th>\n",
       "      <th>selftext</th>\n",
       "      <th>target</th>\n",
       "    </tr>\n",
       "  </thead>\n",
       "  <tbody>\n",
       "    <tr>\n",
       "      <th>0</th>\n",
       "      <td>Domestic Violence - how to navigate this when ...</td>\n",
       "      <td>1</td>\n",
       "    </tr>\n",
       "    <tr>\n",
       "      <th>1</th>\n",
       "      <td>Please give me advice, I honestly don't know t...</td>\n",
       "      <td>1</td>\n",
       "    </tr>\n",
       "    <tr>\n",
       "      <th>2</th>\n",
       "      <td>I Finally Escaped, AgainI feel stupid for goin...</td>\n",
       "      <td>1</td>\n",
       "    </tr>\n",
       "    <tr>\n",
       "      <th>3</th>\n",
       "      <td>When the man who mentally and physically abuse...</td>\n",
       "      <td>1</td>\n",
       "    </tr>\n",
       "    <tr>\n",
       "      <th>4</th>\n",
       "      <td>I feel bad for dobbing him in...Hi all,\\n\\nSo ...</td>\n",
       "      <td>1</td>\n",
       "    </tr>\n",
       "  </tbody>\n",
       "</table>\n",
       "</div>"
      ],
      "text/plain": [
       "                                            selftext  target\n",
       "0  Domestic Violence - how to navigate this when ...       1\n",
       "1  Please give me advice, I honestly don't know t...       1\n",
       "2  I Finally Escaped, AgainI feel stupid for goin...       1\n",
       "3  When the man who mentally and physically abuse...       1\n",
       "4  I feel bad for dobbing him in...Hi all,\\n\\nSo ...       1"
      ]
     },
     "execution_count": 145,
     "metadata": {},
     "output_type": "execute_result"
    }
   ],
   "source": [
    "df.head()"
   ]
  },
  {
   "cell_type": "markdown",
   "metadata": {},
   "source": [
    "#### Defining X as predictor variable and y as target"
   ]
  },
  {
   "cell_type": "code",
   "execution_count": 146,
   "metadata": {},
   "outputs": [],
   "source": [
    "X = df.selftext\n",
    "y = df.target"
   ]
  },
  {
   "cell_type": "code",
   "execution_count": 147,
   "metadata": {},
   "outputs": [],
   "source": [
    "X_train, X_test, y_train, y_test = train_test_split(X, y, stratify=y, random_state=42)"
   ]
  },
  {
   "cell_type": "markdown",
   "metadata": {},
   "source": [
    "<hr>\n",
    "<h3 style=\"color: blue\"> Count Vectorization and Multinomial Naive Bayes Model</h3>"
   ]
  },
  {
   "cell_type": "markdown",
   "metadata": {},
   "source": [
    "#### Instantiating pipeline for Count Vectorization and Multinomial Naive Bayes\n",
    "\n",
    "- A token pattern of **\"[a-z]+[']?[a-z]*\"**\n",
    "- Remove pure numbers\n",
    "- Remove **'english'** stop_words"
   ]
  },
  {
   "cell_type": "code",
   "execution_count": 148,
   "metadata": {},
   "outputs": [],
   "source": [
    "mnb_cvec_pipeline = Pipeline([\n",
    "    (\"cvec\", CountVectorizer(token_pattern=\"[a-z]+[']?[a-z]*\", lowercase=True, stop_words='english')),\n",
    "    (\"mnb\", MultinomialNB())\n",
    "    ])"
   ]
  },
  {
   "cell_type": "code",
   "execution_count": 149,
   "metadata": {},
   "outputs": [],
   "source": [
    "mnb_cvec_parameters = {\n",
    "    'cvec__max_features': [20, 30, 50],\n",
    "    'cvec__min_df': [2, 3],\n",
    "    'cvec__max_df': [.2, .25, .3],\n",
    "    'cvec__ngram_range':[(1,1),(1,2)]\n",
    "    \n",
    "}"
   ]
  },
  {
   "cell_type": "markdown",
   "metadata": {},
   "source": [
    "#### Fitting using GridSearchCV"
   ]
  },
  {
   "cell_type": "code",
   "execution_count": 150,
   "metadata": {},
   "outputs": [
    {
     "name": "stdout",
     "output_type": "stream",
     "text": [
      "Fitting 10 folds for each of 36 candidates, totalling 360 fits\n"
     ]
    },
    {
     "name": "stderr",
     "output_type": "stream",
     "text": [
      "[Parallel(n_jobs=-2)]: Using backend LokyBackend with 3 concurrent workers.\n",
      "[Parallel(n_jobs=-2)]: Done  44 tasks      | elapsed:    5.7s\n",
      "[Parallel(n_jobs=-2)]: Done 194 tasks      | elapsed:   23.6s\n",
      "[Parallel(n_jobs=-2)]: Done 360 out of 360 | elapsed:   45.8s finished\n"
     ]
    },
    {
     "data": {
      "text/plain": [
       "GridSearchCV(cv=10, error_score=nan,\n",
       "             estimator=Pipeline(memory=None,\n",
       "                                steps=[('cvec',\n",
       "                                        CountVectorizer(analyzer='word',\n",
       "                                                        binary=False,\n",
       "                                                        decode_error='strict',\n",
       "                                                        dtype=<class 'numpy.int64'>,\n",
       "                                                        encoding='utf-8',\n",
       "                                                        input='content',\n",
       "                                                        lowercase=True,\n",
       "                                                        max_df=1.0,\n",
       "                                                        max_features=None,\n",
       "                                                        min_df=1,\n",
       "                                                        ngram_range=(1, 1),\n",
       "                                                        preprocessor=None,\n",
       "                                                        stop_words='english',\n",
       "                                                        strip_accents=None,\n",
       "                                                        token_pattern...\n",
       "                                                        tokenizer=None,\n",
       "                                                        vocabulary=None)),\n",
       "                                       ('mnb',\n",
       "                                        MultinomialNB(alpha=1.0,\n",
       "                                                      class_prior=None,\n",
       "                                                      fit_prior=True))],\n",
       "                                verbose=False),\n",
       "             iid='deprecated', n_jobs=-2,\n",
       "             param_grid={'cvec__max_df': [0.2, 0.25, 0.3],\n",
       "                         'cvec__max_features': [20, 30, 50],\n",
       "                         'cvec__min_df': [2, 3],\n",
       "                         'cvec__ngram_range': [(1, 1), (1, 2)]},\n",
       "             pre_dispatch='2*n_jobs', refit=True, return_train_score=False,\n",
       "             scoring=None, verbose=1)"
      ]
     },
     "execution_count": 150,
     "metadata": {},
     "output_type": "execute_result"
    }
   ],
   "source": [
    "mnb_cvec_gs = GridSearchCV(mnb_cvec_pipeline, param_grid=mnb_cvec_parameters, cv= 10, n_jobs = -2, verbose=1)\n",
    "mnb_cvec_gs.fit(X_train, y_train)"
   ]
  },
  {
   "cell_type": "code",
   "execution_count": 154,
   "metadata": {},
   "outputs": [
    {
     "name": "stdout",
     "output_type": "stream",
     "text": [
      "Best score: 0.848650747427684\n"
     ]
    }
   ],
   "source": [
    "print(f\"Best score: {mnb_cvec_gs.best_score_}\")"
   ]
  },
  {
   "cell_type": "code",
   "execution_count": 155,
   "metadata": {},
   "outputs": [
    {
     "name": "stdout",
     "output_type": "stream",
     "text": [
      "Best parameters: {'cvec__max_df': 0.2, 'cvec__max_features': 50, 'cvec__min_df': 2, 'cvec__ngram_range': (1, 1)}\n"
     ]
    }
   ],
   "source": [
    "print(f\"Best parameters: {mnb_cvec_gs.best_params_}\")"
   ]
  },
  {
   "cell_type": "code",
   "execution_count": 156,
   "metadata": {},
   "outputs": [
    {
     "name": "stdout",
     "output_type": "stream",
     "text": [
      "CVEC Train accuracy: 0.8555885262116716\n"
     ]
    }
   ],
   "source": [
    "print(f\"CVEC Train accuracy: {mnb_cvec_gs.score(X_train, y_train)}\")"
   ]
  },
  {
   "cell_type": "code",
   "execution_count": 157,
   "metadata": {},
   "outputs": [
    {
     "name": "stdout",
     "output_type": "stream",
     "text": [
      "CVEC Test accuracy: 0.8313609467455622\n"
     ]
    }
   ],
   "source": [
    "print(f\"CVEC Test accuracy: {mnb_cvec_gs.score(X_test, y_test)}\")"
   ]
  },
  {
   "cell_type": "markdown",
   "metadata": {},
   "source": [
    "#### Predictions and Confusion Matrix"
   ]
  },
  {
   "cell_type": "code",
   "execution_count": 158,
   "metadata": {},
   "outputs": [],
   "source": [
    "# Generate the Prediction\n",
    "preds_cvec_mnb = mnb_cvec_gs.predict(X_test)"
   ]
  },
  {
   "cell_type": "code",
   "execution_count": 160,
   "metadata": {},
   "outputs": [
    {
     "data": {
      "text/plain": [
       "array([[214,  21],\n",
       "       [ 36,  67]])"
      ]
     },
     "execution_count": 160,
     "metadata": {},
     "output_type": "execute_result"
    }
   ],
   "source": [
    "confusion_matrix(y_test, preds_cvec_mnb)"
   ]
  },
  {
   "cell_type": "code",
   "execution_count": 161,
   "metadata": {},
   "outputs": [],
   "source": [
    "tn_cvec_mnb, fp_cvec_mnb, fn_cvec_mnb, tp_cvec_mnb = confusion_matrix(y_test, preds_cvec_mnb).ravel()"
   ]
  },
  {
   "cell_type": "code",
   "execution_count": 170,
   "metadata": {},
   "outputs": [],
   "source": [
    "# Function to show all the result in table\n",
    "def cvec_mnb_model (columns_list):\n",
    "    for i in columns_list:\n",
    "        model_results = {}\n",
    "        model_results['model'] = \"CountVec + MultinomialNB\"\n",
    "        model_results['precision']= tp_cvec_mnb/(tp_cvec_mnb+fp_cvec_mnb)\n",
    "        model_results['baseline']= 0.69\n",
    "        model_results['Train Accuracy'] = mnb_cvec_gs.score(X_train, y_train)\n",
    "        model_results['Test Accuracy'] = mnb_cvec_gs.score(X_test, y_test)\n",
    "        model_results['confusion matrix']={\"TP\": tp_cvec_mnb,\"FP\":fp_cvec_mnb, \"TN\": tn_cvec_mnb, \"FN\": fn_cvec_mnb}\n",
    "        model_results['specificity']= tn_cvec_mnb/(tn_cvec_mnb+fp_cvec_mnb)\n",
    "        model_results['sensitivity']= tp_cvec_mnb/(tp_cvec_mnb+fn_cvec_mnb)\n",
    "        model_results['f1-score']= 2 * (((tp_cvec_mnb/(tp_cvec_mnb+fp_cvec_mnb)) \n",
    "                                        * (tp_cvec_mnb/(tp_cvec_mnb+fn_cvec_mnb))) / ((tp_cvec_mnb/(tp_cvec_mnb+fp_cvec_mnb)) \n",
    "                                        + (tp_cvec_mnb/(tp_cvec_mnb+fn_cvec_mnb))))\n",
    "        model_results['ROC score']= 0.9093384475866154\n",
    "        model_results\n",
    "        df_list.append(model_results) \n",
    "    return (pd.DataFrame(df_list)).round(2)"
   ]
  },
  {
   "cell_type": "code",
   "execution_count": 171,
   "metadata": {},
   "outputs": [
    {
     "data": {
      "text/html": [
       "<div>\n",
       "<style scoped>\n",
       "    .dataframe tbody tr th:only-of-type {\n",
       "        vertical-align: middle;\n",
       "    }\n",
       "\n",
       "    .dataframe tbody tr th {\n",
       "        vertical-align: top;\n",
       "    }\n",
       "\n",
       "    .dataframe thead th {\n",
       "        text-align: right;\n",
       "    }\n",
       "</style>\n",
       "<table border=\"1\" class=\"dataframe\">\n",
       "  <thead>\n",
       "    <tr style=\"text-align: right;\">\n",
       "      <th></th>\n",
       "      <th>model</th>\n",
       "      <th>precision</th>\n",
       "      <th>baseline</th>\n",
       "      <th>Train Accuracy</th>\n",
       "      <th>Test Accuracy</th>\n",
       "      <th>confusion matrix</th>\n",
       "      <th>specificity</th>\n",
       "      <th>sensitivity</th>\n",
       "      <th>f1-score</th>\n",
       "      <th>ROC score</th>\n",
       "    </tr>\n",
       "  </thead>\n",
       "  <tbody>\n",
       "    <tr>\n",
       "      <th>0</th>\n",
       "      <td>CountVec + MultinomialNB</td>\n",
       "      <td>0.76</td>\n",
       "      <td>0.69</td>\n",
       "      <td>0.86</td>\n",
       "      <td>0.83</td>\n",
       "      <td>{'TP': 67, 'FP': 21, 'TN': 214, 'FN': 36}</td>\n",
       "      <td>0.91</td>\n",
       "      <td>0.65</td>\n",
       "      <td>0.7</td>\n",
       "      <td>0.91</td>\n",
       "    </tr>\n",
       "  </tbody>\n",
       "</table>\n",
       "</div>"
      ],
      "text/plain": [
       "                      model  precision  baseline  Train Accuracy  \\\n",
       "0  CountVec + MultinomialNB       0.76      0.69            0.86   \n",
       "\n",
       "   Test Accuracy                           confusion matrix  specificity  \\\n",
       "0           0.83  {'TP': 67, 'FP': 21, 'TN': 214, 'FN': 36}         0.91   \n",
       "\n",
       "   sensitivity  f1-score  ROC score  \n",
       "0         0.65       0.7       0.91  "
      ]
     },
     "execution_count": 171,
     "metadata": {},
     "output_type": "execute_result"
    }
   ],
   "source": [
    "columns_list = ['selftext']\n",
    "df_list=[]\n",
    "cvec_mnb_model(columns_list)"
   ]
  },
  {
   "cell_type": "code",
   "execution_count": 172,
   "metadata": {},
   "outputs": [],
   "source": [
    "pred_proba = [i[1] for i in mnb_cvec_gs.predict_proba(X_test)]\n",
    "pred_df = pd.DataFrame({'target_values': y_test,'pred_probs':pred_proba})"
   ]
  },
  {
   "cell_type": "code",
   "execution_count": 173,
   "metadata": {},
   "outputs": [
    {
     "data": {
      "image/png": "[encoded data removed]",
      "text/plain": [
       "<Figure size 1152x432 with 1 Axes>"
      ]
     },
     "metadata": {
      "needs_background": "light"
     },
     "output_type": "display_data"
    }
   ],
   "source": [
    "# Create figure.\n",
    "plt.figure(figsize = (16,6))\n",
    "\n",
    "# Create two histograms of observations.\n",
    "plt.hist(pred_df[pred_df['target_values'] == 0]['pred_probs'],\n",
    "         bins=25,\n",
    "         color='b',\n",
    "         alpha = 0.6,\n",
    "         label='Outcome = 0')\n",
    "plt.hist(pred_df[pred_df['target_values'] == 1]['pred_probs'],\n",
    "         bins=25,\n",
    "         color='orange',\n",
    "         alpha = 0.6,\n",
    "         label='Outcome = 1')\n",
    "\n",
    "# Label axes.\n",
    "plt.title('Distribution of P(Outcome = 1)', fontsize=24)\n",
    "plt.ylabel('Frequency', fontsize=16)\n",
    "plt.xlabel('Predicted Probability that Outcome = 1', fontsize=16)\n",
    "\n",
    "# Create legend.\n",
    "plt.legend(fontsize=20, loc='upper center');"
   ]
  },
  {
   "cell_type": "markdown",
   "metadata": {},
   "source": [
    "#### Receiver Operating Characteristic"
   ]
  },
  {
   "cell_type": "code",
   "execution_count": 174,
   "metadata": {},
   "outputs": [
    {
     "data": {
      "text/plain": [
       "0.9093384475866154"
      ]
     },
     "execution_count": 174,
     "metadata": {},
     "output_type": "execute_result"
    }
   ],
   "source": [
    "pred_proba_Xtrain = [i[1] for i in mnb_cvec_gs.predict_proba(X_train)]\n",
    "pred_df_Xtrain = pd.DataFrame({'target_values': y_train,'pred_probs':pred_proba_Xtrain})\n",
    "roc_auc_score(y_train, pred_proba_Xtrain)"
   ]
  },
  {
   "cell_type": "code",
   "execution_count": 175,
   "metadata": {},
   "outputs": [
    {
     "data": {
      "image/png": "[encoded data removed]",
      "text/plain": [
       "<Figure size 1152x648 with 1 Axes>"
      ]
     },
     "metadata": {
      "needs_background": "light"
     },
     "output_type": "display_data"
    }
   ],
   "source": [
    "# Create figure.\n",
    "plt.figure(figsize = (16,9))\n",
    "\n",
    "# Create threshold values. (Dashed red line in image.)\n",
    "thresholds = np.linspace(0, 1, 200)\n",
    "\n",
    "# Define function to calculate sensitivity. (True positive rate.)\n",
    "def TPR(df, true_col, pred_prob_col, threshold):\n",
    "    true_positive = df[(df[true_col] == 1) & (df[pred_prob_col] >= threshold)].shape[0]\n",
    "    false_negative = df[(df[true_col] == 1) & (df[pred_prob_col] < threshold)].shape[0]\n",
    "    return true_positive / (true_positive + false_negative)\n",
    "    \n",
    "# Define function to calculate 1 - specificity. (False positive rate.)\n",
    "def FPR(df, true_col, pred_prob_col, threshold):\n",
    "    true_negative = df[(df[true_col] == 0) & (df[pred_prob_col] <= threshold)].shape[0]\n",
    "    false_positive = df[(df[true_col] == 0) & (df[pred_prob_col] > threshold)].shape[0]\n",
    "    return 1 - (true_negative / (true_negative + false_positive))\n",
    "    \n",
    "# Calculate sensitivity & 1-specificity for each threshold between 0 and 1.\n",
    "tpr_values = [TPR(pred_df_Xtrain, 'target_values', 'pred_probs', prob) for prob in thresholds]\n",
    "fpr_values = [FPR(pred_df_Xtrain, 'target_values', 'pred_probs', prob) for prob in thresholds]\n",
    "\n",
    "# Plot ROC curve.\n",
    "plt.plot(fpr_values, # False Positive Rate on X-axis\n",
    "         tpr_values, # True Positive Rate on Y-axis\n",
    "         label='ROC Curve')\n",
    "\n",
    "# Plot baseline. (Perfect overlap between the two populations.)\n",
    "plt.plot(np.linspace(0, 1, 200),\n",
    "         np.linspace(0, 1, 200),\n",
    "         label='baseline',\n",
    "         linestyle='--')\n",
    "\n",
    "# Label axes.\n",
    "plt.title(f\"ROC Curve with AUC = {round(roc_auc_score(pred_df_Xtrain['target_values'], pred_df_Xtrain['pred_probs']),3)}\", fontsize=22)\n",
    "plt.ylabel('Sensitivity', fontsize=18)\n",
    "plt.xlabel('1 - Specificity', fontsize=18)\n",
    "\n",
    "# Create legend.\n",
    "plt.legend(fontsize=16);"
   ]
  },
  {
   "cell_type": "markdown",
   "metadata": {},
   "source": [
    "The **Receiver Operating Characteristic** curve is a way to visualize the overlap between our positive class and negative class by moving our classification threshold from 0 to 1.\n",
    "\n",
    "The more area under this blue curve is, the better separated our distributions are. We use the area under the ROC curve (abbreviated ROC AUC or AUC ROC) to quantify the gap between our distributions."
   ]
  },
  {
   "cell_type": "markdown",
   "metadata": {},
   "source": [
    "<hr>\n",
    "\n",
    "<h3 style=\"color: blue\">TFIDF Vectorization and Multinomial Naive Bayes Model</h3>"
   ]
  },
  {
   "cell_type": "code",
   "execution_count": 176,
   "metadata": {},
   "outputs": [],
   "source": [
    "mnb_tvec_pipeline = Pipeline([\n",
    "    (\"tvec\", TfidfVectorizer(token_pattern=\"[a-z]+[']?[a-z]*\", lowercase=True, stop_words='english')),\n",
    "    (\"mnb\", MultinomialNB())\n",
    "    ])"
   ]
  },
  {
   "cell_type": "code",
   "execution_count": 177,
   "metadata": {},
   "outputs": [],
   "source": [
    "mnb_tvec_parameters = {\n",
    "    'tvec__max_features': [50, 100, 200],\n",
    "    'tvec__min_df': [2, 3],\n",
    "    'tvec__max_df': [.2, .25, .3],\n",
    "    'tvec__ngram_range':[(1,1),(1,2)] \n",
    "}"
   ]
  },
  {
   "cell_type": "markdown",
   "metadata": {},
   "source": [
    "#### Fitting using GridSearchCV"
   ]
  },
  {
   "cell_type": "code",
   "execution_count": 178,
   "metadata": {},
   "outputs": [
    {
     "name": "stdout",
     "output_type": "stream",
     "text": [
      "Fitting 10 folds for each of 36 candidates, totalling 360 fits\n"
     ]
    },
    {
     "name": "stderr",
     "output_type": "stream",
     "text": [
      "[Parallel(n_jobs=-2)]: Using backend LokyBackend with 3 concurrent workers.\n",
      "[Parallel(n_jobs=-2)]: Done  44 tasks      | elapsed:    6.5s\n",
      "[Parallel(n_jobs=-2)]: Done 194 tasks      | elapsed:   26.6s\n",
      "[Parallel(n_jobs=-2)]: Done 360 out of 360 | elapsed:   50.3s finished\n"
     ]
    },
    {
     "name": "stdout",
     "output_type": "stream",
     "text": [
      "Best score: 0.9049990293146962\n"
     ]
    }
   ],
   "source": [
    "mnb_tvec_gs = GridSearchCV(mnb_tvec_pipeline, param_grid=mnb_tvec_parameters, cv= 10, n_jobs = -2, verbose=1)\n",
    "mnb_tvec_gs.fit(X_train, y_train)\n",
    "print(f\"Best score: {mnb_tvec_gs.best_score_}\")"
   ]
  },
  {
   "cell_type": "code",
   "execution_count": 179,
   "metadata": {},
   "outputs": [
    {
     "name": "stdout",
     "output_type": "stream",
     "text": [
      "Best parameters: {'tvec__max_df': 0.2, 'tvec__max_features': 200, 'tvec__min_df': 2, 'tvec__ngram_range': (1, 2)}\n"
     ]
    }
   ],
   "source": [
    "print(f\"Best parameters: {mnb_tvec_gs.best_params_}\")"
   ]
  },
  {
   "cell_type": "code",
   "execution_count": 180,
   "metadata": {},
   "outputs": [
    {
     "name": "stdout",
     "output_type": "stream",
     "text": [
      "TVEC Train accuracy: 0.9198813056379822\n"
     ]
    }
   ],
   "source": [
    "print(f\"TVEC Train accuracy: {mnb_tvec_gs.score(X_train, y_train)}\")"
   ]
  },
  {
   "cell_type": "code",
   "execution_count": 181,
   "metadata": {},
   "outputs": [
    {
     "name": "stdout",
     "output_type": "stream",
     "text": [
      "TVEC Test accuracy: 0.8905325443786982\n"
     ]
    }
   ],
   "source": [
    "print(f\"TVEC Test accuracy: {mnb_tvec_gs.score(X_test, y_test)}\")"
   ]
  },
  {
   "cell_type": "markdown",
   "metadata": {},
   "source": [
    "#### Predictions and Confusion Matrix"
   ]
  },
  {
   "cell_type": "code",
   "execution_count": 182,
   "metadata": {},
   "outputs": [],
   "source": [
    "# Generate the Prediction\n",
    "preds_tvec_mnb = mnb_tvec_gs.predict(X_test)"
   ]
  },
  {
   "cell_type": "code",
   "execution_count": 183,
   "metadata": {},
   "outputs": [
    {
     "data": {
      "text/plain": [
       "array([[229,   6],\n",
       "       [ 31,  72]])"
      ]
     },
     "execution_count": 183,
     "metadata": {},
     "output_type": "execute_result"
    }
   ],
   "source": [
    "confusion_matrix(y_test, preds_tvec_mnb)"
   ]
  },
  {
   "cell_type": "code",
   "execution_count": 184,
   "metadata": {},
   "outputs": [],
   "source": [
    "tn_tvec_mnb, fp_tvec_mnb, fn_tvec_mnb, tp_tvec_mnb = confusion_matrix(y_test, preds_tvec_mnb).ravel()"
   ]
  },
  {
   "cell_type": "code",
   "execution_count": 191,
   "metadata": {},
   "outputs": [],
   "source": [
    "# Function to show all the result in table\n",
    "def tvec_mnb_model (columns_list):\n",
    "    for i in columns_list:\n",
    "        model_results = {}\n",
    "        model_results['model'] = \"TFIDF + MultinomialNB\"\n",
    "        model_results['precision']= tp_tvec_mnb/(tp_tvec_mnb+fp_tvec_mnb)\n",
    "        model_results['baseline']= 0.69\n",
    "        model_results['Train Accuracy'] = mnb_tvec_gs.score(X_train, y_train)\n",
    "        model_results['Test Accuracy'] = mnb_tvec_gs.score(X_test, y_test)\n",
    "        model_results['confusion matrix']={\"TP\": tp_tvec_mnb,\"FP\":fp_tvec_mnb, \"TN\": tn_tvec_mnb, \"FN\": fn_tvec_mnb}\n",
    "        model_results['specificity']= tn_tvec_mnb/(tn_tvec_mnb+fp_tvec_mnb)\n",
    "        model_results['sensitivity']= tp_tvec_mnb/(tp_tvec_mnb+fn_tvec_mnb)\n",
    "        model_results['f1-score']= 2 * (((tp_tvec_mnb/(tp_tvec_mnb+fp_tvec_mnb)) \n",
    "                                        * (tp_tvec_mnb/(tp_tvec_mnb+fn_tvec_mnb))) / ((tp_tvec_mnb/(tp_tvec_mnb+fp_tvec_mnb)) \n",
    "                                        + (tp_tvec_mnb/(tp_tvec_mnb+fn_tvec_mnb))))\n",
    "        model_results['ROC score']= 0.9779066108972461\n",
    "        model_results\n",
    "        df_list.append(model_results) \n",
    "    return (pd.DataFrame(df_list)).round(2)\n"
   ]
  },
  {
   "cell_type": "code",
   "execution_count": 192,
   "metadata": {},
   "outputs": [
    {
     "data": {
      "text/html": [
       "<div>\n",
       "<style scoped>\n",
       "    .dataframe tbody tr th:only-of-type {\n",
       "        vertical-align: middle;\n",
       "    }\n",
       "\n",
       "    .dataframe tbody tr th {\n",
       "        vertical-align: top;\n",
       "    }\n",
       "\n",
       "    .dataframe thead th {\n",
       "        text-align: right;\n",
       "    }\n",
       "</style>\n",
       "<table border=\"1\" class=\"dataframe\">\n",
       "  <thead>\n",
       "    <tr style=\"text-align: right;\">\n",
       "      <th></th>\n",
       "      <th>model</th>\n",
       "      <th>precision</th>\n",
       "      <th>baseline</th>\n",
       "      <th>Train Accuracy</th>\n",
       "      <th>Test Accuracy</th>\n",
       "      <th>confusion matrix</th>\n",
       "      <th>specificity</th>\n",
       "      <th>sensitivity</th>\n",
       "      <th>f1-score</th>\n",
       "      <th>ROC score</th>\n",
       "    </tr>\n",
       "  </thead>\n",
       "  <tbody>\n",
       "    <tr>\n",
       "      <th>0</th>\n",
       "      <td>TFIDF + MultinomialNB</td>\n",
       "      <td>0.92</td>\n",
       "      <td>0.69</td>\n",
       "      <td>0.92</td>\n",
       "      <td>0.89</td>\n",
       "      <td>{'TP': 72, 'FP': 6, 'TN': 229, 'FN': 31}</td>\n",
       "      <td>0.97</td>\n",
       "      <td>0.7</td>\n",
       "      <td>0.8</td>\n",
       "      <td>0.98</td>\n",
       "    </tr>\n",
       "  </tbody>\n",
       "</table>\n",
       "</div>"
      ],
      "text/plain": [
       "                   model  precision  baseline  Train Accuracy  Test Accuracy  \\\n",
       "0  TFIDF + MultinomialNB       0.92      0.69            0.92           0.89   \n",
       "\n",
       "                           confusion matrix  specificity  sensitivity  \\\n",
       "0  {'TP': 72, 'FP': 6, 'TN': 229, 'FN': 31}         0.97          0.7   \n",
       "\n",
       "   f1-score  ROC score  \n",
       "0       0.8       0.98  "
      ]
     },
     "execution_count": 192,
     "metadata": {},
     "output_type": "execute_result"
    }
   ],
   "source": [
    "columns_list = ['selftext']\n",
    "df_list=[]\n",
    "tvec_mnb_model(columns_list)"
   ]
  },
  {
   "cell_type": "code",
   "execution_count": 187,
   "metadata": {},
   "outputs": [],
   "source": [
    "pred_proba_tvec_mns = [i[1] for i in mnb_tvec_gs.predict_proba(X_test)]\n",
    "pred_df_tvec_mns = pd.DataFrame({'target_values': y_test,'pred_probs':pred_proba_tvec_mns})"
   ]
  },
  {
   "cell_type": "code",
   "execution_count": 188,
   "metadata": {},
   "outputs": [
    {
     "data": {
      "image/png": "[encoded data removed]",
      "text/plain": [
       "<Figure size 1152x576 with 1 Axes>"
      ]
     },
     "metadata": {
      "needs_background": "light"
     },
     "output_type": "display_data"
    }
   ],
   "source": [
    "# Create figure.\n",
    "plt.figure(figsize = (16,8))\n",
    "\n",
    "# Create two histograms of observations.\n",
    "plt.hist(pred_df_tvec_mns[pred_df_tvec_mns['target_values'] == 0]['pred_probs'],\n",
    "         bins=25,\n",
    "         color='b',\n",
    "         alpha = 0.6,\n",
    "         label='Outcome = 0')\n",
    "plt.hist(pred_df_tvec_mns[pred_df_tvec_mns['target_values'] == 1]['pred_probs'],\n",
    "         bins=25,\n",
    "         color='orange',\n",
    "         alpha = 0.6,\n",
    "         label='Outcome = 1')\n",
    "\n",
    "# Label axes.\n",
    "plt.title('Distribution of P(Outcome = 1)', fontsize=24)\n",
    "plt.ylabel('Frequency', fontsize=16)\n",
    "plt.xlabel('Predicted Probability that Outcome = 1', fontsize=16)\n",
    "\n",
    "# Create legend.\n",
    "plt.legend(fontsize=20, loc='upper center');"
   ]
  },
  {
   "cell_type": "markdown",
   "metadata": {},
   "source": [
    "#### Receiver Operating Characteristic"
   ]
  },
  {
   "cell_type": "code",
   "execution_count": 189,
   "metadata": {},
   "outputs": [
    {
     "data": {
      "text/plain": [
       "0.9779066108972461"
      ]
     },
     "execution_count": 189,
     "metadata": {},
     "output_type": "execute_result"
    }
   ],
   "source": [
    "pred_proba_tvec_mnb_Xtrain = [i[1] for i in mnb_tvec_gs.predict_proba(X_train)]\n",
    "pred_df_tvec_mnb_Xtrain = pd.DataFrame({'target_values': y_train,'pred_probs':pred_proba_tvec_mnb_Xtrain})\n",
    "roc_auc_score(y_train, pred_proba_tvec_mnb_Xtrain)"
   ]
  },
  {
   "cell_type": "code",
   "execution_count": 190,
   "metadata": {},
   "outputs": [
    {
     "data": {
      "image/png": "[encoded data removed]",
      "text/plain": [
       "<Figure size 1152x648 with 1 Axes>"
      ]
     },
     "metadata": {
      "needs_background": "light"
     },
     "output_type": "display_data"
    }
   ],
   "source": [
    "# Create figure.\n",
    "plt.figure(figsize = (16,9))\n",
    "\n",
    "# Create threshold values. (Dashed red line in image.)\n",
    "thresholds = np.linspace(0, 1, 200)\n",
    "\n",
    "# Define function to calculate sensitivity. (True positive rate.)\n",
    "def TPR(df, true_col, pred_prob_col, threshold):\n",
    "    true_positive = df[(df[true_col] == 1) & (df[pred_prob_col] >= threshold)].shape[0]\n",
    "    false_negative = df[(df[true_col] == 1) & (df[pred_prob_col] < threshold)].shape[0]\n",
    "    return true_positive / (true_positive + false_negative)\n",
    "    \n",
    "# Define function to calculate 1 - specificity. (False positive rate.)\n",
    "def FPR(df, true_col, pred_prob_col, threshold):\n",
    "    true_negative = df[(df[true_col] == 0) & (df[pred_prob_col] <= threshold)].shape[0]\n",
    "    false_positive = df[(df[true_col] == 0) & (df[pred_prob_col] > threshold)].shape[0]\n",
    "    return 1 - (true_negative / (true_negative + false_positive))\n",
    "    \n",
    "# Calculate sensitivity & 1-specificity for each threshold between 0 and 1.\n",
    "tpr_values = [TPR(pred_df_tvec_mnb_Xtrain, 'target_values', 'pred_probs', prob) for prob in thresholds]\n",
    "fpr_values = [FPR(pred_df_tvec_mnb_Xtrain, 'target_values', 'pred_probs', prob) for prob in thresholds]\n",
    "\n",
    "# Plot ROC curve.\n",
    "plt.plot(fpr_values, # False Positive Rate on X-axis\n",
    "         tpr_values, # True Positive Rate on Y-axis\n",
    "         label='ROC Curve')\n",
    "\n",
    "# Plot baseline. (Perfect overlap between the two populations.)\n",
    "plt.plot(np.linspace(0, 1, 200),\n",
    "         np.linspace(0, 1, 200),\n",
    "         label='baseline',\n",
    "         linestyle='--')\n",
    "\n",
    "# Label axes.\n",
    "plt.title(f\"ROC Curve with AUC = {round(roc_auc_score(pred_df_tvec_mnb_Xtrain['target_values'], pred_df_tvec_mnb_Xtrain['pred_probs']),3)}\", fontsize=22)\n",
    "plt.ylabel('Sensitivity', fontsize=18)\n",
    "plt.xlabel('1 - Specificity', fontsize=18)\n",
    "\n",
    "# Create legend.\n",
    "plt.legend(fontsize=16);"
   ]
  },
  {
   "cell_type": "markdown",
   "metadata": {},
   "source": [
    "<hr>"
   ]
  },
  {
   "cell_type": "markdown",
   "metadata": {},
   "source": [
    "<h3 style=\"color: blue\"> Counter Vectorization and Logistic Regression Model</h3>"
   ]
  },
  {
   "cell_type": "code",
   "execution_count": 212,
   "metadata": {},
   "outputs": [],
   "source": [
    "lr_cvec_pipeline = Pipeline([\n",
    "    (\"cvec\", CountVectorizer(token_pattern=\"[a-z]+[']?[a-z]*\", lowercase=True, stop_words='english')),\n",
    "    (\"lr\", LogisticRegression(solver='liblinear'))\n",
    "    ])"
   ]
  },
  {
   "cell_type": "code",
   "execution_count": 213,
   "metadata": {},
   "outputs": [],
   "source": [
    "lr_cvec_parameters = {\n",
    "    'cvec__max_features': [20, 30, 50],\n",
    "    'cvec__min_df': [2, 3],\n",
    "    'cvec__max_df': [.2, .25, .3],\n",
    "    'cvec__ngram_range':[(1,1),(1,2)],\n",
    "    'lr__penalty':['l1','l2']\n",
    "}"
   ]
  },
  {
   "cell_type": "code",
   "execution_count": 214,
   "metadata": {},
   "outputs": [
    {
     "name": "stdout",
     "output_type": "stream",
     "text": [
      "Fitting 10 folds for each of 72 candidates, totalling 720 fits\n"
     ]
    },
    {
     "name": "stderr",
     "output_type": "stream",
     "text": [
      "[Parallel(n_jobs=-2)]: Using backend LokyBackend with 3 concurrent workers.\n",
      "[Parallel(n_jobs=-2)]: Done  44 tasks      | elapsed:    4.8s\n",
      "[Parallel(n_jobs=-2)]: Done 194 tasks      | elapsed:   23.8s\n",
      "[Parallel(n_jobs=-2)]: Done 444 tasks      | elapsed:  1.0min\n",
      "[Parallel(n_jobs=-2)]: Done 720 out of 720 | elapsed:  1.9min finished\n"
     ]
    },
    {
     "name": "stdout",
     "output_type": "stream",
     "text": [
      "Best score: 0.848650747427684\n"
     ]
    }
   ],
   "source": [
    "lr_cvec_rs = GridSearchCV(lr_cvec_pipeline, param_grid=lr_cvec_parameters, cv= 10, n_jobs = -2, verbose=1)\n",
    "lr_cvec_rs.fit(X_train, y_train)\n",
    "\n",
    "print(f\"Best score: {lr_cvec_rs.best_score_}\")"
   ]
  },
  {
   "cell_type": "code",
   "execution_count": 215,
   "metadata": {},
   "outputs": [
    {
     "name": "stdout",
     "output_type": "stream",
     "text": [
      "Best parameters: {'cvec__max_df': 0.2, 'cvec__max_features': 50, 'cvec__min_df': 2, 'cvec__ngram_range': (1, 2), 'lr__penalty': 'l1'}\n"
     ]
    }
   ],
   "source": [
    "print(f\"Best parameters: {lr_cvec_rs.best_params_}\")"
   ]
  },
  {
   "cell_type": "code",
   "execution_count": 216,
   "metadata": {},
   "outputs": [
    {
     "name": "stdout",
     "output_type": "stream",
     "text": [
      "CVEC Train accuracy: 0.8753709198813057\n"
     ]
    }
   ],
   "source": [
    "print(f\"CVEC Train accuracy: {lr_cvec_rs.score(X_train, y_train)}\")"
   ]
  },
  {
   "cell_type": "code",
   "execution_count": 217,
   "metadata": {},
   "outputs": [
    {
     "name": "stdout",
     "output_type": "stream",
     "text": [
      "CVEC Test accuracy: 0.8431952662721893\n"
     ]
    }
   ],
   "source": [
    "print(f\"CVEC Test accuracy: {lr_cvec_rs.score(X_test, y_test)}\")"
   ]
  },
  {
   "cell_type": "markdown",
   "metadata": {},
   "source": [
    "#### Predictions and Confusion Matrix"
   ]
  },
  {
   "cell_type": "code",
   "execution_count": 218,
   "metadata": {},
   "outputs": [],
   "source": [
    "# Generate the Prediction\n",
    "preds_cvec_lr = lr_cvec_rs.predict(X_test)"
   ]
  },
  {
   "cell_type": "code",
   "execution_count": 219,
   "metadata": {},
   "outputs": [
    {
     "data": {
      "text/plain": [
       "array([[222,  13],\n",
       "       [ 40,  63]])"
      ]
     },
     "execution_count": 219,
     "metadata": {},
     "output_type": "execute_result"
    }
   ],
   "source": [
    "confusion_matrix(y_test, preds_cvec_lr)"
   ]
  },
  {
   "cell_type": "code",
   "execution_count": 220,
   "metadata": {},
   "outputs": [],
   "source": [
    "tn_cvec_lr, fp_cvec_lr, fn_cvec_lr, tp_cvec_lr = confusion_matrix(y_test, preds_cvec_lr).ravel()"
   ]
  },
  {
   "cell_type": "code",
   "execution_count": 229,
   "metadata": {},
   "outputs": [],
   "source": [
    "# Function to show all the result in table\n",
    "def cvec_lr_model (columns_list):\n",
    "    for i in columns_list:\n",
    "        model_results = {}\n",
    "        model_results['model'] = \"CVEC + LogReg\"\n",
    "        model_results['precision']= tp_cvec_lr/(tp_cvec_lr+fp_cvec_lr)\n",
    "        model_results['baseline']= 0.69\n",
    "        model_results['Train Accuracy'] = lr_cvec_rs.score(X_train, y_train)\n",
    "        model_results['Test Accuracy'] = lr_cvec_rs.score(X_test, y_test)\n",
    "        model_results['confusion matrix']={\"TP\": tp_cvec_lr,\"FP\":fp_cvec_lr, \"TN\": tn_cvec_lr, \"FN\": fn_cvec_lr}\n",
    "        model_results['specificity']= tn_cvec_lr/(tn_cvec_lr+fp_cvec_lr)\n",
    "        model_results['sensitivity']= tp_cvec_lr/(tp_cvec_lr+fn_cvec_lr)\n",
    "        model_results['f1-score']= 2 * (((tp_cvec_lr/(tp_cvec_lr+fp_cvec_lr)) \n",
    "                                        * (tp_cvec_lr/(tp_cvec_lr+fn_cvec_lr))) / ((tp_cvec_lr/(tp_cvec_lr+fp_cvec_lr)) \n",
    "                                        + (tp_cvec_lr/(tp_cvec_lr+fn_cvec_lr))))\n",
    "        model_results['ROC score']= 0.9294630959431448\n",
    "        model_results\n",
    "        df_list.append(model_results) \n",
    "    return (pd.DataFrame(df_list)).round(2)\n"
   ]
  },
  {
   "cell_type": "code",
   "execution_count": 230,
   "metadata": {},
   "outputs": [
    {
     "data": {
      "text/html": [
       "<div>\n",
       "<style scoped>\n",
       "    .dataframe tbody tr th:only-of-type {\n",
       "        vertical-align: middle;\n",
       "    }\n",
       "\n",
       "    .dataframe tbody tr th {\n",
       "        vertical-align: top;\n",
       "    }\n",
       "\n",
       "    .dataframe thead th {\n",
       "        text-align: right;\n",
       "    }\n",
       "</style>\n",
       "<table border=\"1\" class=\"dataframe\">\n",
       "  <thead>\n",
       "    <tr style=\"text-align: right;\">\n",
       "      <th></th>\n",
       "      <th>model</th>\n",
       "      <th>precision</th>\n",
       "      <th>baseline</th>\n",
       "      <th>Train Accuracy</th>\n",
       "      <th>Test Accuracy</th>\n",
       "      <th>confusion matrix</th>\n",
       "      <th>specificity</th>\n",
       "      <th>sensitivity</th>\n",
       "      <th>f1-score</th>\n",
       "      <th>ROC score</th>\n",
       "    </tr>\n",
       "  </thead>\n",
       "  <tbody>\n",
       "    <tr>\n",
       "      <th>0</th>\n",
       "      <td>CVEC + LogReg</td>\n",
       "      <td>0.83</td>\n",
       "      <td>0.69</td>\n",
       "      <td>0.88</td>\n",
       "      <td>0.84</td>\n",
       "      <td>{'TP': 63, 'FP': 13, 'TN': 222, 'FN': 40}</td>\n",
       "      <td>0.94</td>\n",
       "      <td>0.61</td>\n",
       "      <td>0.7</td>\n",
       "      <td>0.93</td>\n",
       "    </tr>\n",
       "  </tbody>\n",
       "</table>\n",
       "</div>"
      ],
      "text/plain": [
       "           model  precision  baseline  Train Accuracy  Test Accuracy  \\\n",
       "0  CVEC + LogReg       0.83      0.69            0.88           0.84   \n",
       "\n",
       "                            confusion matrix  specificity  sensitivity  \\\n",
       "0  {'TP': 63, 'FP': 13, 'TN': 222, 'FN': 40}         0.94         0.61   \n",
       "\n",
       "   f1-score  ROC score  \n",
       "0       0.7       0.93  "
      ]
     },
     "execution_count": 230,
     "metadata": {},
     "output_type": "execute_result"
    }
   ],
   "source": [
    "columns_list = ['selftext']\n",
    "df_list=[]\n",
    "cvec_lr_model(columns_list)"
   ]
  },
  {
   "cell_type": "code",
   "execution_count": 223,
   "metadata": {},
   "outputs": [],
   "source": [
    "pred_proba_cvec_lr = [i[1] for i in lr_cvec_rs.predict_proba(X_test)]\n",
    "pred_df_cvec_lr = pd.DataFrame({'target_values': y_test,'pred_probs':pred_proba_cvec_lr})"
   ]
  },
  {
   "cell_type": "code",
   "execution_count": 224,
   "metadata": {},
   "outputs": [
    {
     "data": {
      "image/png": "[encoded data removed]",
      "text/plain": [
       "<Figure size 1152x576 with 1 Axes>"
      ]
     },
     "metadata": {
      "needs_background": "light"
     },
     "output_type": "display_data"
    }
   ],
   "source": [
    "# Create figure.\n",
    "plt.figure(figsize = (16,8))\n",
    "\n",
    "# Create two histograms of observations.\n",
    "plt.hist(pred_df_cvec_lr[pred_df_cvec_lr['target_values'] == 0]['pred_probs'],\n",
    "         bins=25,\n",
    "         color='b',\n",
    "         alpha = 0.6,\n",
    "         label='Outcome = 0')\n",
    "plt.hist(pred_df_cvec_lr[pred_df_cvec_lr['target_values'] == 1]['pred_probs'],\n",
    "         bins=25,\n",
    "         color='orange',\n",
    "         alpha = 0.6,\n",
    "         label='Outcome = 1')\n",
    "\n",
    "# Label axes.\n",
    "plt.title('Distribution of P(Outcome = 1)', fontsize=24)\n",
    "plt.ylabel('Frequency', fontsize=16)\n",
    "plt.xlabel('Predicted Probability that Outcome = 1', fontsize=16)\n",
    "\n",
    "# Create legend.\n",
    "plt.legend(fontsize=20, loc='upper center');"
   ]
  },
  {
   "cell_type": "markdown",
   "metadata": {},
   "source": [
    "#### Receiver Operating Characteristic"
   ]
  },
  {
   "cell_type": "code",
   "execution_count": 227,
   "metadata": {},
   "outputs": [
    {
     "data": {
      "text/plain": [
       "0.9294630959431448"
      ]
     },
     "execution_count": 227,
     "metadata": {},
     "output_type": "execute_result"
    }
   ],
   "source": [
    "pred_proba_cvec_lr_Xtrain = [i[1] for i in lr_cvec_rs.predict_proba(X_train)]\n",
    "pred_df_cvec_lr_Xtrain = pd.DataFrame({'target_values': y_train,'pred_probs':pred_proba_cvec_lr_Xtrain})\n",
    "roc_auc_score(y_train, pred_proba_cvec_lr_Xtrain)"
   ]
  },
  {
   "cell_type": "code",
   "execution_count": 228,
   "metadata": {},
   "outputs": [
    {
     "data": {
      "image/png": "[encoded data removed]",
      "text/plain": [
       "<Figure size 1152x648 with 1 Axes>"
      ]
     },
     "metadata": {
      "needs_background": "light"
     },
     "output_type": "display_data"
    }
   ],
   "source": [
    "# Create figure.\n",
    "plt.figure(figsize = (16,9))\n",
    "\n",
    "# Create threshold values. (Dashed red line in image.)\n",
    "thresholds = np.linspace(0, 1, 200)\n",
    "\n",
    "# Define function to calculate sensitivity. (True positive rate.)\n",
    "def TPR(df, true_col, pred_prob_col, threshold):\n",
    "    true_positive = df[(df[true_col] == 1) & (df[pred_prob_col] >= threshold)].shape[0]\n",
    "    false_negative = df[(df[true_col] == 1) & (df[pred_prob_col] < threshold)].shape[0]\n",
    "    return true_positive / (true_positive + false_negative)\n",
    "    \n",
    "# Define function to calculate 1 - specificity. (False positive rate.)\n",
    "def FPR(df, true_col, pred_prob_col, threshold):\n",
    "    true_negative = df[(df[true_col] == 0) & (df[pred_prob_col] <= threshold)].shape[0]\n",
    "    false_positive = df[(df[true_col] == 0) & (df[pred_prob_col] > threshold)].shape[0]\n",
    "    return 1 - (true_negative / (true_negative + false_positive))\n",
    "    \n",
    "# Calculate sensitivity & 1-specificity for each threshold between 0 and 1.\n",
    "tpr_values = [TPR(pred_df_cvec_lr_Xtrain, 'target_values', 'pred_probs', prob) for prob in thresholds]\n",
    "fpr_values = [FPR(pred_df_cvec_lr_Xtrain, 'target_values', 'pred_probs', prob) for prob in thresholds]\n",
    "\n",
    "# Plot ROC curve.\n",
    "plt.plot(fpr_values, # False Positive Rate on X-axis\n",
    "         tpr_values, # True Positive Rate on Y-axis\n",
    "         label='ROC Curve')\n",
    "\n",
    "# Plot baseline. (Perfect overlap between the two populations.)\n",
    "plt.plot(np.linspace(0, 1, 200),\n",
    "         np.linspace(0, 1, 200),\n",
    "         label='baseline',\n",
    "         linestyle='--')\n",
    "\n",
    "# Label axes.\n",
    "plt.title(f\"ROC Curve with AUC = {round(roc_auc_score(pred_df_cvec_lr_Xtrain['target_values'], pred_df_cvec_lr_Xtrain['pred_probs']),3)}\", fontsize=22)\n",
    "plt.ylabel('Sensitivity', fontsize=18)\n",
    "plt.xlabel('1 - Specificity', fontsize=18)\n",
    "\n",
    "# Create legend.\n",
    "plt.legend(fontsize=16);"
   ]
  },
  {
   "cell_type": "markdown",
   "metadata": {},
   "source": [
    "<hr>"
   ]
  },
  {
   "cell_type": "markdown",
   "metadata": {},
   "source": [
    "<h3 style=\"color: blue\">TFIDF Vectorization and Logistic Regression Model</h3>"
   ]
  },
  {
   "cell_type": "code",
   "execution_count": 121,
   "metadata": {},
   "outputs": [],
   "source": [
    "lr_tvec_pipeline = Pipeline([\n",
    "    (\"tvec\", TfidfVectorizer(token_pattern=\"[a-z]+[']?[a-z]*\", lowercase=True, stop_words='english')),\n",
    "    (\"lr\", LogisticRegression())\n",
    "    ])"
   ]
  },
  {
   "cell_type": "code",
   "execution_count": 231,
   "metadata": {},
   "outputs": [],
   "source": [
    "lr_tvec_parameters = {\n",
    "    'tvec__max_features': [250, 500],\n",
    "    'tvec__min_df': [2, 3],\n",
    "    'tvec__max_df': [.2, .3],\n",
    "    'tvec__ngram_range':[(1,1),(1,2)],\n",
    "    'lr__penalty':['l1','l2'],\n",
    "    }"
   ]
  },
  {
   "cell_type": "markdown",
   "metadata": {},
   "source": [
    "#### Fitting using RandomizedSearchCV"
   ]
  },
  {
   "cell_type": "code",
   "execution_count": 232,
   "metadata": {},
   "outputs": [
    {
     "name": "stdout",
     "output_type": "stream",
     "text": [
      "Fitting 10 folds for each of 10 candidates, totalling 100 fits\n"
     ]
    },
    {
     "name": "stderr",
     "output_type": "stream",
     "text": [
      "[Parallel(n_jobs=1)]: Using backend SequentialBackend with 1 concurrent workers.\n",
      "[Parallel(n_jobs=1)]: Done 100 out of 100 | elapsed:   27.7s finished\n"
     ]
    },
    {
     "name": "stdout",
     "output_type": "stream",
     "text": [
      "Best score: 0.9139196272568434\n"
     ]
    }
   ],
   "source": [
    "lr_tvec_rs = RandomizedSearchCV(lr_tvec_pipeline, param_distributions=lr_tvec_parameters, cv= 10, verbose=1)\n",
    "lr_tvec_rs.fit(X_train, y_train)\n",
    "print(f\"Best score: {lr_tvec_rs.best_score_}\")"
   ]
  },
  {
   "cell_type": "code",
   "execution_count": 233,
   "metadata": {},
   "outputs": [
    {
     "name": "stdout",
     "output_type": "stream",
     "text": [
      "Best parameters: {'tvec__ngram_range': (1, 2), 'tvec__min_df': 2, 'tvec__max_features': 250, 'tvec__max_df': 0.3, 'lr__penalty': 'l2'}\n"
     ]
    }
   ],
   "source": [
    "print(f\"Best parameters: {lr_tvec_rs.best_params_}\")"
   ]
  },
  {
   "cell_type": "code",
   "execution_count": 234,
   "metadata": {},
   "outputs": [
    {
     "name": "stdout",
     "output_type": "stream",
     "text": [
      "TVEC Train accuracy: 0.9416419386745796\n"
     ]
    }
   ],
   "source": [
    "print(f\"TVEC Train accuracy: {lr_tvec_rs.score(X_train, y_train)}\")"
   ]
  },
  {
   "cell_type": "code",
   "execution_count": 235,
   "metadata": {},
   "outputs": [
    {
     "name": "stdout",
     "output_type": "stream",
     "text": [
      "TVEC Test accuracy: 0.8964497041420119\n"
     ]
    }
   ],
   "source": [
    "print(f\"TVEC Test accuracy: {lr_tvec_rs.score(X_test, y_test)}\")"
   ]
  },
  {
   "cell_type": "markdown",
   "metadata": {},
   "source": [
    "#### Predictions and Confusion Matrix"
   ]
  },
  {
   "cell_type": "code",
   "execution_count": 236,
   "metadata": {},
   "outputs": [],
   "source": [
    "# Generate the Prediction\n",
    "preds_tvec_lr = lr_tvec_rs.predict(X_test)"
   ]
  },
  {
   "cell_type": "code",
   "execution_count": 237,
   "metadata": {},
   "outputs": [
    {
     "data": {
      "text/plain": [
       "array([[229,   6],\n",
       "       [ 29,  74]])"
      ]
     },
     "execution_count": 237,
     "metadata": {},
     "output_type": "execute_result"
    }
   ],
   "source": [
    "confusion_matrix(y_test, preds_tvec_lr)"
   ]
  },
  {
   "cell_type": "code",
   "execution_count": 238,
   "metadata": {},
   "outputs": [],
   "source": [
    "tn_tvec_lr, fp_tvec_lr, fn_tvec_lr, tp_tvec_lr = confusion_matrix(y_test, preds_tvec_lr).ravel()"
   ]
  },
  {
   "cell_type": "code",
   "execution_count": 254,
   "metadata": {},
   "outputs": [],
   "source": [
    "# Function to show all the result in table\n",
    "def tvec_lr_model (columns_list):\n",
    "    for i in columns_list:\n",
    "        model_results = {}\n",
    "        model_results['model'] = \"TFIDF + LogReg\"\n",
    "        model_results['precision']= tp_tvec_lr/(tp_tvec_lr+fp_tvec_lr)\n",
    "        model_results['baseline']= 0.69\n",
    "        model_results['Train Accuracy'] = lr_tvec_rs.score(X_train, y_train)\n",
    "        model_results['Test Accuracy'] = lr_tvec_rs.score(X_test, y_test)\n",
    "        model_results['confusion matrix']={\"TP\": tp_tvec_lr,\"FP\":fp_tvec_lr, \"TN\": tn_tvec_lr, \"FN\": fn_tvec_lr}\n",
    "        model_results['specificity']= tn_tvec_lr/(tn_tvec_lr+fp_tvec_lr)\n",
    "        model_results['sensitivity']= tp_tvec_lr/(tp_tvec_lr+fn_tvec_lr)\n",
    "        model_results['f1-score']= 2 * (((tp_tvec_lr/(tp_tvec_lr+fp_tvec_lr)) \n",
    "                                        * (tp_tvec_lr/(tp_tvec_lr+fn_tvec_lr))) / ((tp_tvec_lr/(tp_tvec_lr+fp_tvec_lr)) \n",
    "                                        + (tp_tvec_lr/(tp_tvec_lr+fn_tvec_lr))))\n",
    "        model_results['ROC score']= 0.9843773134438851\n",
    "        model_results\n",
    "        df_list.append(model_results) \n",
    "    return (pd.DataFrame(df_list)).round(2)\n"
   ]
  },
  {
   "cell_type": "code",
   "execution_count": 255,
   "metadata": {},
   "outputs": [
    {
     "data": {
      "text/html": [
       "<div>\n",
       "<style scoped>\n",
       "    .dataframe tbody tr th:only-of-type {\n",
       "        vertical-align: middle;\n",
       "    }\n",
       "\n",
       "    .dataframe tbody tr th {\n",
       "        vertical-align: top;\n",
       "    }\n",
       "\n",
       "    .dataframe thead th {\n",
       "        text-align: right;\n",
       "    }\n",
       "</style>\n",
       "<table border=\"1\" class=\"dataframe\">\n",
       "  <thead>\n",
       "    <tr style=\"text-align: right;\">\n",
       "      <th></th>\n",
       "      <th>model</th>\n",
       "      <th>precision</th>\n",
       "      <th>baseline</th>\n",
       "      <th>Train Accuracy</th>\n",
       "      <th>Test Accuracy</th>\n",
       "      <th>confusion matrix</th>\n",
       "      <th>specificity</th>\n",
       "      <th>sensitivity</th>\n",
       "      <th>f1-score</th>\n",
       "      <th>ROC score</th>\n",
       "    </tr>\n",
       "  </thead>\n",
       "  <tbody>\n",
       "    <tr>\n",
       "      <th>0</th>\n",
       "      <td>TFIDF + LogReg</td>\n",
       "      <td>0.92</td>\n",
       "      <td>0.69</td>\n",
       "      <td>0.94</td>\n",
       "      <td>0.9</td>\n",
       "      <td>{'TP': 74, 'FP': 6, 'TN': 229, 'FN': 29}</td>\n",
       "      <td>0.97</td>\n",
       "      <td>0.72</td>\n",
       "      <td>0.81</td>\n",
       "      <td>0.98</td>\n",
       "    </tr>\n",
       "  </tbody>\n",
       "</table>\n",
       "</div>"
      ],
      "text/plain": [
       "            model  precision  baseline  Train Accuracy  Test Accuracy  \\\n",
       "0  TFIDF + LogReg       0.92      0.69            0.94            0.9   \n",
       "\n",
       "                           confusion matrix  specificity  sensitivity  \\\n",
       "0  {'TP': 74, 'FP': 6, 'TN': 229, 'FN': 29}         0.97         0.72   \n",
       "\n",
       "   f1-score  ROC score  \n",
       "0      0.81       0.98  "
      ]
     },
     "execution_count": 255,
     "metadata": {},
     "output_type": "execute_result"
    }
   ],
   "source": [
    "columns_list = ['selftext']\n",
    "df_list=[]\n",
    "tvec_lr_model(columns_list)"
   ]
  },
  {
   "cell_type": "code",
   "execution_count": 250,
   "metadata": {},
   "outputs": [],
   "source": [
    "pred_proba_tvec_lr = [i[1] for i in lr_tvec_rs.predict_proba(X_test)]\n",
    "pred_df_tvec_lr = pd.DataFrame({'target_values': y_test,'pred_probs':pred_proba_tvec_lr})"
   ]
  },
  {
   "cell_type": "code",
   "execution_count": 251,
   "metadata": {},
   "outputs": [
    {
     "data": {
      "image/png": "[encoded data removed]",
      "text/plain": [
       "<Figure size 1152x576 with 1 Axes>"
      ]
     },
     "metadata": {
      "needs_background": "light"
     },
     "output_type": "display_data"
    }
   ],
   "source": [
    "# Create figure.\n",
    "plt.figure(figsize = (16,8))\n",
    "\n",
    "# Create two histograms of observations.\n",
    "plt.hist(pred_df_tvec_lr[pred_df_tvec_lr['target_values'] == 0]['pred_probs'],\n",
    "         bins=25,\n",
    "         color='b',\n",
    "         alpha = 0.6,\n",
    "         label='Outcome = 0')\n",
    "plt.hist(pred_df_tvec_lr[pred_df_tvec_lr['target_values'] == 1]['pred_probs'],\n",
    "         bins=25,\n",
    "         color='orange',\n",
    "         alpha = 0.6,\n",
    "         label='Outcome = 1')\n",
    "\n",
    "# Label axes.\n",
    "plt.title('Distribution of P(Outcome = 1)', fontsize=24)\n",
    "plt.ylabel('Frequency', fontsize=16)\n",
    "plt.xlabel('Predicted Probability that Outcome = 1', fontsize=16)\n",
    "\n",
    "# Create legend.\n",
    "plt.legend(fontsize=20, loc='upper center');"
   ]
  },
  {
   "cell_type": "markdown",
   "metadata": {},
   "source": [
    "#### Receiver Operating Characteristic"
   ]
  },
  {
   "cell_type": "code",
   "execution_count": 252,
   "metadata": {},
   "outputs": [
    {
     "data": {
      "text/plain": [
       "0.9843773134438851"
      ]
     },
     "execution_count": 252,
     "metadata": {},
     "output_type": "execute_result"
    }
   ],
   "source": [
    "pred_proba_tvec_lr_Xtrain = [i[1] for i in lr_tvec_rs.predict_proba(X_train)]\n",
    "pred_df_tvec_lr_Xtrain = pd.DataFrame({'target_values': y_train,'pred_probs':pred_proba_tvec_lr_Xtrain})\n",
    "roc_auc_score(y_train, pred_proba_tvec_lr_Xtrain)"
   ]
  },
  {
   "cell_type": "code",
   "execution_count": 253,
   "metadata": {},
   "outputs": [
    {
     "data": {
      "image/png": "[encoded data removed]",
      "text/plain": [
       "<Figure size 1152x648 with 1 Axes>"
      ]
     },
     "metadata": {
      "needs_background": "light"
     },
     "output_type": "display_data"
    }
   ],
   "source": [
    "# Create figure.\n",
    "plt.figure(figsize = (16,9))\n",
    "\n",
    "# Create threshold values. (Dashed red line in image.)\n",
    "thresholds = np.linspace(0, 1, 200)\n",
    "\n",
    "# Define function to calculate sensitivity. (True positive rate.)\n",
    "def TPR(df, true_col, pred_prob_col, threshold):\n",
    "    true_positive = df[(df[true_col] == 1) & (df[pred_prob_col] >= threshold)].shape[0]\n",
    "    false_negative = df[(df[true_col] == 1) & (df[pred_prob_col] < threshold)].shape[0]\n",
    "    return true_positive / (true_positive + false_negative)\n",
    "    \n",
    "# Define function to calculate 1 - specificity. (False positive rate.)\n",
    "def FPR(df, true_col, pred_prob_col, threshold):\n",
    "    true_negative = df[(df[true_col] == 0) & (df[pred_prob_col] <= threshold)].shape[0]\n",
    "    false_positive = df[(df[true_col] == 0) & (df[pred_prob_col] > threshold)].shape[0]\n",
    "    return 1 - (true_negative / (true_negative + false_positive))\n",
    "    \n",
    "# Calculate sensitivity & 1-specificity for each threshold between 0 and 1.\n",
    "tpr_values = [TPR(pred_df_tvec_lr_Xtrain, 'target_values', 'pred_probs', prob) for prob in thresholds]\n",
    "fpr_values = [FPR(pred_df_tvec_lr_Xtrain, 'target_values', 'pred_probs', prob) for prob in thresholds]\n",
    "\n",
    "# Plot ROC curve.\n",
    "plt.plot(fpr_values, # False Positive Rate on X-axis\n",
    "         tpr_values, # True Positive Rate on Y-axis\n",
    "         label='ROC Curve')\n",
    "\n",
    "# Plot baseline. (Perfect overlap between the two populations.)\n",
    "plt.plot(np.linspace(0, 1, 200),\n",
    "         np.linspace(0, 1, 200),\n",
    "         label='baseline',\n",
    "         linestyle='--')\n",
    "\n",
    "# Label axes.\n",
    "plt.title(f\"ROC Curve with AUC = {round(roc_auc_score(pred_df_tvec_lr_Xtrain['target_values'], pred_df_tvec_lr_Xtrain['pred_probs']),3)}\", fontsize=22)\n",
    "plt.ylabel('Sensitivity', fontsize=18)\n",
    "plt.xlabel('1 - Specificity', fontsize=18)\n",
    "\n",
    "# Create legend.\n",
    "plt.legend(fontsize=16);"
   ]
  }
 ],
 "metadata": {
  "kernelspec": {
   "display_name": "Python 3",
   "language": "python",
   "name": "python3"
  },
  "language_info": {
   "codemirror_mode": {
    "name": "ipython",
    "version": 3
   },
   "file_extension": ".py",
   "mimetype": "text/x-python",
   "name": "python",
   "nbconvert_exporter": "python",
   "pygments_lexer": "ipython3",
   "version": "3.7.6"
  }
 },
 "nbformat": 4,
 "nbformat_minor": 4
}
